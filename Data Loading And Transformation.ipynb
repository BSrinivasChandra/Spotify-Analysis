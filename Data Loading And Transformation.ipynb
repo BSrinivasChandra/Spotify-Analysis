{
 "cells": [
  {
   "cell_type": "code",
   "execution_count": 0,
   "metadata": {
    "application/vnd.databricks.v1+cell": {
     "cellMetadata": {
      "byteLimit": 2048000,
      "rowLimit": 10000
     },
     "inputWidgets": {},
     "nuid": "c4ddec8c-a604-4fa2-902d-6b3176232598",
     "showTitle": true,
     "title": ""
    }
   },
   "outputs": [
    {
     "output_type": "display_data",
     "data": {
      "text/html": [
       "<style scoped>\n",
       "  .table-result-container {\n",
       "    max-height: 300px;\n",
       "    overflow: auto;\n",
       "  }\n",
       "  table, th, td {\n",
       "    border: 1px solid black;\n",
       "    border-collapse: collapse;\n",
       "  }\n",
       "  th, td {\n",
       "    padding: 5px;\n",
       "  }\n",
       "  th {\n",
       "    text-align: left;\n",
       "  }\n",
       "</style><div class='table-result-container'><table class='table-result'><thead style='background-color: white'><tr><th>path</th><th>name</th><th>size</th><th>modificationTime</th></tr></thead><tbody><tr><td>dbfs:/FileStore/tables/Streaming_History_Audio_2019_2024.json</td><td>Streaming_History_Audio_2019_2024.json</td><td>10346066</td><td>1714233022000</td></tr></tbody></table></div>"
      ]
     },
     "metadata": {
      "application/vnd.databricks.v1+output": {
       "addedWidgets": {},
       "aggData": [],
       "aggError": "",
       "aggOverflow": false,
       "aggSchema": [],
       "aggSeriesLimitReached": false,
       "aggType": "",
       "arguments": {},
       "columnCustomDisplayInfos": {},
       "data": [
        [
         "dbfs:/FileStore/tables/Streaming_History_Audio_2019_2024.json",
         "Streaming_History_Audio_2019_2024.json",
         10346066,
         1714233022000
        ]
       ],
       "datasetInfos": [],
       "dbfsResultPath": null,
       "isJsonSchema": true,
       "metadata": {
        "isDbfsCommandResult": false
       },
       "overflow": false,
       "plotOptions": {
        "customPlotOptions": {},
        "displayType": "table",
        "pivotAggregation": null,
        "pivotColumns": null,
        "xColumns": null,
        "yColumns": null
       },
       "removedWidgets": [],
       "schema": [
        {
         "metadata": "{}",
         "name": "path",
         "type": "\"string\""
        },
        {
         "metadata": "{}",
         "name": "name",
         "type": "\"string\""
        },
        {
         "metadata": "{}",
         "name": "size",
         "type": "\"long\""
        },
        {
         "metadata": "{}",
         "name": "modificationTime",
         "type": "\"long\""
        }
       ],
       "type": "table"
      }
     },
     "output_type": "display_data"
    }
   ],
   "source": [
    "%fs\n",
    "ls FileStore/tables"
   ]
  },
  {
   "cell_type": "code",
   "execution_count": 0,
   "metadata": {
    "application/vnd.databricks.v1+cell": {
     "cellMetadata": {
      "byteLimit": 2048000,
      "rowLimit": 10000
     },
     "inputWidgets": {},
     "nuid": "97b42037-4869-4d71-86f3-9f1842aa55c6",
     "showTitle": false,
     "title": ""
    }
   },
   "outputs": [
    {
     "output_type": "execute_result",
     "data": {
      "text/plain": [
       "[FileInfo(path='dbfs:/FileStore/tables/Streaming_History_Audio_2019_2024.json', name='Streaming_History_Audio_2019_2024.json', size=10346066, modificationTime=1714233022000)]"
      ]
     },
     "execution_count": 70,
     "metadata": {},
     "output_type": "execute_result"
    }
   ],
   "source": [
    "dbutils.fs.ls('dbfs:/FileStore/tables')"
   ]
  },
  {
   "cell_type": "code",
   "execution_count": 0,
   "metadata": {
    "application/vnd.databricks.v1+cell": {
     "cellMetadata": {
      "byteLimit": 2048000,
      "rowLimit": 10000
     },
     "inputWidgets": {},
     "nuid": "1aed7712-a5cc-47b4-85aa-1f16837e9456",
     "showTitle": true,
     "title": "EDA & Transformation"
    }
   },
   "outputs": [],
   "source": [
    "df = spark.read.option('multiline', 'true').json('dbfs:/FileStore/tables/Streaming_History_Audio_2019_2024.json')"
   ]
  },
  {
   "cell_type": "code",
   "execution_count": 0,
   "metadata": {
    "application/vnd.databricks.v1+cell": {
     "cellMetadata": {
      "byteLimit": 2048000,
      "rowLimit": 10000
     },
     "inputWidgets": {},
     "nuid": "47bc9015-f9bf-48a4-bc7e-65882328bfca",
     "showTitle": false,
     "title": ""
    }
   },
   "outputs": [
    {
     "output_type": "stream",
     "name": "stdout",
     "output_type": "stream",
     "text": [
      "root\n |-- conn_country: string (nullable = true)\n |-- episode_name: string (nullable = true)\n |-- episode_show_name: string (nullable = true)\n |-- incognito_mode: boolean (nullable = true)\n |-- ip_addr_decrypted: string (nullable = true)\n |-- master_metadata_album_album_name: string (nullable = true)\n |-- master_metadata_album_artist_name: string (nullable = true)\n |-- master_metadata_track_name: string (nullable = true)\n |-- ms_played: long (nullable = true)\n |-- offline: boolean (nullable = true)\n |-- offline_timestamp: long (nullable = true)\n |-- platform: string (nullable = true)\n |-- reason_end: string (nullable = true)\n |-- reason_start: string (nullable = true)\n |-- shuffle: boolean (nullable = true)\n |-- skipped: boolean (nullable = true)\n |-- spotify_episode_uri: string (nullable = true)\n |-- spotify_track_uri: string (nullable = true)\n |-- ts: string (nullable = true)\n |-- user_agent_decrypted: string (nullable = true)\n |-- username: string (nullable = true)\n\n"
     ]
    }
   ],
   "source": [
    "df.printSchema()"
   ]
  },
  {
   "cell_type": "code",
   "execution_count": 0,
   "metadata": {
    "application/vnd.databricks.v1+cell": {
     "cellMetadata": {
      "byteLimit": 2048000,
      "rowLimit": 10000
     },
     "inputWidgets": {},
     "nuid": "7d4bd555-ab83-4d0e-bf2e-035b6184159e",
     "showTitle": false,
     "title": ""
    }
   },
   "outputs": [
    {
     "output_type": "execute_result",
     "data": {
      "text/plain": [
       "21"
      ]
     },
     "execution_count": 73,
     "metadata": {},
     "output_type": "execute_result"
    }
   ],
   "source": [
    "# No. of Columns in df dataset\n",
    "len(df.columns)"
   ]
  },
  {
   "cell_type": "code",
   "execution_count": 0,
   "metadata": {
    "application/vnd.databricks.v1+cell": {
     "cellMetadata": {
      "byteLimit": 2048000,
      "rowLimit": 10000
     },
     "inputWidgets": {},
     "nuid": "b22f3138-9754-4415-a5eb-599cc2b390f4",
     "showTitle": false,
     "title": ""
    }
   },
   "outputs": [
    {
     "output_type": "execute_result",
     "data": {
      "text/plain": [
       "13569"
      ]
     },
     "execution_count": 74,
     "metadata": {},
     "output_type": "execute_result"
    }
   ],
   "source": [
    "# Total no of records in dataset.\n",
    "df.count()"
   ]
  },
  {
   "cell_type": "code",
   "execution_count": 0,
   "metadata": {
    "application/vnd.databricks.v1+cell": {
     "cellMetadata": {
      "byteLimit": 2048000,
      "rowLimit": 10000
     },
     "inputWidgets": {},
     "nuid": "9f768c06-f9b2-43ec-b2d7-81bd9fd7cb9d",
     "showTitle": false,
     "title": ""
    }
   },
   "outputs": [
    {
     "output_type": "stream",
     "name": "stdout",
     "output_type": "stream",
     "text": [
      "+------------+------------+-----------------+--------------+-----------------+--------------------------------+---------------------------------+--------------------------+---------+-------+-----------------+--------------------+----------+------------+-------+-------+-------------------+--------------------+--------------------+--------------------+--------------------+\n|conn_country|episode_name|episode_show_name|incognito_mode|ip_addr_decrypted|master_metadata_album_album_name|master_metadata_album_artist_name|master_metadata_track_name|ms_played|offline|offline_timestamp|            platform|reason_end|reason_start|shuffle|skipped|spotify_episode_uri|   spotify_track_uri|                  ts|user_agent_decrypted|            username|\n+------------+------------+-----------------+--------------+-----------------+--------------------------------+---------------------------------+--------------------------+---------+-------+-----------------+--------------------+----------+------------+-------+-------+-------------------+--------------------+--------------------+--------------------+--------------------+\n|          IN|        NULL|             NULL|         false|   106.76.203.184|            So Far Away (feat...|                    Martin Garrix|      So Far Away (feat...|    31118|  false|    1556682399506|Android-tablet OS...|   endplay|    clickrow|  false|   NULL|               NULL|spotify:track:0Ol...|2019-05-01T03:45:22Z|             unknown|sizadnwyjbypwfamy...|\n|          IN|        NULL|             NULL|         false|   106.76.203.184|                       Boomerang|                           Brooks|                 Boomerang|        0|  false|    1556682436279|Android-tablet OS...|   endplay|    clickrow|  false|   NULL|               NULL|spotify:track:6Gw...|2019-05-01T03:45:22Z|             unknown|sizadnwyjbypwfamy...|\n|          IN|        NULL|             NULL|         false|   106.76.203.184|                       Boomerang|                           Brooks|                 Boomerang|    24928|  false|    1556682437210|Android-tablet OS...|   backbtn|    clickrow|  false|   NULL|               NULL|spotify:track:6Gw...|2019-05-01T03:45:48Z|             unknown|sizadnwyjbypwfamy...|\n|          IN|        NULL|             NULL|         false|   106.76.203.184|                           Seven|                    Martin Garrix|      Sun Is Never Goin...|     1960|  false|    1556682463780|Android-tablet OS...|   endplay|     backbtn|  false|   NULL|               NULL|spotify:track:6x7...|2019-05-01T03:46:03Z|             unknown|sizadnwyjbypwfamy...|\n|          IN|        NULL|             NULL|         false|   106.76.203.184|                       On My Way|                      Alan Walker|                 On My Way|   193797|  false|    1556682478622|Android-tablet OS...| trackdone|    clickrow|  false|   NULL|               NULL|spotify:track:4n7...|2019-05-01T03:49:16Z|             unknown|sizadnwyjbypwfamy...|\n+------------+------------+-----------------+--------------+-----------------+--------------------------------+---------------------------------+--------------------------+---------+-------+-----------------+--------------------+----------+------------+-------+-------+-------------------+--------------------+--------------------+--------------------+--------------------+\nonly showing top 5 rows\n\n"
     ]
    }
   ],
   "source": [
    "df.show(5)"
   ]
  },
  {
   "cell_type": "code",
   "execution_count": 0,
   "metadata": {
    "application/vnd.databricks.v1+cell": {
     "cellMetadata": {
      "byteLimit": 2048000,
      "rowLimit": 10000
     },
     "inputWidgets": {},
     "nuid": "a0e320e1-1f9d-4a1a-8c5b-f02c629dc6ec",
     "showTitle": false,
     "title": ""
    }
   },
   "outputs": [
    {
     "output_type": "stream",
     "name": "stdout",
     "output_type": "stream",
     "text": [
      "+------------+------------+-----------------+--------------+-----------------+--------------------+------------------+--------------------+---------+-------+-----------------+--------------------+----------+------------+-------+-------+-------------------+--------------------+--------------------+--------------------+--------------------+\n|conn_country|episode_name|episode_show_name|incognito_mode|ip_addr_decrypted|          album_name|       artist_name|          track_name|ms_played|offline|offline_timestamp|            platform|reason_end|reason_start|shuffle|skipped|spotify_episode_uri|   spotify_track_uri|                  ts|user_agent_decrypted|            username|\n+------------+------------+-----------------+--------------+-----------------+--------------------+------------------+--------------------+---------+-------+-----------------+--------------------+----------+------------+-------+-------+-------------------+--------------------+--------------------+--------------------+--------------------+\n|          IN|        NULL|             NULL|         false|   106.76.203.184|So Far Away (feat...|     Martin Garrix|So Far Away (feat...|    31118|  false|    1556682399506|Android-tablet OS...|   endplay|    clickrow|  false|   NULL|               NULL|spotify:track:0Ol...|2019-05-01T03:45:22Z|             unknown|sizadnwyjbypwfamy...|\n|          IN|        NULL|             NULL|         false|   106.76.203.184|           Boomerang|            Brooks|           Boomerang|        0|  false|    1556682436279|Android-tablet OS...|   endplay|    clickrow|  false|   NULL|               NULL|spotify:track:6Gw...|2019-05-01T03:45:22Z|             unknown|sizadnwyjbypwfamy...|\n|          IN|        NULL|             NULL|         false|   106.76.203.184|           Boomerang|            Brooks|           Boomerang|    24928|  false|    1556682437210|Android-tablet OS...|   backbtn|    clickrow|  false|   NULL|               NULL|spotify:track:6Gw...|2019-05-01T03:45:48Z|             unknown|sizadnwyjbypwfamy...|\n|          IN|        NULL|             NULL|         false|   106.76.203.184|               Seven|     Martin Garrix|Sun Is Never Goin...|     1960|  false|    1556682463780|Android-tablet OS...|   endplay|     backbtn|  false|   NULL|               NULL|spotify:track:6x7...|2019-05-01T03:46:03Z|             unknown|sizadnwyjbypwfamy...|\n|          IN|        NULL|             NULL|         false|   106.76.203.184|           On My Way|       Alan Walker|           On My Way|   193797|  false|    1556682478622|Android-tablet OS...| trackdone|    clickrow|  false|   NULL|               NULL|spotify:track:4n7...|2019-05-01T03:49:16Z|             unknown|sizadnwyjbypwfamy...|\n|          IN|        NULL|             NULL|         false|   106.76.203.184|     Different World|       Alan Walker|                Lily|   165223|  false|    1556682671489|Android-tablet OS...|   endplay|   trackdone|  false|   NULL|               NULL|spotify:track:0lk...|2019-05-01T03:52:03Z|             unknown|sizadnwyjbypwfamy...|\n|          IN|        NULL|             NULL|         false|   106.76.203.184|  More Than You Know|Axwell /\\ Ingrosso|  More Than You Know|    20291|  false|    1556682839104|Android-tablet OS...|   endplay|    clickrow|  false|   NULL|               NULL|spotify:track:6h5...|2019-05-01T03:52:24Z|             unknown|sizadnwyjbypwfamy...|\n|          IN|        NULL|             NULL|         false|   106.76.203.184|  More Than You Know|Axwell /\\ Ingrosso|             Dreamer|    17752|  false|    1556682860044|Android-tablet OS...|   endplay|    clickrow|  false|   NULL|               NULL|spotify:track:0RT...|2019-05-01T03:52:43Z|             unknown|sizadnwyjbypwfamy...|\n|          IN|        NULL|             NULL|         false|   106.76.203.184|          Phone Down|  Armin van Buuren|Phone Down - Club...|    14180|  false|    1556682878369|Android-tablet OS...|   endplay|    clickrow|   true|   NULL|               NULL|spotify:track:1Py...|2019-05-01T03:52:58Z|             unknown|sizadnwyjbypwfamy...|\n|          IN|        NULL|             NULL|         false|   106.76.203.184|      Blah Blah Blah|  Armin van Buuren|      Blah Blah Blah|   113455|  false|    1556682894144|Android-tablet OS...|   endplay|    clickrow|  false|   NULL|               NULL|spotify:track:2xk...|2019-05-01T03:54:52Z|             unknown|sizadnwyjbypwfamy...|\n+------------+------------+-----------------+--------------+-----------------+--------------------+------------------+--------------------+---------+-------+-----------------+--------------------+----------+------------+-------+-------+-------------------+--------------------+--------------------+--------------------+--------------------+\nonly showing top 10 rows\n\n"
     ]
    }
   ],
   "source": [
    "df = df.withColumnRenamed('master_metadata_album_album_name' ,'album_name')\\\n",
    "    .withColumnRenamed('master_metadata_album_artist_name', 'artist_name')\\\n",
    "        .withColumnRenamed('master_metadata_track_name', 'track_name')\n",
    "df.show(10)"
   ]
  },
  {
   "cell_type": "code",
   "execution_count": 0,
   "metadata": {
    "application/vnd.databricks.v1+cell": {
     "cellMetadata": {
      "byteLimit": 2048000,
      "rowLimit": 10000
     },
     "inputWidgets": {},
     "nuid": "d144b90c-0e8a-47b3-b6c5-56e13e1febca",
     "showTitle": false,
     "title": ""
    }
   },
   "outputs": [
    {
     "output_type": "stream",
     "name": "stdout",
     "output_type": "stream",
     "text": [
      "+--------------------+\n|            platform|\n+--------------------+\n|             android|\n|Android-tablet OS...|\n|web_player window...|\n|Android-tablet OS...|\n|web_player window...|\n|Android OS 10 API...|\n|web_player window...|\n|web_player window...|\n|Android OS 11 API...|\n|Windows 10 (10.0....|\n|web_player window...|\n|Android OS 12 API...|\n|web_player window...|\n|             windows|\n+--------------------+\n\n"
     ]
    }
   ],
   "source": [
    "df.select('platform').distinct().show()"
   ]
  },
  {
   "cell_type": "code",
   "execution_count": 0,
   "metadata": {
    "application/vnd.databricks.v1+cell": {
     "cellMetadata": {
      "byteLimit": 2048000,
      "rowLimit": 10000
     },
     "inputWidgets": {},
     "nuid": "0b733d2c-d5f8-4148-ae49-85be222c66cc",
     "showTitle": false,
     "title": ""
    }
   },
   "outputs": [
    {
     "output_type": "stream",
     "name": "stdout",
     "output_type": "stream",
     "text": [
      "+------------+------------+-----------------+--------------+-----------------+--------------------+------------------+--------------------+---------+-------+-----------------+--------+----------+------------+-------+-------+-------------------+--------------------+--------------------+--------------------+--------------------+\n|conn_country|episode_name|episode_show_name|incognito_mode|ip_addr_decrypted|          album_name|       artist_name|          track_name|ms_played|offline|offline_timestamp|platform|reason_end|reason_start|shuffle|skipped|spotify_episode_uri|   spotify_track_uri|                  ts|user_agent_decrypted|            username|\n+------------+------------+-----------------+--------------+-----------------+--------------------+------------------+--------------------+---------+-------+-----------------+--------+----------+------------+-------+-------+-------------------+--------------------+--------------------+--------------------+--------------------+\n|          IN|        NULL|             NULL|         false|   106.76.203.184|So Far Away (feat...|     Martin Garrix|So Far Away (feat...|    31118|  false|    1556682399506| Android|   endplay|    clickrow|  false|   NULL|               NULL|spotify:track:0Ol...|2019-05-01T03:45:22Z|             unknown|sizadnwyjbypwfamy...|\n|          IN|        NULL|             NULL|         false|   106.76.203.184|           Boomerang|            Brooks|           Boomerang|        0|  false|    1556682436279| Android|   endplay|    clickrow|  false|   NULL|               NULL|spotify:track:6Gw...|2019-05-01T03:45:22Z|             unknown|sizadnwyjbypwfamy...|\n|          IN|        NULL|             NULL|         false|   106.76.203.184|           Boomerang|            Brooks|           Boomerang|    24928|  false|    1556682437210| Android|   backbtn|    clickrow|  false|   NULL|               NULL|spotify:track:6Gw...|2019-05-01T03:45:48Z|             unknown|sizadnwyjbypwfamy...|\n|          IN|        NULL|             NULL|         false|   106.76.203.184|               Seven|     Martin Garrix|Sun Is Never Goin...|     1960|  false|    1556682463780| Android|   endplay|     backbtn|  false|   NULL|               NULL|spotify:track:6x7...|2019-05-01T03:46:03Z|             unknown|sizadnwyjbypwfamy...|\n|          IN|        NULL|             NULL|         false|   106.76.203.184|           On My Way|       Alan Walker|           On My Way|   193797|  false|    1556682478622| Android| trackdone|    clickrow|  false|   NULL|               NULL|spotify:track:4n7...|2019-05-01T03:49:16Z|             unknown|sizadnwyjbypwfamy...|\n|          IN|        NULL|             NULL|         false|   106.76.203.184|     Different World|       Alan Walker|                Lily|   165223|  false|    1556682671489| Android|   endplay|   trackdone|  false|   NULL|               NULL|spotify:track:0lk...|2019-05-01T03:52:03Z|             unknown|sizadnwyjbypwfamy...|\n|          IN|        NULL|             NULL|         false|   106.76.203.184|  More Than You Know|Axwell /\\ Ingrosso|  More Than You Know|    20291|  false|    1556682839104| Android|   endplay|    clickrow|  false|   NULL|               NULL|spotify:track:6h5...|2019-05-01T03:52:24Z|             unknown|sizadnwyjbypwfamy...|\n|          IN|        NULL|             NULL|         false|   106.76.203.184|  More Than You Know|Axwell /\\ Ingrosso|             Dreamer|    17752|  false|    1556682860044| Android|   endplay|    clickrow|  false|   NULL|               NULL|spotify:track:0RT...|2019-05-01T03:52:43Z|             unknown|sizadnwyjbypwfamy...|\n|          IN|        NULL|             NULL|         false|   106.76.203.184|          Phone Down|  Armin van Buuren|Phone Down - Club...|    14180|  false|    1556682878369| Android|   endplay|    clickrow|   true|   NULL|               NULL|spotify:track:1Py...|2019-05-01T03:52:58Z|             unknown|sizadnwyjbypwfamy...|\n|          IN|        NULL|             NULL|         false|   106.76.203.184|      Blah Blah Blah|  Armin van Buuren|      Blah Blah Blah|   113455|  false|    1556682894144| Android|   endplay|    clickrow|  false|   NULL|               NULL|spotify:track:2xk...|2019-05-01T03:54:52Z|             unknown|sizadnwyjbypwfamy...|\n+------------+------------+-----------------+--------------+-----------------+--------------------+------------------+--------------------+---------+-------+-----------------+--------+----------+------------+-------+-------+-------------------+--------------------+--------------------+--------------------+--------------------+\nonly showing top 10 rows\n\n"
     ]
    }
   ],
   "source": [
    "from pyspark.sql.functions import lower, when\n",
    "df = df.withColumn('platform',\n",
    "                   when(lower('platform').contains('windows'), 'Windows')\\\n",
    "                       .when(lower('platform').contains('android'), 'Android')\\\n",
    "                           .otherwise(None)\n",
    "                           )\n",
    "df.show(10)"
   ]
  },
  {
   "cell_type": "code",
   "execution_count": 0,
   "metadata": {
    "application/vnd.databricks.v1+cell": {
     "cellMetadata": {
      "byteLimit": 2048000,
      "rowLimit": 10000
     },
     "inputWidgets": {},
     "nuid": "923d9e93-26ea-44ca-8313-4357b55590aa",
     "showTitle": false,
     "title": ""
    }
   },
   "outputs": [],
   "source": [
    "# Creating a new dataset by considering only required features.\n",
    "sp_df = df.select(['album_name', 'artist_name', 'track_name', 'ms_played', 'platform', 'reason_end', 'reason_start', 'shuffle', 'skipped', 'ts'])"
   ]
  },
  {
   "cell_type": "code",
   "execution_count": 0,
   "metadata": {
    "application/vnd.databricks.v1+cell": {
     "cellMetadata": {
      "byteLimit": 2048000,
      "rowLimit": 10000
     },
     "inputWidgets": {},
     "nuid": "e5e8f182-cd24-430c-bf16-198e05b846ed",
     "showTitle": false,
     "title": ""
    }
   },
   "outputs": [
    {
     "output_type": "execute_result",
     "data": {
      "text/plain": [
       "10"
      ]
     },
     "execution_count": 80,
     "metadata": {},
     "output_type": "execute_result"
    }
   ],
   "source": [
    "len(sp_df.columns)"
   ]
  },
  {
   "cell_type": "code",
   "execution_count": 0,
   "metadata": {
    "application/vnd.databricks.v1+cell": {
     "cellMetadata": {
      "byteLimit": 2048000,
      "rowLimit": 10000
     },
     "inputWidgets": {},
     "nuid": "97527bb1-60a4-445b-8ce4-8d18d837a4bf",
     "showTitle": false,
     "title": ""
    }
   },
   "outputs": [
    {
     "output_type": "execute_result",
     "data": {
      "text/plain": [
       "13569"
      ]
     },
     "execution_count": 81,
     "metadata": {},
     "output_type": "execute_result"
    }
   ],
   "source": [
    "# No. of records in dataset\n",
    "sp_df.count()"
   ]
  },
  {
   "cell_type": "code",
   "execution_count": 0,
   "metadata": {
    "application/vnd.databricks.v1+cell": {
     "cellMetadata": {
      "byteLimit": 2048000,
      "rowLimit": 10000
     },
     "inputWidgets": {},
     "nuid": "39f45a3d-893a-4fc9-a32e-e54da563f94a",
     "showTitle": false,
     "title": ""
    }
   },
   "outputs": [
    {
     "output_type": "stream",
     "name": "stdout",
     "output_type": "stream",
     "text": [
      "+--------------------+------------------+--------------------+---------+--------+----------+------------+-------+-------+--------------------+\n|          album_name|       artist_name|          track_name|ms_played|platform|reason_end|reason_start|shuffle|skipped|                  ts|\n+--------------------+------------------+--------------------+---------+--------+----------+------------+-------+-------+--------------------+\n|So Far Away (feat...|     Martin Garrix|So Far Away (feat...|    31118| Android|   endplay|    clickrow|  false|   NULL|2019-05-01T03:45:22Z|\n|           Boomerang|            Brooks|           Boomerang|        0| Android|   endplay|    clickrow|  false|   NULL|2019-05-01T03:45:22Z|\n|           Boomerang|            Brooks|           Boomerang|    24928| Android|   backbtn|    clickrow|  false|   NULL|2019-05-01T03:45:48Z|\n|               Seven|     Martin Garrix|Sun Is Never Goin...|     1960| Android|   endplay|     backbtn|  false|   NULL|2019-05-01T03:46:03Z|\n|           On My Way|       Alan Walker|           On My Way|   193797| Android| trackdone|    clickrow|  false|   NULL|2019-05-01T03:49:16Z|\n|     Different World|       Alan Walker|                Lily|   165223| Android|   endplay|   trackdone|  false|   NULL|2019-05-01T03:52:03Z|\n|  More Than You Know|Axwell /\\ Ingrosso|  More Than You Know|    20291| Android|   endplay|    clickrow|  false|   NULL|2019-05-01T03:52:24Z|\n|  More Than You Know|Axwell /\\ Ingrosso|             Dreamer|    17752| Android|   endplay|    clickrow|  false|   NULL|2019-05-01T03:52:43Z|\n|          Phone Down|  Armin van Buuren|Phone Down - Club...|    14180| Android|   endplay|    clickrow|   true|   NULL|2019-05-01T03:52:58Z|\n|      Blah Blah Blah|  Armin van Buuren|      Blah Blah Blah|   113455| Android|   endplay|    clickrow|  false|   NULL|2019-05-01T03:54:52Z|\n+--------------------+------------------+--------------------+---------+--------+----------+------------+-------+-------+--------------------+\nonly showing top 10 rows\n\n"
     ]
    }
   ],
   "source": [
    "sp_df.show(10)"
   ]
  },
  {
   "cell_type": "code",
   "execution_count": 0,
   "metadata": {
    "application/vnd.databricks.v1+cell": {
     "cellMetadata": {
      "byteLimit": 2048000,
      "rowLimit": 10000
     },
     "inputWidgets": {},
     "nuid": "8ba1d60e-4358-4103-b3f1-7d4d2eeff519",
     "showTitle": false,
     "title": ""
    }
   },
   "outputs": [
    {
     "output_type": "stream",
     "name": "stdout",
     "output_type": "stream",
     "text": [
      "+----------+-----------+----------+---------+--------+----------+------------+-------+-------+---+\n|album_name|artist_name|track_name|ms_played|platform|reason_end|reason_start|shuffle|skipped| ts|\n+----------+-----------+----------+---------+--------+----------+------------+-------+-------+---+\n|        12|         12|        12|        0|       0|         0|           0|      0|   1073|  0|\n+----------+-----------+----------+---------+--------+----------+------------+-------+-------+---+\n\n"
     ]
    },
    {
     "output_type": "execute_result",
     "data": {
      "text/plain": [
       "{'album_name': 12,\n",
       " 'artist_name': 12,\n",
       " 'track_name': 12,\n",
       " 'ms_played': 0,\n",
       " 'platform': 0,\n",
       " 'reason_end': 0,\n",
       " 'reason_start': 0,\n",
       " 'shuffle': 0,\n",
       " 'skipped': 1073,\n",
       " 'ts': 0}"
      ]
     },
     "execution_count": 83,
     "metadata": {},
     "output_type": "execute_result"
    }
   ],
   "source": [
    "#Displaying the count of NULL values in each Column.\n",
    "from pyspark.sql.functions import col, when, count, coalesce\n",
    "df_null_count = sp_df.select([count(when(col(c).isNull(),c)).alias(c) for c in sp_df.columns])\n",
    "df_null_count.show(10)\n",
    "# A Dictonary with columns and count of null values.\n",
    "df_null_count_dict = {c : sp_df.filter(col(c).isNull()).count() for c in sp_df.columns}\n",
    "df_null_count_dict"
   ]
  },
  {
   "cell_type": "code",
   "execution_count": 0,
   "metadata": {
    "application/vnd.databricks.v1+cell": {
     "cellMetadata": {
      "byteLimit": 2048000,
      "rowLimit": 10000
     },
     "inputWidgets": {},
     "nuid": "788dbbe2-a0db-4a91-a2df-2fa6a9324b49",
     "showTitle": false,
     "title": ""
    }
   },
   "outputs": [],
   "source": [
    "sp_df = sp_df.dropna(subset=['album_name', 'artist_name', 'track_name'])"
   ]
  },
  {
   "cell_type": "code",
   "execution_count": 0,
   "metadata": {
    "application/vnd.databricks.v1+cell": {
     "cellMetadata": {
      "byteLimit": 2048000,
      "rowLimit": 10000
     },
     "inputWidgets": {},
     "nuid": "de96f7cd-a3de-4ba0-b9b2-a99dd7d3b070",
     "showTitle": false,
     "title": ""
    }
   },
   "outputs": [],
   "source": [
    "# Replacing the NULL values to False\n",
    "#Method 1 - Using WHEN function.\n",
    "sp_df = sp_df.withColumn('skipped', when(col('skipped').isNull(), False).otherwise(col('skipped')))\n",
    "\n",
    "#Method 2 - Using COALESCE function.\n",
    "# sp_df = sp_df.withColumn('skipped', coalesce(col('skipped'), lit(False)))"
   ]
  },
  {
   "cell_type": "code",
   "execution_count": 0,
   "metadata": {
    "application/vnd.databricks.v1+cell": {
     "cellMetadata": {
      "byteLimit": 2048000,
      "rowLimit": 10000
     },
     "inputWidgets": {},
     "nuid": "6ace88db-e4c1-433e-8c10-67b92cb5ca2e",
     "showTitle": false,
     "title": ""
    }
   },
   "outputs": [
    {
     "output_type": "stream",
     "name": "stdout",
     "output_type": "stream",
     "text": [
      "+----------+-----------+----------+---------+--------+----------+------------+-------+-------+---+\n|album_name|artist_name|track_name|ms_played|platform|reason_end|reason_start|shuffle|skipped| ts|\n+----------+-----------+----------+---------+--------+----------+------------+-------+-------+---+\n|         0|          0|         0|        0|       0|         0|           0|      0|      0|  0|\n+----------+-----------+----------+---------+--------+----------+------------+-------+-------+---+\n\n"
     ]
    }
   ],
   "source": [
    "from pyspark.sql.functions import col, when, count, coalesce\n",
    "df_null_count = sp_df.select([count(when(col(c).isNull(),c)).alias(c) for c in sp_df.columns])\n",
    "df_null_count.show(10)"
   ]
  },
  {
   "cell_type": "code",
   "execution_count": 0,
   "metadata": {
    "application/vnd.databricks.v1+cell": {
     "cellMetadata": {
      "byteLimit": 2048000,
      "rowLimit": 10000
     },
     "inputWidgets": {},
     "nuid": "a351120c-c71b-4d18-8b4c-5779a55cd7de",
     "showTitle": false,
     "title": ""
    }
   },
   "outputs": [
    {
     "output_type": "stream",
     "name": "stdout",
     "output_type": "stream",
     "text": [
      "+--------------------+------------------+--------------------+---------+--------+----------+------------+-------+-------+--------------------+----------+\n|          album_name|       artist_name|          track_name|ms_played|platform|reason_end|reason_start|shuffle|skipped|                  ts|      date|\n+--------------------+------------------+--------------------+---------+--------+----------+------------+-------+-------+--------------------+----------+\n|So Far Away (feat...|     Martin Garrix|So Far Away (feat...|    31118| Android|   endplay|    clickrow|  false|  false|2019-05-01T03:45:22Z|2019-05-01|\n|           Boomerang|            Brooks|           Boomerang|        0| Android|   endplay|    clickrow|  false|  false|2019-05-01T03:45:22Z|2019-05-01|\n|           Boomerang|            Brooks|           Boomerang|    24928| Android|   backbtn|    clickrow|  false|  false|2019-05-01T03:45:48Z|2019-05-01|\n|               Seven|     Martin Garrix|Sun Is Never Goin...|     1960| Android|   endplay|     backbtn|  false|  false|2019-05-01T03:46:03Z|2019-05-01|\n|           On My Way|       Alan Walker|           On My Way|   193797| Android| trackdone|    clickrow|  false|  false|2019-05-01T03:49:16Z|2019-05-01|\n|     Different World|       Alan Walker|                Lily|   165223| Android|   endplay|   trackdone|  false|  false|2019-05-01T03:52:03Z|2019-05-01|\n|  More Than You Know|Axwell /\\ Ingrosso|  More Than You Know|    20291| Android|   endplay|    clickrow|  false|  false|2019-05-01T03:52:24Z|2019-05-01|\n|  More Than You Know|Axwell /\\ Ingrosso|             Dreamer|    17752| Android|   endplay|    clickrow|  false|  false|2019-05-01T03:52:43Z|2019-05-01|\n|          Phone Down|  Armin van Buuren|Phone Down - Club...|    14180| Android|   endplay|    clickrow|   true|  false|2019-05-01T03:52:58Z|2019-05-01|\n|      Blah Blah Blah|  Armin van Buuren|      Blah Blah Blah|   113455| Android|   endplay|    clickrow|  false|  false|2019-05-01T03:54:52Z|2019-05-01|\n+--------------------+------------------+--------------------+---------+--------+----------+------------+-------+-------+--------------------+----------+\nonly showing top 10 rows\n\n"
     ]
    }
   ],
   "source": [
    "sp_df = sp_df.withColumn('date', col('ts').cast('date'))\n",
    "sp_df.show(10)"
   ]
  },
  {
   "cell_type": "code",
   "execution_count": 0,
   "metadata": {
    "application/vnd.databricks.v1+cell": {
     "cellMetadata": {
      "byteLimit": 2048000,
      "rowLimit": 10000
     },
     "inputWidgets": {},
     "nuid": "3cb884f7-6c73-4d23-81cc-ea7dea272606",
     "showTitle": false,
     "title": ""
    }
   },
   "outputs": [
    {
     "output_type": "stream",
     "name": "stdout",
     "output_type": "stream",
     "text": [
      "+--------------------+------------------+--------------------+---------+--------+----------+------------+-------+-------+--------------------+----------+----+-----+---------+\n|          album_name|       artist_name|          track_name|ms_played|platform|reason_end|reason_start|shuffle|skipped|                  ts|      date|year|month|      day|\n+--------------------+------------------+--------------------+---------+--------+----------+------------+-------+-------+--------------------+----------+----+-----+---------+\n|So Far Away (feat...|     Martin Garrix|So Far Away (feat...|    31118| Android|   endplay|    clickrow|  false|  false|2019-05-01T03:45:22Z|2019-05-01|2019|  May|Wednesday|\n|           Boomerang|            Brooks|           Boomerang|        0| Android|   endplay|    clickrow|  false|  false|2019-05-01T03:45:22Z|2019-05-01|2019|  May|Wednesday|\n|           Boomerang|            Brooks|           Boomerang|    24928| Android|   backbtn|    clickrow|  false|  false|2019-05-01T03:45:48Z|2019-05-01|2019|  May|Wednesday|\n|               Seven|     Martin Garrix|Sun Is Never Goin...|     1960| Android|   endplay|     backbtn|  false|  false|2019-05-01T03:46:03Z|2019-05-01|2019|  May|Wednesday|\n|           On My Way|       Alan Walker|           On My Way|   193797| Android| trackdone|    clickrow|  false|  false|2019-05-01T03:49:16Z|2019-05-01|2019|  May|Wednesday|\n|     Different World|       Alan Walker|                Lily|   165223| Android|   endplay|   trackdone|  false|  false|2019-05-01T03:52:03Z|2019-05-01|2019|  May|Wednesday|\n|  More Than You Know|Axwell /\\ Ingrosso|  More Than You Know|    20291| Android|   endplay|    clickrow|  false|  false|2019-05-01T03:52:24Z|2019-05-01|2019|  May|Wednesday|\n|  More Than You Know|Axwell /\\ Ingrosso|             Dreamer|    17752| Android|   endplay|    clickrow|  false|  false|2019-05-01T03:52:43Z|2019-05-01|2019|  May|Wednesday|\n|          Phone Down|  Armin van Buuren|Phone Down - Club...|    14180| Android|   endplay|    clickrow|   true|  false|2019-05-01T03:52:58Z|2019-05-01|2019|  May|Wednesday|\n|      Blah Blah Blah|  Armin van Buuren|      Blah Blah Blah|   113455| Android|   endplay|    clickrow|  false|  false|2019-05-01T03:54:52Z|2019-05-01|2019|  May|Wednesday|\n+--------------------+------------------+--------------------+---------+--------+----------+------------+-------+-------+--------------------+----------+----+-----+---------+\nonly showing top 10 rows\n\n"
     ]
    }
   ],
   "source": [
    "from pyspark.sql.functions import date_format\n",
    "sp_df = sp_df.withColumn('year', date_format('date', 'y'))\\\n",
    "        .withColumn('month', date_format('date', 'MMMM'))\\\n",
    "            .withColumn('day', date_format('date', 'EEEE'))\n",
    "sp_df.show(10)"
   ]
  },
  {
   "cell_type": "code",
   "execution_count": 0,
   "metadata": {
    "application/vnd.databricks.v1+cell": {
     "cellMetadata": {
      "byteLimit": 2048000,
      "rowLimit": 10000
     },
     "inputWidgets": {},
     "nuid": "df88cab9-5b6b-46fd-be03-8cc32bcb1b0f",
     "showTitle": false,
     "title": ""
    }
   },
   "outputs": [
    {
     "output_type": "stream",
     "name": "stdout",
     "output_type": "stream",
     "text": [
      "+--------------------+------------------+--------------------+---------+--------+----------+------------+-------+-------+--------------------+----------+----+-----+---------+---------+-------+----+\n|          album_name|       artist_name|          track_name|ms_played|platform|reason_end|reason_start|shuffle|skipped|                  ts|      date|year|month|      day|month_num|day_num|hour|\n+--------------------+------------------+--------------------+---------+--------+----------+------------+-------+-------+--------------------+----------+----+-----+---------+---------+-------+----+\n|So Far Away (feat...|     Martin Garrix|So Far Away (feat...|    31118| Android|   endplay|    clickrow|  false|  false|2019-05-01T03:45:22Z|2019-05-01|2019|  May|Wednesday|        5|      4|   3|\n|           Boomerang|            Brooks|           Boomerang|        0| Android|   endplay|    clickrow|  false|  false|2019-05-01T03:45:22Z|2019-05-01|2019|  May|Wednesday|        5|      4|   3|\n|           Boomerang|            Brooks|           Boomerang|    24928| Android|   backbtn|    clickrow|  false|  false|2019-05-01T03:45:48Z|2019-05-01|2019|  May|Wednesday|        5|      4|   3|\n|               Seven|     Martin Garrix|Sun Is Never Goin...|     1960| Android|   endplay|     backbtn|  false|  false|2019-05-01T03:46:03Z|2019-05-01|2019|  May|Wednesday|        5|      4|   3|\n|           On My Way|       Alan Walker|           On My Way|   193797| Android| trackdone|    clickrow|  false|  false|2019-05-01T03:49:16Z|2019-05-01|2019|  May|Wednesday|        5|      4|   3|\n|     Different World|       Alan Walker|                Lily|   165223| Android|   endplay|   trackdone|  false|  false|2019-05-01T03:52:03Z|2019-05-01|2019|  May|Wednesday|        5|      4|   3|\n|  More Than You Know|Axwell /\\ Ingrosso|  More Than You Know|    20291| Android|   endplay|    clickrow|  false|  false|2019-05-01T03:52:24Z|2019-05-01|2019|  May|Wednesday|        5|      4|   3|\n|  More Than You Know|Axwell /\\ Ingrosso|             Dreamer|    17752| Android|   endplay|    clickrow|  false|  false|2019-05-01T03:52:43Z|2019-05-01|2019|  May|Wednesday|        5|      4|   3|\n|          Phone Down|  Armin van Buuren|Phone Down - Club...|    14180| Android|   endplay|    clickrow|   true|  false|2019-05-01T03:52:58Z|2019-05-01|2019|  May|Wednesday|        5|      4|   3|\n|      Blah Blah Blah|  Armin van Buuren|      Blah Blah Blah|   113455| Android|   endplay|    clickrow|  false|  false|2019-05-01T03:54:52Z|2019-05-01|2019|  May|Wednesday|        5|      4|   3|\n+--------------------+------------------+--------------------+---------+--------+----------+------------+-------+-------+--------------------+----------+----+-----+---------+---------+-------+----+\nonly showing top 10 rows\n\n"
     ]
    }
   ],
   "source": [
    "from pyspark.sql.types import IntegerType\n",
    "sp_df = sp_df.withColumn('month_num', date_format(col('ts'), 'M'))\n",
    "sp_df = sp_df.withColumn('day_num',\n",
    "                 when(col('day')=='Sunday', 1)\\\n",
    "                     .when(col('day')=='Monday', 2)\\\n",
    "                         .when(col('day')=='Tuesday', 3)\\\n",
    "                             .when(col('day')=='Wednesday', 4)\\\n",
    "                                 .when(col('day')=='Thursday', 5)\\\n",
    "                                     .when(col('day')=='Friday', 6)\\\n",
    "                                         .when(col('day')=='Saturday', 7)\\\n",
    "                                             .otherwise(None))\n",
    "sp_df = sp_df.withColumn('hour', date_format(col('ts'), 'H'))\n",
    "sp_df = sp_df.withColumn('year', col('year').cast(IntegerType()))\\\n",
    "    .withColumn('month_num', col('month_num').cast(IntegerType()))\\\n",
    "        .withColumn('hour', col('hour').cast(IntegerType()))\n",
    "sp_df.show(10)"
   ]
  },
  {
   "cell_type": "code",
   "execution_count": 0,
   "metadata": {
    "application/vnd.databricks.v1+cell": {
     "cellMetadata": {
      "byteLimit": 2048000,
      "rowLimit": 10000
     },
     "inputWidgets": {},
     "nuid": "7ea3839b-5db0-4580-97c6-f5f7d34753ff",
     "showTitle": false,
     "title": ""
    }
   },
   "outputs": [
    {
     "output_type": "stream",
     "name": "stdout",
     "output_type": "stream",
     "text": [
      "root\n |-- album_name: string (nullable = true)\n |-- artist_name: string (nullable = true)\n |-- track_name: string (nullable = true)\n |-- ms_played: long (nullable = true)\n |-- platform: string (nullable = true)\n |-- reason_end: string (nullable = true)\n |-- reason_start: string (nullable = true)\n |-- shuffle: boolean (nullable = true)\n |-- skipped: boolean (nullable = true)\n |-- ts: string (nullable = true)\n |-- date: date (nullable = true)\n |-- year: integer (nullable = true)\n |-- month: string (nullable = true)\n |-- day: string (nullable = true)\n |-- month_num: integer (nullable = true)\n |-- day_num: integer (nullable = true)\n |-- hour: integer (nullable = true)\n\n"
     ]
    }
   ],
   "source": [
    "sp_df.printSchema()"
   ]
  },
  {
   "cell_type": "code",
   "execution_count": 0,
   "metadata": {
    "application/vnd.databricks.v1+cell": {
     "cellMetadata": {
      "byteLimit": 2048000,
      "rowLimit": 10000
     },
     "inputWidgets": {},
     "nuid": "dbca5e16-1bc1-46b1-91bb-4a6d80d702b8",
     "showTitle": false,
     "title": ""
    }
   },
   "outputs": [
    {
     "output_type": "stream",
     "name": "stdout",
     "output_type": "stream",
     "text": [
      "+--------------------+-----+\n|          reason_end|count|\n+--------------------+-----+\n|              fwdbtn| 4593|\n|             endplay| 4420|\n|           trackdone| 3429|\n|              logout|  510|\n|unexpected-exit-w...|  379|\n|             backbtn|  162|\n|     unexpected-exit|   45|\n|              remote|   16|\n|             unknown|    2|\n|          trackerror|    1|\n+--------------------+-----+\n\n+-------+-----+\n|shuffle|count|\n+-------+-----+\n|  false| 7842|\n|   true| 5715|\n+-------+-----+\n\n"
     ]
    }
   ],
   "source": [
    "sp_df.groupBy('reason_end').count().orderBy('count', ascending = False).show()\n",
    "sp_df.groupBy('shuffle').count().orderBy('count', ascending = False).show()"
   ]
  },
  {
   "cell_type": "code",
   "execution_count": 0,
   "metadata": {
    "application/vnd.databricks.v1+cell": {
     "cellMetadata": {
      "byteLimit": 2048000,
      "rowLimit": 10000
     },
     "inputWidgets": {},
     "nuid": "63658d8b-e52e-44db-96f4-5e7b7ab29bd5",
     "showTitle": false,
     "title": ""
    }
   },
   "outputs": [],
   "source": [
    "sp_df.write.saveAsTable('spotify', format='delta', mode='overwrite')"
   ]
  },
  {
   "cell_type": "code",
   "execution_count": 0,
   "metadata": {
    "application/vnd.databricks.v1+cell": {
     "cellMetadata": {
      "byteLimit": 2048000,
      "rowLimit": 10000
     },
     "inputWidgets": {},
     "nuid": "7c7ef6fa-350c-49c6-9865-a64efa6b4704",
     "showTitle": false,
     "title": ""
    }
   },
   "outputs": [],
   "source": []
  }
 ],
 "metadata": {
  "application/vnd.databricks.v1+notebook": {
   "dashboards": [],
   "language": "python",
   "notebookMetadata": {
    "mostRecentlyExecutedCommandWithImplicitDF": {
     "commandId": 210016576716913,
     "dataframes": [
      "_sqldf"
     ]
    },
    "pythonIndentUnit": 4
   },
   "notebookName": "Data Loading And Transformation",
   "widgets": {}
  }
 },
 "nbformat": 4,
 "nbformat_minor": 0
}
