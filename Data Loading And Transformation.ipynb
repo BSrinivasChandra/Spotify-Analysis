{
 "cells": [
  {
   "cell_type": "code",
   "execution_count": 0,
   "metadata": {
    "application/vnd.databricks.v1+cell": {
     "cellMetadata": {},
     "inputWidgets": {},
     "nuid": "e42a8a56-2f94-4161-82fc-ab17ad0250a9",
     "showTitle": false,
     "title": ""
    }
   },
   "outputs": [],
   "source": []
  },
  {
   "cell_type": "code",
   "execution_count": 0,
   "metadata": {
    "application/vnd.databricks.v1+cell": {
     "cellMetadata": {
      "byteLimit": 2048000,
      "rowLimit": 10000
     },
     "inputWidgets": {},
     "nuid": "c4ddec8c-a604-4fa2-902d-6b3176232598",
     "showTitle": true,
     "title": ""
    }
   },
   "outputs": [
    {
     "output_type": "display_data",
     "data": {
      "text/html": [
       "<style scoped>\n",
       "  .table-result-container {\n",
       "    max-height: 300px;\n",
       "    overflow: auto;\n",
       "  }\n",
       "  table, th, td {\n",
       "    border: 1px solid black;\n",
       "    border-collapse: collapse;\n",
       "  }\n",
       "  th, td {\n",
       "    padding: 5px;\n",
       "  }\n",
       "  th {\n",
       "    text-align: left;\n",
       "  }\n",
       "</style><div class='table-result-container'><table class='table-result'><thead style='background-color: white'><tr><th>path</th><th>name</th><th>size</th><th>modificationTime</th></tr></thead><tbody><tr><td>dbfs:/FileStore/tables/Streaming_History_Audio_2019_2024.json</td><td>Streaming_History_Audio_2019_2024.json</td><td>10346066</td><td>1714233022000</td></tr></tbody></table></div>"
      ]
     },
     "metadata": {
      "application/vnd.databricks.v1+output": {
       "addedWidgets": {},
       "aggData": [],
       "aggError": "",
       "aggOverflow": false,
       "aggSchema": [],
       "aggSeriesLimitReached": false,
       "aggType": "",
       "arguments": {},
       "columnCustomDisplayInfos": {},
       "data": [
        [
         "dbfs:/FileStore/tables/Streaming_History_Audio_2019_2024.json",
         "Streaming_History_Audio_2019_2024.json",
         10346066,
         1714233022000
        ]
       ],
       "datasetInfos": [],
       "dbfsResultPath": null,
       "isJsonSchema": true,
       "metadata": {
        "isDbfsCommandResult": false
       },
       "overflow": false,
       "plotOptions": {
        "customPlotOptions": {},
        "displayType": "table",
        "pivotAggregation": null,
        "pivotColumns": null,
        "xColumns": null,
        "yColumns": null
       },
       "removedWidgets": [],
       "schema": [
        {
         "metadata": "{}",
         "name": "path",
         "type": "\"string\""
        },
        {
         "metadata": "{}",
         "name": "name",
         "type": "\"string\""
        },
        {
         "metadata": "{}",
         "name": "size",
         "type": "\"long\""
        },
        {
         "metadata": "{}",
         "name": "modificationTime",
         "type": "\"long\""
        }
       ],
       "type": "table"
      }
     },
     "output_type": "display_data"
    }
   ],
   "source": [
    "%fs\n",
    "ls FileStore/tables"
   ]
  },
  {
   "cell_type": "code",
   "execution_count": 0,
   "metadata": {
    "application/vnd.databricks.v1+cell": {
     "cellMetadata": {
      "byteLimit": 2048000,
      "rowLimit": 10000
     },
     "inputWidgets": {},
     "nuid": "97b42037-4869-4d71-86f3-9f1842aa55c6",
     "showTitle": false,
     "title": ""
    }
   },
   "outputs": [
    {
     "output_type": "execute_result",
     "data": {
      "text/plain": [
       "[FileInfo(path='dbfs:/FileStore/tables/Streaming_History_Audio_2019_2024.json', name='Streaming_History_Audio_2019_2024.json', size=10346066, modificationTime=1714233022000)]"
      ]
     },
     "execution_count": 25,
     "metadata": {},
     "output_type": "execute_result"
    }
   ],
   "source": [
    "dbutils.fs.ls('dbfs:/FileStore/tables')"
   ]
  },
  {
   "cell_type": "code",
   "execution_count": 0,
   "metadata": {
    "application/vnd.databricks.v1+cell": {
     "cellMetadata": {
      "byteLimit": 2048000,
      "rowLimit": 10000
     },
     "inputWidgets": {},
     "nuid": "1aed7712-a5cc-47b4-85aa-1f16837e9456",
     "showTitle": true,
     "title": "EDA & Transformation"
    }
   },
   "outputs": [],
   "source": [
    "df = spark.read.option('multiline', 'true').json('dbfs:/FileStore/tables/Streaming_History_Audio_2019_2024.json')"
   ]
  },
  {
   "cell_type": "code",
   "execution_count": 0,
   "metadata": {
    "application/vnd.databricks.v1+cell": {
     "cellMetadata": {
      "byteLimit": 2048000,
      "rowLimit": 10000
     },
     "inputWidgets": {},
     "nuid": "47bc9015-f9bf-48a4-bc7e-65882328bfca",
     "showTitle": false,
     "title": ""
    }
   },
   "outputs": [
    {
     "output_type": "stream",
     "name": "stdout",
     "output_type": "stream",
     "text": [
      "root\n |-- conn_country: string (nullable = true)\n |-- episode_name: string (nullable = true)\n |-- episode_show_name: string (nullable = true)\n |-- incognito_mode: boolean (nullable = true)\n |-- ip_addr_decrypted: string (nullable = true)\n |-- master_metadata_album_album_name: string (nullable = true)\n |-- master_metadata_album_artist_name: string (nullable = true)\n |-- master_metadata_track_name: string (nullable = true)\n |-- ms_played: long (nullable = true)\n |-- offline: boolean (nullable = true)\n |-- offline_timestamp: long (nullable = true)\n |-- platform: string (nullable = true)\n |-- reason_end: string (nullable = true)\n |-- reason_start: string (nullable = true)\n |-- shuffle: boolean (nullable = true)\n |-- skipped: boolean (nullable = true)\n |-- spotify_episode_uri: string (nullable = true)\n |-- spotify_track_uri: string (nullable = true)\n |-- ts: string (nullable = true)\n |-- user_agent_decrypted: string (nullable = true)\n |-- username: string (nullable = true)\n\n"
     ]
    }
   ],
   "source": [
    "df.printSchema()"
   ]
  },
  {
   "cell_type": "code",
   "execution_count": 0,
   "metadata": {
    "application/vnd.databricks.v1+cell": {
     "cellMetadata": {
      "byteLimit": 2048000,
      "rowLimit": 10000
     },
     "inputWidgets": {},
     "nuid": "7d4bd555-ab83-4d0e-bf2e-035b6184159e",
     "showTitle": false,
     "title": ""
    }
   },
   "outputs": [
    {
     "output_type": "execute_result",
     "data": {
      "text/plain": [
       "21"
      ]
     },
     "execution_count": 28,
     "metadata": {},
     "output_type": "execute_result"
    }
   ],
   "source": [
    "# No. of Columns in df dataset\n",
    "len(df.columns)"
   ]
  },
  {
   "cell_type": "code",
   "execution_count": 0,
   "metadata": {
    "application/vnd.databricks.v1+cell": {
     "cellMetadata": {
      "byteLimit": 2048000,
      "rowLimit": 10000
     },
     "inputWidgets": {},
     "nuid": "b22f3138-9754-4415-a5eb-599cc2b390f4",
     "showTitle": false,
     "title": ""
    }
   },
   "outputs": [
    {
     "output_type": "execute_result",
     "data": {
      "text/plain": [
       "13569"
      ]
     },
     "execution_count": 29,
     "metadata": {},
     "output_type": "execute_result"
    }
   ],
   "source": [
    "# Total no of records in dataset.\n",
    "df.count()"
   ]
  },
  {
   "cell_type": "code",
   "execution_count": 0,
   "metadata": {
    "application/vnd.databricks.v1+cell": {
     "cellMetadata": {
      "byteLimit": 2048000,
      "rowLimit": 10000
     },
     "inputWidgets": {},
     "nuid": "9f768c06-f9b2-43ec-b2d7-81bd9fd7cb9d",
     "showTitle": false,
     "title": ""
    }
   },
   "outputs": [
    {
     "output_type": "display_data",
     "data": {
      "text/html": [
       "<style scoped>\n",
       "  .table-result-container {\n",
       "    max-height: 300px;\n",
       "    overflow: auto;\n",
       "  }\n",
       "  table, th, td {\n",
       "    border: 1px solid black;\n",
       "    border-collapse: collapse;\n",
       "  }\n",
       "  th, td {\n",
       "    padding: 5px;\n",
       "  }\n",
       "  th {\n",
       "    text-align: left;\n",
       "  }\n",
       "</style><div class='table-result-container'><table class='table-result'><thead style='background-color: white'><tr><th>conn_country</th><th>episode_name</th><th>episode_show_name</th><th>incognito_mode</th><th>ip_addr_decrypted</th><th>master_metadata_album_album_name</th><th>master_metadata_album_artist_name</th><th>master_metadata_track_name</th><th>ms_played</th><th>offline</th><th>offline_timestamp</th><th>platform</th><th>reason_end</th><th>reason_start</th><th>shuffle</th><th>skipped</th><th>spotify_episode_uri</th><th>spotify_track_uri</th><th>ts</th><th>user_agent_decrypted</th><th>username</th></tr></thead><tbody><tr><td>IN</td><td>null</td><td>null</td><td>false</td><td>106.76.203.184</td><td>So Far Away (feat. Jamie Scott & Romy Dya)</td><td>Martin Garrix</td><td>So Far Away (feat. Jamie Scott & Romy Dya)</td><td>31118</td><td>false</td><td>1556682399506</td><td>Android-tablet OS 8.1.0 API 27 (OPPO, Huawei)</td><td>endplay</td><td>clickrow</td><td>false</td><td>null</td><td>null</td><td>spotify:track:0OlnLZY4cmQzT6ZGttvWBM</td><td>2019-05-01T03:45:22Z</td><td>unknown</td><td>sizadnwyjbypwfamybxul84er</td></tr><tr><td>IN</td><td>null</td><td>null</td><td>false</td><td>106.76.203.184</td><td>Boomerang</td><td>Brooks</td><td>Boomerang</td><td>0</td><td>false</td><td>1556682436279</td><td>Android-tablet OS 8.1.0 API 27 (OPPO, Huawei)</td><td>endplay</td><td>clickrow</td><td>false</td><td>null</td><td>null</td><td>spotify:track:6Gw2dHX6FsQcIuiWxe0vWk</td><td>2019-05-01T03:45:22Z</td><td>unknown</td><td>sizadnwyjbypwfamybxul84er</td></tr><tr><td>IN</td><td>null</td><td>null</td><td>false</td><td>106.76.203.184</td><td>Boomerang</td><td>Brooks</td><td>Boomerang</td><td>24928</td><td>false</td><td>1556682437210</td><td>Android-tablet OS 8.1.0 API 27 (OPPO, Huawei)</td><td>backbtn</td><td>clickrow</td><td>false</td><td>null</td><td>null</td><td>spotify:track:6Gw2dHX6FsQcIuiWxe0vWk</td><td>2019-05-01T03:45:48Z</td><td>unknown</td><td>sizadnwyjbypwfamybxul84er</td></tr><tr><td>IN</td><td>null</td><td>null</td><td>false</td><td>106.76.203.184</td><td>Seven</td><td>Martin Garrix</td><td>Sun Is Never Going Down (feat. Dawn Golden)</td><td>1960</td><td>false</td><td>1556682463780</td><td>Android-tablet OS 8.1.0 API 27 (OPPO, Huawei)</td><td>endplay</td><td>backbtn</td><td>false</td><td>null</td><td>null</td><td>spotify:track:6x7r0lpyqxBKGq8J7LFMeu</td><td>2019-05-01T03:46:03Z</td><td>unknown</td><td>sizadnwyjbypwfamybxul84er</td></tr><tr><td>IN</td><td>null</td><td>null</td><td>false</td><td>106.76.203.184</td><td>On My Way</td><td>Alan Walker</td><td>On My Way</td><td>193797</td><td>false</td><td>1556682478622</td><td>Android-tablet OS 8.1.0 API 27 (OPPO, Huawei)</td><td>trackdone</td><td>clickrow</td><td>false</td><td>null</td><td>null</td><td>spotify:track:4n7jnSxVLd8QioibtTDBDq</td><td>2019-05-01T03:49:16Z</td><td>unknown</td><td>sizadnwyjbypwfamybxul84er</td></tr><tr><td>IN</td><td>null</td><td>null</td><td>false</td><td>106.76.203.184</td><td>Different World</td><td>Alan Walker</td><td>Lily</td><td>165223</td><td>false</td><td>1556682671489</td><td>Android-tablet OS 8.1.0 API 27 (OPPO, Huawei)</td><td>endplay</td><td>trackdone</td><td>false</td><td>null</td><td>null</td><td>spotify:track:0lks2Kt9veMOFEAPN0fsqN</td><td>2019-05-01T03:52:03Z</td><td>unknown</td><td>sizadnwyjbypwfamybxul84er</td></tr><tr><td>IN</td><td>null</td><td>null</td><td>false</td><td>106.76.203.184</td><td>More Than You Know</td><td>Axwell /\\ Ingrosso</td><td>More Than You Know</td><td>20291</td><td>false</td><td>1556682839104</td><td>Android-tablet OS 8.1.0 API 27 (OPPO, Huawei)</td><td>endplay</td><td>clickrow</td><td>false</td><td>null</td><td>null</td><td>spotify:track:6h5PAsRni4IRlxWr6uDPTP</td><td>2019-05-01T03:52:24Z</td><td>unknown</td><td>sizadnwyjbypwfamybxul84er</td></tr><tr><td>IN</td><td>null</td><td>null</td><td>false</td><td>106.76.203.184</td><td>More Than You Know</td><td>Axwell /\\ Ingrosso</td><td>Dreamer</td><td>17752</td><td>false</td><td>1556682860044</td><td>Android-tablet OS 8.1.0 API 27 (OPPO, Huawei)</td><td>endplay</td><td>clickrow</td><td>false</td><td>null</td><td>null</td><td>spotify:track:0RTzJVkunbGwuRjXDFHnjf</td><td>2019-05-01T03:52:43Z</td><td>unknown</td><td>sizadnwyjbypwfamybxul84er</td></tr><tr><td>IN</td><td>null</td><td>null</td><td>false</td><td>106.76.203.184</td><td>Phone Down</td><td>Armin van Buuren</td><td>Phone Down - Club Mix</td><td>14180</td><td>false</td><td>1556682878369</td><td>Android-tablet OS 8.1.0 API 27 (OPPO, Huawei)</td><td>endplay</td><td>clickrow</td><td>true</td><td>null</td><td>null</td><td>spotify:track:1PyBSWc1OxMfH5kdnN0BBm</td><td>2019-05-01T03:52:58Z</td><td>unknown</td><td>sizadnwyjbypwfamybxul84er</td></tr><tr><td>IN</td><td>null</td><td>null</td><td>false</td><td>106.76.203.184</td><td>Blah Blah Blah</td><td>Armin van Buuren</td><td>Blah Blah Blah</td><td>113455</td><td>false</td><td>1556682894144</td><td>Android-tablet OS 8.1.0 API 27 (OPPO, Huawei)</td><td>endplay</td><td>clickrow</td><td>false</td><td>null</td><td>null</td><td>spotify:track:2xkrujtSjZz7EKAYGbIIzH</td><td>2019-05-01T03:54:52Z</td><td>unknown</td><td>sizadnwyjbypwfamybxul84er</td></tr></tbody></table></div>"
      ]
     },
     "metadata": {
      "application/vnd.databricks.v1+output": {
       "addedWidgets": {},
       "aggData": [],
       "aggError": "",
       "aggOverflow": false,
       "aggSchema": [],
       "aggSeriesLimitReached": false,
       "aggType": "",
       "arguments": {},
       "columnCustomDisplayInfos": {},
       "data": [
        [
         "IN",
         null,
         null,
         false,
         "106.76.203.184",
         "So Far Away (feat. Jamie Scott & Romy Dya)",
         "Martin Garrix",
         "So Far Away (feat. Jamie Scott & Romy Dya)",
         31118,
         false,
         1556682399506,
         "Android-tablet OS 8.1.0 API 27 (OPPO, Huawei)",
         "endplay",
         "clickrow",
         false,
         null,
         null,
         "spotify:track:0OlnLZY4cmQzT6ZGttvWBM",
         "2019-05-01T03:45:22Z",
         "unknown",
         "sizadnwyjbypwfamybxul84er"
        ],
        [
         "IN",
         null,
         null,
         false,
         "106.76.203.184",
         "Boomerang",
         "Brooks",
         "Boomerang",
         0,
         false,
         1556682436279,
         "Android-tablet OS 8.1.0 API 27 (OPPO, Huawei)",
         "endplay",
         "clickrow",
         false,
         null,
         null,
         "spotify:track:6Gw2dHX6FsQcIuiWxe0vWk",
         "2019-05-01T03:45:22Z",
         "unknown",
         "sizadnwyjbypwfamybxul84er"
        ],
        [
         "IN",
         null,
         null,
         false,
         "106.76.203.184",
         "Boomerang",
         "Brooks",
         "Boomerang",
         24928,
         false,
         1556682437210,
         "Android-tablet OS 8.1.0 API 27 (OPPO, Huawei)",
         "backbtn",
         "clickrow",
         false,
         null,
         null,
         "spotify:track:6Gw2dHX6FsQcIuiWxe0vWk",
         "2019-05-01T03:45:48Z",
         "unknown",
         "sizadnwyjbypwfamybxul84er"
        ],
        [
         "IN",
         null,
         null,
         false,
         "106.76.203.184",
         "Seven",
         "Martin Garrix",
         "Sun Is Never Going Down (feat. Dawn Golden)",
         1960,
         false,
         1556682463780,
         "Android-tablet OS 8.1.0 API 27 (OPPO, Huawei)",
         "endplay",
         "backbtn",
         false,
         null,
         null,
         "spotify:track:6x7r0lpyqxBKGq8J7LFMeu",
         "2019-05-01T03:46:03Z",
         "unknown",
         "sizadnwyjbypwfamybxul84er"
        ],
        [
         "IN",
         null,
         null,
         false,
         "106.76.203.184",
         "On My Way",
         "Alan Walker",
         "On My Way",
         193797,
         false,
         1556682478622,
         "Android-tablet OS 8.1.0 API 27 (OPPO, Huawei)",
         "trackdone",
         "clickrow",
         false,
         null,
         null,
         "spotify:track:4n7jnSxVLd8QioibtTDBDq",
         "2019-05-01T03:49:16Z",
         "unknown",
         "sizadnwyjbypwfamybxul84er"
        ],
        [
         "IN",
         null,
         null,
         false,
         "106.76.203.184",
         "Different World",
         "Alan Walker",
         "Lily",
         165223,
         false,
         1556682671489,
         "Android-tablet OS 8.1.0 API 27 (OPPO, Huawei)",
         "endplay",
         "trackdone",
         false,
         null,
         null,
         "spotify:track:0lks2Kt9veMOFEAPN0fsqN",
         "2019-05-01T03:52:03Z",
         "unknown",
         "sizadnwyjbypwfamybxul84er"
        ],
        [
         "IN",
         null,
         null,
         false,
         "106.76.203.184",
         "More Than You Know",
         "Axwell /\\ Ingrosso",
         "More Than You Know",
         20291,
         false,
         1556682839104,
         "Android-tablet OS 8.1.0 API 27 (OPPO, Huawei)",
         "endplay",
         "clickrow",
         false,
         null,
         null,
         "spotify:track:6h5PAsRni4IRlxWr6uDPTP",
         "2019-05-01T03:52:24Z",
         "unknown",
         "sizadnwyjbypwfamybxul84er"
        ],
        [
         "IN",
         null,
         null,
         false,
         "106.76.203.184",
         "More Than You Know",
         "Axwell /\\ Ingrosso",
         "Dreamer",
         17752,
         false,
         1556682860044,
         "Android-tablet OS 8.1.0 API 27 (OPPO, Huawei)",
         "endplay",
         "clickrow",
         false,
         null,
         null,
         "spotify:track:0RTzJVkunbGwuRjXDFHnjf",
         "2019-05-01T03:52:43Z",
         "unknown",
         "sizadnwyjbypwfamybxul84er"
        ],
        [
         "IN",
         null,
         null,
         false,
         "106.76.203.184",
         "Phone Down",
         "Armin van Buuren",
         "Phone Down - Club Mix",
         14180,
         false,
         1556682878369,
         "Android-tablet OS 8.1.0 API 27 (OPPO, Huawei)",
         "endplay",
         "clickrow",
         true,
         null,
         null,
         "spotify:track:1PyBSWc1OxMfH5kdnN0BBm",
         "2019-05-01T03:52:58Z",
         "unknown",
         "sizadnwyjbypwfamybxul84er"
        ],
        [
         "IN",
         null,
         null,
         false,
         "106.76.203.184",
         "Blah Blah Blah",
         "Armin van Buuren",
         "Blah Blah Blah",
         113455,
         false,
         1556682894144,
         "Android-tablet OS 8.1.0 API 27 (OPPO, Huawei)",
         "endplay",
         "clickrow",
         false,
         null,
         null,
         "spotify:track:2xkrujtSjZz7EKAYGbIIzH",
         "2019-05-01T03:54:52Z",
         "unknown",
         "sizadnwyjbypwfamybxul84er"
        ]
       ],
       "datasetInfos": [],
       "dbfsResultPath": null,
       "isJsonSchema": true,
       "metadata": {},
       "overflow": false,
       "plotOptions": {
        "customPlotOptions": {},
        "displayType": "table",
        "pivotAggregation": null,
        "pivotColumns": null,
        "xColumns": null,
        "yColumns": null
       },
       "removedWidgets": [],
       "schema": [
        {
         "metadata": "{}",
         "name": "conn_country",
         "type": "\"string\""
        },
        {
         "metadata": "{}",
         "name": "episode_name",
         "type": "\"string\""
        },
        {
         "metadata": "{}",
         "name": "episode_show_name",
         "type": "\"string\""
        },
        {
         "metadata": "{}",
         "name": "incognito_mode",
         "type": "\"boolean\""
        },
        {
         "metadata": "{}",
         "name": "ip_addr_decrypted",
         "type": "\"string\""
        },
        {
         "metadata": "{}",
         "name": "master_metadata_album_album_name",
         "type": "\"string\""
        },
        {
         "metadata": "{}",
         "name": "master_metadata_album_artist_name",
         "type": "\"string\""
        },
        {
         "metadata": "{}",
         "name": "master_metadata_track_name",
         "type": "\"string\""
        },
        {
         "metadata": "{}",
         "name": "ms_played",
         "type": "\"long\""
        },
        {
         "metadata": "{}",
         "name": "offline",
         "type": "\"boolean\""
        },
        {
         "metadata": "{}",
         "name": "offline_timestamp",
         "type": "\"long\""
        },
        {
         "metadata": "{}",
         "name": "platform",
         "type": "\"string\""
        },
        {
         "metadata": "{}",
         "name": "reason_end",
         "type": "\"string\""
        },
        {
         "metadata": "{}",
         "name": "reason_start",
         "type": "\"string\""
        },
        {
         "metadata": "{}",
         "name": "shuffle",
         "type": "\"boolean\""
        },
        {
         "metadata": "{}",
         "name": "skipped",
         "type": "\"boolean\""
        },
        {
         "metadata": "{}",
         "name": "spotify_episode_uri",
         "type": "\"string\""
        },
        {
         "metadata": "{}",
         "name": "spotify_track_uri",
         "type": "\"string\""
        },
        {
         "metadata": "{}",
         "name": "ts",
         "type": "\"string\""
        },
        {
         "metadata": "{}",
         "name": "user_agent_decrypted",
         "type": "\"string\""
        },
        {
         "metadata": "{}",
         "name": "username",
         "type": "\"string\""
        }
       ],
       "type": "table"
      }
     },
     "output_type": "display_data"
    }
   ],
   "source": [
    "df.limit(10).display()"
   ]
  },
  {
   "cell_type": "code",
   "execution_count": 0,
   "metadata": {
    "application/vnd.databricks.v1+cell": {
     "cellMetadata": {
      "byteLimit": 2048000,
      "rowLimit": 10000
     },
     "inputWidgets": {},
     "nuid": "a0e320e1-1f9d-4a1a-8c5b-f02c629dc6ec",
     "showTitle": false,
     "title": ""
    }
   },
   "outputs": [
    {
     "output_type": "display_data",
     "data": {
      "text/html": [
       "<style scoped>\n",
       "  .table-result-container {\n",
       "    max-height: 300px;\n",
       "    overflow: auto;\n",
       "  }\n",
       "  table, th, td {\n",
       "    border: 1px solid black;\n",
       "    border-collapse: collapse;\n",
       "  }\n",
       "  th, td {\n",
       "    padding: 5px;\n",
       "  }\n",
       "  th {\n",
       "    text-align: left;\n",
       "  }\n",
       "</style><div class='table-result-container'><table class='table-result'><thead style='background-color: white'><tr><th>conn_country</th><th>episode_name</th><th>episode_show_name</th><th>incognito_mode</th><th>ip_addr_decrypted</th><th>album_name</th><th>artist_name</th><th>track_name</th><th>ms_played</th><th>offline</th><th>offline_timestamp</th><th>platform</th><th>reason_end</th><th>reason_start</th><th>shuffle</th><th>skipped</th><th>spotify_episode_uri</th><th>spotify_track_uri</th><th>ts</th><th>user_agent_decrypted</th><th>username</th></tr></thead><tbody><tr><td>IN</td><td>null</td><td>null</td><td>false</td><td>106.76.203.184</td><td>So Far Away (feat. Jamie Scott & Romy Dya)</td><td>Martin Garrix</td><td>So Far Away (feat. Jamie Scott & Romy Dya)</td><td>31118</td><td>false</td><td>1556682399506</td><td>Android-tablet OS 8.1.0 API 27 (OPPO, Huawei)</td><td>endplay</td><td>clickrow</td><td>false</td><td>null</td><td>null</td><td>spotify:track:0OlnLZY4cmQzT6ZGttvWBM</td><td>2019-05-01T03:45:22Z</td><td>unknown</td><td>sizadnwyjbypwfamybxul84er</td></tr><tr><td>IN</td><td>null</td><td>null</td><td>false</td><td>106.76.203.184</td><td>Boomerang</td><td>Brooks</td><td>Boomerang</td><td>0</td><td>false</td><td>1556682436279</td><td>Android-tablet OS 8.1.0 API 27 (OPPO, Huawei)</td><td>endplay</td><td>clickrow</td><td>false</td><td>null</td><td>null</td><td>spotify:track:6Gw2dHX6FsQcIuiWxe0vWk</td><td>2019-05-01T03:45:22Z</td><td>unknown</td><td>sizadnwyjbypwfamybxul84er</td></tr><tr><td>IN</td><td>null</td><td>null</td><td>false</td><td>106.76.203.184</td><td>Boomerang</td><td>Brooks</td><td>Boomerang</td><td>24928</td><td>false</td><td>1556682437210</td><td>Android-tablet OS 8.1.0 API 27 (OPPO, Huawei)</td><td>backbtn</td><td>clickrow</td><td>false</td><td>null</td><td>null</td><td>spotify:track:6Gw2dHX6FsQcIuiWxe0vWk</td><td>2019-05-01T03:45:48Z</td><td>unknown</td><td>sizadnwyjbypwfamybxul84er</td></tr><tr><td>IN</td><td>null</td><td>null</td><td>false</td><td>106.76.203.184</td><td>Seven</td><td>Martin Garrix</td><td>Sun Is Never Going Down (feat. Dawn Golden)</td><td>1960</td><td>false</td><td>1556682463780</td><td>Android-tablet OS 8.1.0 API 27 (OPPO, Huawei)</td><td>endplay</td><td>backbtn</td><td>false</td><td>null</td><td>null</td><td>spotify:track:6x7r0lpyqxBKGq8J7LFMeu</td><td>2019-05-01T03:46:03Z</td><td>unknown</td><td>sizadnwyjbypwfamybxul84er</td></tr><tr><td>IN</td><td>null</td><td>null</td><td>false</td><td>106.76.203.184</td><td>On My Way</td><td>Alan Walker</td><td>On My Way</td><td>193797</td><td>false</td><td>1556682478622</td><td>Android-tablet OS 8.1.0 API 27 (OPPO, Huawei)</td><td>trackdone</td><td>clickrow</td><td>false</td><td>null</td><td>null</td><td>spotify:track:4n7jnSxVLd8QioibtTDBDq</td><td>2019-05-01T03:49:16Z</td><td>unknown</td><td>sizadnwyjbypwfamybxul84er</td></tr><tr><td>IN</td><td>null</td><td>null</td><td>false</td><td>106.76.203.184</td><td>Different World</td><td>Alan Walker</td><td>Lily</td><td>165223</td><td>false</td><td>1556682671489</td><td>Android-tablet OS 8.1.0 API 27 (OPPO, Huawei)</td><td>endplay</td><td>trackdone</td><td>false</td><td>null</td><td>null</td><td>spotify:track:0lks2Kt9veMOFEAPN0fsqN</td><td>2019-05-01T03:52:03Z</td><td>unknown</td><td>sizadnwyjbypwfamybxul84er</td></tr><tr><td>IN</td><td>null</td><td>null</td><td>false</td><td>106.76.203.184</td><td>More Than You Know</td><td>Axwell /\\ Ingrosso</td><td>More Than You Know</td><td>20291</td><td>false</td><td>1556682839104</td><td>Android-tablet OS 8.1.0 API 27 (OPPO, Huawei)</td><td>endplay</td><td>clickrow</td><td>false</td><td>null</td><td>null</td><td>spotify:track:6h5PAsRni4IRlxWr6uDPTP</td><td>2019-05-01T03:52:24Z</td><td>unknown</td><td>sizadnwyjbypwfamybxul84er</td></tr><tr><td>IN</td><td>null</td><td>null</td><td>false</td><td>106.76.203.184</td><td>More Than You Know</td><td>Axwell /\\ Ingrosso</td><td>Dreamer</td><td>17752</td><td>false</td><td>1556682860044</td><td>Android-tablet OS 8.1.0 API 27 (OPPO, Huawei)</td><td>endplay</td><td>clickrow</td><td>false</td><td>null</td><td>null</td><td>spotify:track:0RTzJVkunbGwuRjXDFHnjf</td><td>2019-05-01T03:52:43Z</td><td>unknown</td><td>sizadnwyjbypwfamybxul84er</td></tr><tr><td>IN</td><td>null</td><td>null</td><td>false</td><td>106.76.203.184</td><td>Phone Down</td><td>Armin van Buuren</td><td>Phone Down - Club Mix</td><td>14180</td><td>false</td><td>1556682878369</td><td>Android-tablet OS 8.1.0 API 27 (OPPO, Huawei)</td><td>endplay</td><td>clickrow</td><td>true</td><td>null</td><td>null</td><td>spotify:track:1PyBSWc1OxMfH5kdnN0BBm</td><td>2019-05-01T03:52:58Z</td><td>unknown</td><td>sizadnwyjbypwfamybxul84er</td></tr><tr><td>IN</td><td>null</td><td>null</td><td>false</td><td>106.76.203.184</td><td>Blah Blah Blah</td><td>Armin van Buuren</td><td>Blah Blah Blah</td><td>113455</td><td>false</td><td>1556682894144</td><td>Android-tablet OS 8.1.0 API 27 (OPPO, Huawei)</td><td>endplay</td><td>clickrow</td><td>false</td><td>null</td><td>null</td><td>spotify:track:2xkrujtSjZz7EKAYGbIIzH</td><td>2019-05-01T03:54:52Z</td><td>unknown</td><td>sizadnwyjbypwfamybxul84er</td></tr></tbody></table></div>"
      ]
     },
     "metadata": {
      "application/vnd.databricks.v1+output": {
       "addedWidgets": {},
       "aggData": [],
       "aggError": "",
       "aggOverflow": false,
       "aggSchema": [],
       "aggSeriesLimitReached": false,
       "aggType": "",
       "arguments": {},
       "columnCustomDisplayInfos": {},
       "data": [
        [
         "IN",
         null,
         null,
         false,
         "106.76.203.184",
         "So Far Away (feat. Jamie Scott & Romy Dya)",
         "Martin Garrix",
         "So Far Away (feat. Jamie Scott & Romy Dya)",
         31118,
         false,
         1556682399506,
         "Android-tablet OS 8.1.0 API 27 (OPPO, Huawei)",
         "endplay",
         "clickrow",
         false,
         null,
         null,
         "spotify:track:0OlnLZY4cmQzT6ZGttvWBM",
         "2019-05-01T03:45:22Z",
         "unknown",
         "sizadnwyjbypwfamybxul84er"
        ],
        [
         "IN",
         null,
         null,
         false,
         "106.76.203.184",
         "Boomerang",
         "Brooks",
         "Boomerang",
         0,
         false,
         1556682436279,
         "Android-tablet OS 8.1.0 API 27 (OPPO, Huawei)",
         "endplay",
         "clickrow",
         false,
         null,
         null,
         "spotify:track:6Gw2dHX6FsQcIuiWxe0vWk",
         "2019-05-01T03:45:22Z",
         "unknown",
         "sizadnwyjbypwfamybxul84er"
        ],
        [
         "IN",
         null,
         null,
         false,
         "106.76.203.184",
         "Boomerang",
         "Brooks",
         "Boomerang",
         24928,
         false,
         1556682437210,
         "Android-tablet OS 8.1.0 API 27 (OPPO, Huawei)",
         "backbtn",
         "clickrow",
         false,
         null,
         null,
         "spotify:track:6Gw2dHX6FsQcIuiWxe0vWk",
         "2019-05-01T03:45:48Z",
         "unknown",
         "sizadnwyjbypwfamybxul84er"
        ],
        [
         "IN",
         null,
         null,
         false,
         "106.76.203.184",
         "Seven",
         "Martin Garrix",
         "Sun Is Never Going Down (feat. Dawn Golden)",
         1960,
         false,
         1556682463780,
         "Android-tablet OS 8.1.0 API 27 (OPPO, Huawei)",
         "endplay",
         "backbtn",
         false,
         null,
         null,
         "spotify:track:6x7r0lpyqxBKGq8J7LFMeu",
         "2019-05-01T03:46:03Z",
         "unknown",
         "sizadnwyjbypwfamybxul84er"
        ],
        [
         "IN",
         null,
         null,
         false,
         "106.76.203.184",
         "On My Way",
         "Alan Walker",
         "On My Way",
         193797,
         false,
         1556682478622,
         "Android-tablet OS 8.1.0 API 27 (OPPO, Huawei)",
         "trackdone",
         "clickrow",
         false,
         null,
         null,
         "spotify:track:4n7jnSxVLd8QioibtTDBDq",
         "2019-05-01T03:49:16Z",
         "unknown",
         "sizadnwyjbypwfamybxul84er"
        ],
        [
         "IN",
         null,
         null,
         false,
         "106.76.203.184",
         "Different World",
         "Alan Walker",
         "Lily",
         165223,
         false,
         1556682671489,
         "Android-tablet OS 8.1.0 API 27 (OPPO, Huawei)",
         "endplay",
         "trackdone",
         false,
         null,
         null,
         "spotify:track:0lks2Kt9veMOFEAPN0fsqN",
         "2019-05-01T03:52:03Z",
         "unknown",
         "sizadnwyjbypwfamybxul84er"
        ],
        [
         "IN",
         null,
         null,
         false,
         "106.76.203.184",
         "More Than You Know",
         "Axwell /\\ Ingrosso",
         "More Than You Know",
         20291,
         false,
         1556682839104,
         "Android-tablet OS 8.1.0 API 27 (OPPO, Huawei)",
         "endplay",
         "clickrow",
         false,
         null,
         null,
         "spotify:track:6h5PAsRni4IRlxWr6uDPTP",
         "2019-05-01T03:52:24Z",
         "unknown",
         "sizadnwyjbypwfamybxul84er"
        ],
        [
         "IN",
         null,
         null,
         false,
         "106.76.203.184",
         "More Than You Know",
         "Axwell /\\ Ingrosso",
         "Dreamer",
         17752,
         false,
         1556682860044,
         "Android-tablet OS 8.1.0 API 27 (OPPO, Huawei)",
         "endplay",
         "clickrow",
         false,
         null,
         null,
         "spotify:track:0RTzJVkunbGwuRjXDFHnjf",
         "2019-05-01T03:52:43Z",
         "unknown",
         "sizadnwyjbypwfamybxul84er"
        ],
        [
         "IN",
         null,
         null,
         false,
         "106.76.203.184",
         "Phone Down",
         "Armin van Buuren",
         "Phone Down - Club Mix",
         14180,
         false,
         1556682878369,
         "Android-tablet OS 8.1.0 API 27 (OPPO, Huawei)",
         "endplay",
         "clickrow",
         true,
         null,
         null,
         "spotify:track:1PyBSWc1OxMfH5kdnN0BBm",
         "2019-05-01T03:52:58Z",
         "unknown",
         "sizadnwyjbypwfamybxul84er"
        ],
        [
         "IN",
         null,
         null,
         false,
         "106.76.203.184",
         "Blah Blah Blah",
         "Armin van Buuren",
         "Blah Blah Blah",
         113455,
         false,
         1556682894144,
         "Android-tablet OS 8.1.0 API 27 (OPPO, Huawei)",
         "endplay",
         "clickrow",
         false,
         null,
         null,
         "spotify:track:2xkrujtSjZz7EKAYGbIIzH",
         "2019-05-01T03:54:52Z",
         "unknown",
         "sizadnwyjbypwfamybxul84er"
        ]
       ],
       "datasetInfos": [],
       "dbfsResultPath": null,
       "isJsonSchema": true,
       "metadata": {},
       "overflow": false,
       "plotOptions": {
        "customPlotOptions": {},
        "displayType": "table",
        "pivotAggregation": null,
        "pivotColumns": null,
        "xColumns": null,
        "yColumns": null
       },
       "removedWidgets": [],
       "schema": [
        {
         "metadata": "{}",
         "name": "conn_country",
         "type": "\"string\""
        },
        {
         "metadata": "{}",
         "name": "episode_name",
         "type": "\"string\""
        },
        {
         "metadata": "{}",
         "name": "episode_show_name",
         "type": "\"string\""
        },
        {
         "metadata": "{}",
         "name": "incognito_mode",
         "type": "\"boolean\""
        },
        {
         "metadata": "{}",
         "name": "ip_addr_decrypted",
         "type": "\"string\""
        },
        {
         "metadata": "{}",
         "name": "album_name",
         "type": "\"string\""
        },
        {
         "metadata": "{}",
         "name": "artist_name",
         "type": "\"string\""
        },
        {
         "metadata": "{}",
         "name": "track_name",
         "type": "\"string\""
        },
        {
         "metadata": "{}",
         "name": "ms_played",
         "type": "\"long\""
        },
        {
         "metadata": "{}",
         "name": "offline",
         "type": "\"boolean\""
        },
        {
         "metadata": "{}",
         "name": "offline_timestamp",
         "type": "\"long\""
        },
        {
         "metadata": "{}",
         "name": "platform",
         "type": "\"string\""
        },
        {
         "metadata": "{}",
         "name": "reason_end",
         "type": "\"string\""
        },
        {
         "metadata": "{}",
         "name": "reason_start",
         "type": "\"string\""
        },
        {
         "metadata": "{}",
         "name": "shuffle",
         "type": "\"boolean\""
        },
        {
         "metadata": "{}",
         "name": "skipped",
         "type": "\"boolean\""
        },
        {
         "metadata": "{}",
         "name": "spotify_episode_uri",
         "type": "\"string\""
        },
        {
         "metadata": "{}",
         "name": "spotify_track_uri",
         "type": "\"string\""
        },
        {
         "metadata": "{}",
         "name": "ts",
         "type": "\"string\""
        },
        {
         "metadata": "{}",
         "name": "user_agent_decrypted",
         "type": "\"string\""
        },
        {
         "metadata": "{}",
         "name": "username",
         "type": "\"string\""
        }
       ],
       "type": "table"
      }
     },
     "output_type": "display_data"
    }
   ],
   "source": [
    "df = df.withColumnRenamed('master_metadata_album_album_name' ,'album_name')\\\n",
    "    .withColumnRenamed('master_metadata_album_artist_name', 'artist_name')\\\n",
    "        .withColumnRenamed('master_metadata_track_name', 'track_name')\n",
    "df.limit(10).display()"
   ]
  },
  {
   "cell_type": "code",
   "execution_count": 0,
   "metadata": {
    "application/vnd.databricks.v1+cell": {
     "cellMetadata": {
      "byteLimit": 2048000,
      "rowLimit": 10000
     },
     "inputWidgets": {},
     "nuid": "d144b90c-0e8a-47b3-b6c5-56e13e1febca",
     "showTitle": false,
     "title": ""
    }
   },
   "outputs": [
    {
     "output_type": "display_data",
     "data": {
      "text/html": [
       "<style scoped>\n",
       "  .table-result-container {\n",
       "    max-height: 300px;\n",
       "    overflow: auto;\n",
       "  }\n",
       "  table, th, td {\n",
       "    border: 1px solid black;\n",
       "    border-collapse: collapse;\n",
       "  }\n",
       "  th, td {\n",
       "    padding: 5px;\n",
       "  }\n",
       "  th {\n",
       "    text-align: left;\n",
       "  }\n",
       "</style><div class='table-result-container'><table class='table-result'><thead style='background-color: white'><tr><th>platform</th></tr></thead><tbody><tr><td>android</td></tr><tr><td>Android-tablet OS 9 API 28 (OPPO, Huawei)</td></tr><tr><td>web_player windows 10;chrome 100.0.4896.79;desktop</td></tr><tr><td>Android-tablet OS 8.1.0 API 27 (OPPO, Huawei)</td></tr><tr><td>web_player windows 10;chrome 100.0.4896.60;desktop</td></tr><tr><td>Android OS 10 API 29 (OPPO, RMX1801)</td></tr><tr><td>web_player windows 10;chrome 97.0.4692.99;desktop</td></tr><tr><td>web_player windows 10;chrome 102.0.0.0;desktop</td></tr><tr><td>Android OS 11 API 30 (Xiaomi, M2101K6I)</td></tr><tr><td>Windows 10 (10.0.19044; x64)</td></tr><tr><td>web_player windows 10;chrome 98.0.4758.102;desktop</td></tr><tr><td>Android OS 12 API 31 (Xiaomi, M2101K6I)</td></tr><tr><td>web_player windows 10;chrome 102.0.5005.115;desktop</td></tr><tr><td>windows</td></tr></tbody></table></div>"
      ]
     },
     "metadata": {
      "application/vnd.databricks.v1+output": {
       "addedWidgets": {},
       "aggData": [],
       "aggError": "",
       "aggOverflow": false,
       "aggSchema": [],
       "aggSeriesLimitReached": false,
       "aggType": "",
       "arguments": {},
       "columnCustomDisplayInfos": {},
       "data": [
        [
         "android"
        ],
        [
         "Android-tablet OS 9 API 28 (OPPO, Huawei)"
        ],
        [
         "web_player windows 10;chrome 100.0.4896.79;desktop"
        ],
        [
         "Android-tablet OS 8.1.0 API 27 (OPPO, Huawei)"
        ],
        [
         "web_player windows 10;chrome 100.0.4896.60;desktop"
        ],
        [
         "Android OS 10 API 29 (OPPO, RMX1801)"
        ],
        [
         "web_player windows 10;chrome 97.0.4692.99;desktop"
        ],
        [
         "web_player windows 10;chrome 102.0.0.0;desktop"
        ],
        [
         "Android OS 11 API 30 (Xiaomi, M2101K6I)"
        ],
        [
         "Windows 10 (10.0.19044; x64)"
        ],
        [
         "web_player windows 10;chrome 98.0.4758.102;desktop"
        ],
        [
         "Android OS 12 API 31 (Xiaomi, M2101K6I)"
        ],
        [
         "web_player windows 10;chrome 102.0.5005.115;desktop"
        ],
        [
         "windows"
        ]
       ],
       "datasetInfos": [],
       "dbfsResultPath": null,
       "isJsonSchema": true,
       "metadata": {},
       "overflow": false,
       "plotOptions": {
        "customPlotOptions": {},
        "displayType": "table",
        "pivotAggregation": null,
        "pivotColumns": null,
        "xColumns": null,
        "yColumns": null
       },
       "removedWidgets": [],
       "schema": [
        {
         "metadata": "{}",
         "name": "platform",
         "type": "\"string\""
        }
       ],
       "type": "table"
      }
     },
     "output_type": "display_data"
    }
   ],
   "source": [
    "df.select('platform').distinct().display()"
   ]
  },
  {
   "cell_type": "code",
   "execution_count": 0,
   "metadata": {
    "application/vnd.databricks.v1+cell": {
     "cellMetadata": {
      "byteLimit": 2048000,
      "rowLimit": 10000
     },
     "inputWidgets": {},
     "nuid": "0b733d2c-d5f8-4148-ae49-85be222c66cc",
     "showTitle": false,
     "title": ""
    }
   },
   "outputs": [
    {
     "output_type": "display_data",
     "data": {
      "text/html": [
       "<style scoped>\n",
       "  .table-result-container {\n",
       "    max-height: 300px;\n",
       "    overflow: auto;\n",
       "  }\n",
       "  table, th, td {\n",
       "    border: 1px solid black;\n",
       "    border-collapse: collapse;\n",
       "  }\n",
       "  th, td {\n",
       "    padding: 5px;\n",
       "  }\n",
       "  th {\n",
       "    text-align: left;\n",
       "  }\n",
       "</style><div class='table-result-container'><table class='table-result'><thead style='background-color: white'><tr><th>conn_country</th><th>episode_name</th><th>episode_show_name</th><th>incognito_mode</th><th>ip_addr_decrypted</th><th>album_name</th><th>artist_name</th><th>track_name</th><th>ms_played</th><th>offline</th><th>offline_timestamp</th><th>platform</th><th>reason_end</th><th>reason_start</th><th>shuffle</th><th>skipped</th><th>spotify_episode_uri</th><th>spotify_track_uri</th><th>ts</th><th>user_agent_decrypted</th><th>username</th></tr></thead><tbody><tr><td>IN</td><td>null</td><td>null</td><td>false</td><td>106.76.203.184</td><td>So Far Away (feat. Jamie Scott & Romy Dya)</td><td>Martin Garrix</td><td>So Far Away (feat. Jamie Scott & Romy Dya)</td><td>31118</td><td>false</td><td>1556682399506</td><td>Android</td><td>endplay</td><td>clickrow</td><td>false</td><td>null</td><td>null</td><td>spotify:track:0OlnLZY4cmQzT6ZGttvWBM</td><td>2019-05-01T03:45:22Z</td><td>unknown</td><td>sizadnwyjbypwfamybxul84er</td></tr><tr><td>IN</td><td>null</td><td>null</td><td>false</td><td>106.76.203.184</td><td>Boomerang</td><td>Brooks</td><td>Boomerang</td><td>0</td><td>false</td><td>1556682436279</td><td>Android</td><td>endplay</td><td>clickrow</td><td>false</td><td>null</td><td>null</td><td>spotify:track:6Gw2dHX6FsQcIuiWxe0vWk</td><td>2019-05-01T03:45:22Z</td><td>unknown</td><td>sizadnwyjbypwfamybxul84er</td></tr><tr><td>IN</td><td>null</td><td>null</td><td>false</td><td>106.76.203.184</td><td>Boomerang</td><td>Brooks</td><td>Boomerang</td><td>24928</td><td>false</td><td>1556682437210</td><td>Android</td><td>backbtn</td><td>clickrow</td><td>false</td><td>null</td><td>null</td><td>spotify:track:6Gw2dHX6FsQcIuiWxe0vWk</td><td>2019-05-01T03:45:48Z</td><td>unknown</td><td>sizadnwyjbypwfamybxul84er</td></tr><tr><td>IN</td><td>null</td><td>null</td><td>false</td><td>106.76.203.184</td><td>Seven</td><td>Martin Garrix</td><td>Sun Is Never Going Down (feat. Dawn Golden)</td><td>1960</td><td>false</td><td>1556682463780</td><td>Android</td><td>endplay</td><td>backbtn</td><td>false</td><td>null</td><td>null</td><td>spotify:track:6x7r0lpyqxBKGq8J7LFMeu</td><td>2019-05-01T03:46:03Z</td><td>unknown</td><td>sizadnwyjbypwfamybxul84er</td></tr><tr><td>IN</td><td>null</td><td>null</td><td>false</td><td>106.76.203.184</td><td>On My Way</td><td>Alan Walker</td><td>On My Way</td><td>193797</td><td>false</td><td>1556682478622</td><td>Android</td><td>trackdone</td><td>clickrow</td><td>false</td><td>null</td><td>null</td><td>spotify:track:4n7jnSxVLd8QioibtTDBDq</td><td>2019-05-01T03:49:16Z</td><td>unknown</td><td>sizadnwyjbypwfamybxul84er</td></tr><tr><td>IN</td><td>null</td><td>null</td><td>false</td><td>106.76.203.184</td><td>Different World</td><td>Alan Walker</td><td>Lily</td><td>165223</td><td>false</td><td>1556682671489</td><td>Android</td><td>endplay</td><td>trackdone</td><td>false</td><td>null</td><td>null</td><td>spotify:track:0lks2Kt9veMOFEAPN0fsqN</td><td>2019-05-01T03:52:03Z</td><td>unknown</td><td>sizadnwyjbypwfamybxul84er</td></tr><tr><td>IN</td><td>null</td><td>null</td><td>false</td><td>106.76.203.184</td><td>More Than You Know</td><td>Axwell /\\ Ingrosso</td><td>More Than You Know</td><td>20291</td><td>false</td><td>1556682839104</td><td>Android</td><td>endplay</td><td>clickrow</td><td>false</td><td>null</td><td>null</td><td>spotify:track:6h5PAsRni4IRlxWr6uDPTP</td><td>2019-05-01T03:52:24Z</td><td>unknown</td><td>sizadnwyjbypwfamybxul84er</td></tr><tr><td>IN</td><td>null</td><td>null</td><td>false</td><td>106.76.203.184</td><td>More Than You Know</td><td>Axwell /\\ Ingrosso</td><td>Dreamer</td><td>17752</td><td>false</td><td>1556682860044</td><td>Android</td><td>endplay</td><td>clickrow</td><td>false</td><td>null</td><td>null</td><td>spotify:track:0RTzJVkunbGwuRjXDFHnjf</td><td>2019-05-01T03:52:43Z</td><td>unknown</td><td>sizadnwyjbypwfamybxul84er</td></tr><tr><td>IN</td><td>null</td><td>null</td><td>false</td><td>106.76.203.184</td><td>Phone Down</td><td>Armin van Buuren</td><td>Phone Down - Club Mix</td><td>14180</td><td>false</td><td>1556682878369</td><td>Android</td><td>endplay</td><td>clickrow</td><td>true</td><td>null</td><td>null</td><td>spotify:track:1PyBSWc1OxMfH5kdnN0BBm</td><td>2019-05-01T03:52:58Z</td><td>unknown</td><td>sizadnwyjbypwfamybxul84er</td></tr><tr><td>IN</td><td>null</td><td>null</td><td>false</td><td>106.76.203.184</td><td>Blah Blah Blah</td><td>Armin van Buuren</td><td>Blah Blah Blah</td><td>113455</td><td>false</td><td>1556682894144</td><td>Android</td><td>endplay</td><td>clickrow</td><td>false</td><td>null</td><td>null</td><td>spotify:track:2xkrujtSjZz7EKAYGbIIzH</td><td>2019-05-01T03:54:52Z</td><td>unknown</td><td>sizadnwyjbypwfamybxul84er</td></tr></tbody></table></div>"
      ]
     },
     "metadata": {
      "application/vnd.databricks.v1+output": {
       "addedWidgets": {},
       "aggData": [],
       "aggError": "",
       "aggOverflow": false,
       "aggSchema": [],
       "aggSeriesLimitReached": false,
       "aggType": "",
       "arguments": {},
       "columnCustomDisplayInfos": {},
       "data": [
        [
         "IN",
         null,
         null,
         false,
         "106.76.203.184",
         "So Far Away (feat. Jamie Scott & Romy Dya)",
         "Martin Garrix",
         "So Far Away (feat. Jamie Scott & Romy Dya)",
         31118,
         false,
         1556682399506,
         "Android",
         "endplay",
         "clickrow",
         false,
         null,
         null,
         "spotify:track:0OlnLZY4cmQzT6ZGttvWBM",
         "2019-05-01T03:45:22Z",
         "unknown",
         "sizadnwyjbypwfamybxul84er"
        ],
        [
         "IN",
         null,
         null,
         false,
         "106.76.203.184",
         "Boomerang",
         "Brooks",
         "Boomerang",
         0,
         false,
         1556682436279,
         "Android",
         "endplay",
         "clickrow",
         false,
         null,
         null,
         "spotify:track:6Gw2dHX6FsQcIuiWxe0vWk",
         "2019-05-01T03:45:22Z",
         "unknown",
         "sizadnwyjbypwfamybxul84er"
        ],
        [
         "IN",
         null,
         null,
         false,
         "106.76.203.184",
         "Boomerang",
         "Brooks",
         "Boomerang",
         24928,
         false,
         1556682437210,
         "Android",
         "backbtn",
         "clickrow",
         false,
         null,
         null,
         "spotify:track:6Gw2dHX6FsQcIuiWxe0vWk",
         "2019-05-01T03:45:48Z",
         "unknown",
         "sizadnwyjbypwfamybxul84er"
        ],
        [
         "IN",
         null,
         null,
         false,
         "106.76.203.184",
         "Seven",
         "Martin Garrix",
         "Sun Is Never Going Down (feat. Dawn Golden)",
         1960,
         false,
         1556682463780,
         "Android",
         "endplay",
         "backbtn",
         false,
         null,
         null,
         "spotify:track:6x7r0lpyqxBKGq8J7LFMeu",
         "2019-05-01T03:46:03Z",
         "unknown",
         "sizadnwyjbypwfamybxul84er"
        ],
        [
         "IN",
         null,
         null,
         false,
         "106.76.203.184",
         "On My Way",
         "Alan Walker",
         "On My Way",
         193797,
         false,
         1556682478622,
         "Android",
         "trackdone",
         "clickrow",
         false,
         null,
         null,
         "spotify:track:4n7jnSxVLd8QioibtTDBDq",
         "2019-05-01T03:49:16Z",
         "unknown",
         "sizadnwyjbypwfamybxul84er"
        ],
        [
         "IN",
         null,
         null,
         false,
         "106.76.203.184",
         "Different World",
         "Alan Walker",
         "Lily",
         165223,
         false,
         1556682671489,
         "Android",
         "endplay",
         "trackdone",
         false,
         null,
         null,
         "spotify:track:0lks2Kt9veMOFEAPN0fsqN",
         "2019-05-01T03:52:03Z",
         "unknown",
         "sizadnwyjbypwfamybxul84er"
        ],
        [
         "IN",
         null,
         null,
         false,
         "106.76.203.184",
         "More Than You Know",
         "Axwell /\\ Ingrosso",
         "More Than You Know",
         20291,
         false,
         1556682839104,
         "Android",
         "endplay",
         "clickrow",
         false,
         null,
         null,
         "spotify:track:6h5PAsRni4IRlxWr6uDPTP",
         "2019-05-01T03:52:24Z",
         "unknown",
         "sizadnwyjbypwfamybxul84er"
        ],
        [
         "IN",
         null,
         null,
         false,
         "106.76.203.184",
         "More Than You Know",
         "Axwell /\\ Ingrosso",
         "Dreamer",
         17752,
         false,
         1556682860044,
         "Android",
         "endplay",
         "clickrow",
         false,
         null,
         null,
         "spotify:track:0RTzJVkunbGwuRjXDFHnjf",
         "2019-05-01T03:52:43Z",
         "unknown",
         "sizadnwyjbypwfamybxul84er"
        ],
        [
         "IN",
         null,
         null,
         false,
         "106.76.203.184",
         "Phone Down",
         "Armin van Buuren",
         "Phone Down - Club Mix",
         14180,
         false,
         1556682878369,
         "Android",
         "endplay",
         "clickrow",
         true,
         null,
         null,
         "spotify:track:1PyBSWc1OxMfH5kdnN0BBm",
         "2019-05-01T03:52:58Z",
         "unknown",
         "sizadnwyjbypwfamybxul84er"
        ],
        [
         "IN",
         null,
         null,
         false,
         "106.76.203.184",
         "Blah Blah Blah",
         "Armin van Buuren",
         "Blah Blah Blah",
         113455,
         false,
         1556682894144,
         "Android",
         "endplay",
         "clickrow",
         false,
         null,
         null,
         "spotify:track:2xkrujtSjZz7EKAYGbIIzH",
         "2019-05-01T03:54:52Z",
         "unknown",
         "sizadnwyjbypwfamybxul84er"
        ]
       ],
       "datasetInfos": [],
       "dbfsResultPath": null,
       "isJsonSchema": true,
       "metadata": {},
       "overflow": false,
       "plotOptions": {
        "customPlotOptions": {},
        "displayType": "table",
        "pivotAggregation": null,
        "pivotColumns": null,
        "xColumns": null,
        "yColumns": null
       },
       "removedWidgets": [],
       "schema": [
        {
         "metadata": "{}",
         "name": "conn_country",
         "type": "\"string\""
        },
        {
         "metadata": "{}",
         "name": "episode_name",
         "type": "\"string\""
        },
        {
         "metadata": "{}",
         "name": "episode_show_name",
         "type": "\"string\""
        },
        {
         "metadata": "{}",
         "name": "incognito_mode",
         "type": "\"boolean\""
        },
        {
         "metadata": "{}",
         "name": "ip_addr_decrypted",
         "type": "\"string\""
        },
        {
         "metadata": "{}",
         "name": "album_name",
         "type": "\"string\""
        },
        {
         "metadata": "{}",
         "name": "artist_name",
         "type": "\"string\""
        },
        {
         "metadata": "{}",
         "name": "track_name",
         "type": "\"string\""
        },
        {
         "metadata": "{}",
         "name": "ms_played",
         "type": "\"long\""
        },
        {
         "metadata": "{}",
         "name": "offline",
         "type": "\"boolean\""
        },
        {
         "metadata": "{}",
         "name": "offline_timestamp",
         "type": "\"long\""
        },
        {
         "metadata": "{}",
         "name": "platform",
         "type": "\"string\""
        },
        {
         "metadata": "{}",
         "name": "reason_end",
         "type": "\"string\""
        },
        {
         "metadata": "{}",
         "name": "reason_start",
         "type": "\"string\""
        },
        {
         "metadata": "{}",
         "name": "shuffle",
         "type": "\"boolean\""
        },
        {
         "metadata": "{}",
         "name": "skipped",
         "type": "\"boolean\""
        },
        {
         "metadata": "{}",
         "name": "spotify_episode_uri",
         "type": "\"string\""
        },
        {
         "metadata": "{}",
         "name": "spotify_track_uri",
         "type": "\"string\""
        },
        {
         "metadata": "{}",
         "name": "ts",
         "type": "\"string\""
        },
        {
         "metadata": "{}",
         "name": "user_agent_decrypted",
         "type": "\"string\""
        },
        {
         "metadata": "{}",
         "name": "username",
         "type": "\"string\""
        }
       ],
       "type": "table"
      }
     },
     "output_type": "display_data"
    }
   ],
   "source": [
    "from pyspark.sql.functions import lower, when\n",
    "df = df.withColumn('platform',\n",
    "                   when(lower('platform').contains('windows'), 'Windows')\\\n",
    "                       .when(lower('platform').contains('android'), 'Android')\\\n",
    "                           .otherwise(None)\n",
    "                           )\n",
    "df.limit(10).display()"
   ]
  },
  {
   "cell_type": "code",
   "execution_count": 0,
   "metadata": {
    "application/vnd.databricks.v1+cell": {
     "cellMetadata": {
      "byteLimit": 2048000,
      "rowLimit": 10000
     },
     "inputWidgets": {},
     "nuid": "923d9e93-26ea-44ca-8313-4357b55590aa",
     "showTitle": false,
     "title": ""
    }
   },
   "outputs": [],
   "source": [
    "# Creating a new dataset by considering only required features.\n",
    "sp_df = df.select(['album_name', 'artist_name', 'track_name', 'ms_played', 'platform', 'reason_end', 'reason_start', 'shuffle', 'skipped', 'ts'])"
   ]
  },
  {
   "cell_type": "code",
   "execution_count": 0,
   "metadata": {
    "application/vnd.databricks.v1+cell": {
     "cellMetadata": {
      "byteLimit": 2048000,
      "rowLimit": 10000
     },
     "inputWidgets": {},
     "nuid": "e5e8f182-cd24-430c-bf16-198e05b846ed",
     "showTitle": false,
     "title": ""
    }
   },
   "outputs": [
    {
     "output_type": "execute_result",
     "data": {
      "text/plain": [
       "10"
      ]
     },
     "execution_count": 35,
     "metadata": {},
     "output_type": "execute_result"
    }
   ],
   "source": [
    "len(sp_df.columns)"
   ]
  },
  {
   "cell_type": "code",
   "execution_count": 0,
   "metadata": {
    "application/vnd.databricks.v1+cell": {
     "cellMetadata": {
      "byteLimit": 2048000,
      "rowLimit": 10000
     },
     "inputWidgets": {},
     "nuid": "97527bb1-60a4-445b-8ce4-8d18d837a4bf",
     "showTitle": false,
     "title": ""
    }
   },
   "outputs": [
    {
     "output_type": "execute_result",
     "data": {
      "text/plain": [
       "13569"
      ]
     },
     "execution_count": 36,
     "metadata": {},
     "output_type": "execute_result"
    }
   ],
   "source": [
    "# No. of records in dataset\n",
    "sp_df.count()"
   ]
  },
  {
   "cell_type": "code",
   "execution_count": 0,
   "metadata": {
    "application/vnd.databricks.v1+cell": {
     "cellMetadata": {
      "byteLimit": 2048000,
      "rowLimit": 10000
     },
     "inputWidgets": {},
     "nuid": "39f45a3d-893a-4fc9-a32e-e54da563f94a",
     "showTitle": false,
     "title": ""
    }
   },
   "outputs": [
    {
     "output_type": "display_data",
     "data": {
      "text/html": [
       "<style scoped>\n",
       "  .table-result-container {\n",
       "    max-height: 300px;\n",
       "    overflow: auto;\n",
       "  }\n",
       "  table, th, td {\n",
       "    border: 1px solid black;\n",
       "    border-collapse: collapse;\n",
       "  }\n",
       "  th, td {\n",
       "    padding: 5px;\n",
       "  }\n",
       "  th {\n",
       "    text-align: left;\n",
       "  }\n",
       "</style><div class='table-result-container'><table class='table-result'><thead style='background-color: white'><tr><th>album_name</th><th>artist_name</th><th>track_name</th><th>ms_played</th><th>platform</th><th>reason_end</th><th>reason_start</th><th>shuffle</th><th>skipped</th><th>ts</th></tr></thead><tbody><tr><td>So Far Away (feat. Jamie Scott & Romy Dya)</td><td>Martin Garrix</td><td>So Far Away (feat. Jamie Scott & Romy Dya)</td><td>31118</td><td>Android</td><td>endplay</td><td>clickrow</td><td>false</td><td>null</td><td>2019-05-01T03:45:22Z</td></tr><tr><td>Boomerang</td><td>Brooks</td><td>Boomerang</td><td>0</td><td>Android</td><td>endplay</td><td>clickrow</td><td>false</td><td>null</td><td>2019-05-01T03:45:22Z</td></tr><tr><td>Boomerang</td><td>Brooks</td><td>Boomerang</td><td>24928</td><td>Android</td><td>backbtn</td><td>clickrow</td><td>false</td><td>null</td><td>2019-05-01T03:45:48Z</td></tr><tr><td>Seven</td><td>Martin Garrix</td><td>Sun Is Never Going Down (feat. Dawn Golden)</td><td>1960</td><td>Android</td><td>endplay</td><td>backbtn</td><td>false</td><td>null</td><td>2019-05-01T03:46:03Z</td></tr><tr><td>On My Way</td><td>Alan Walker</td><td>On My Way</td><td>193797</td><td>Android</td><td>trackdone</td><td>clickrow</td><td>false</td><td>null</td><td>2019-05-01T03:49:16Z</td></tr><tr><td>Different World</td><td>Alan Walker</td><td>Lily</td><td>165223</td><td>Android</td><td>endplay</td><td>trackdone</td><td>false</td><td>null</td><td>2019-05-01T03:52:03Z</td></tr><tr><td>More Than You Know</td><td>Axwell /\\ Ingrosso</td><td>More Than You Know</td><td>20291</td><td>Android</td><td>endplay</td><td>clickrow</td><td>false</td><td>null</td><td>2019-05-01T03:52:24Z</td></tr><tr><td>More Than You Know</td><td>Axwell /\\ Ingrosso</td><td>Dreamer</td><td>17752</td><td>Android</td><td>endplay</td><td>clickrow</td><td>false</td><td>null</td><td>2019-05-01T03:52:43Z</td></tr><tr><td>Phone Down</td><td>Armin van Buuren</td><td>Phone Down - Club Mix</td><td>14180</td><td>Android</td><td>endplay</td><td>clickrow</td><td>true</td><td>null</td><td>2019-05-01T03:52:58Z</td></tr><tr><td>Blah Blah Blah</td><td>Armin van Buuren</td><td>Blah Blah Blah</td><td>113455</td><td>Android</td><td>endplay</td><td>clickrow</td><td>false</td><td>null</td><td>2019-05-01T03:54:52Z</td></tr></tbody></table></div>"
      ]
     },
     "metadata": {
      "application/vnd.databricks.v1+output": {
       "addedWidgets": {},
       "aggData": [],
       "aggError": "",
       "aggOverflow": false,
       "aggSchema": [],
       "aggSeriesLimitReached": false,
       "aggType": "",
       "arguments": {},
       "columnCustomDisplayInfos": {},
       "data": [
        [
         "So Far Away (feat. Jamie Scott & Romy Dya)",
         "Martin Garrix",
         "So Far Away (feat. Jamie Scott & Romy Dya)",
         31118,
         "Android",
         "endplay",
         "clickrow",
         false,
         null,
         "2019-05-01T03:45:22Z"
        ],
        [
         "Boomerang",
         "Brooks",
         "Boomerang",
         0,
         "Android",
         "endplay",
         "clickrow",
         false,
         null,
         "2019-05-01T03:45:22Z"
        ],
        [
         "Boomerang",
         "Brooks",
         "Boomerang",
         24928,
         "Android",
         "backbtn",
         "clickrow",
         false,
         null,
         "2019-05-01T03:45:48Z"
        ],
        [
         "Seven",
         "Martin Garrix",
         "Sun Is Never Going Down (feat. Dawn Golden)",
         1960,
         "Android",
         "endplay",
         "backbtn",
         false,
         null,
         "2019-05-01T03:46:03Z"
        ],
        [
         "On My Way",
         "Alan Walker",
         "On My Way",
         193797,
         "Android",
         "trackdone",
         "clickrow",
         false,
         null,
         "2019-05-01T03:49:16Z"
        ],
        [
         "Different World",
         "Alan Walker",
         "Lily",
         165223,
         "Android",
         "endplay",
         "trackdone",
         false,
         null,
         "2019-05-01T03:52:03Z"
        ],
        [
         "More Than You Know",
         "Axwell /\\ Ingrosso",
         "More Than You Know",
         20291,
         "Android",
         "endplay",
         "clickrow",
         false,
         null,
         "2019-05-01T03:52:24Z"
        ],
        [
         "More Than You Know",
         "Axwell /\\ Ingrosso",
         "Dreamer",
         17752,
         "Android",
         "endplay",
         "clickrow",
         false,
         null,
         "2019-05-01T03:52:43Z"
        ],
        [
         "Phone Down",
         "Armin van Buuren",
         "Phone Down - Club Mix",
         14180,
         "Android",
         "endplay",
         "clickrow",
         true,
         null,
         "2019-05-01T03:52:58Z"
        ],
        [
         "Blah Blah Blah",
         "Armin van Buuren",
         "Blah Blah Blah",
         113455,
         "Android",
         "endplay",
         "clickrow",
         false,
         null,
         "2019-05-01T03:54:52Z"
        ]
       ],
       "datasetInfos": [],
       "dbfsResultPath": null,
       "isJsonSchema": true,
       "metadata": {},
       "overflow": false,
       "plotOptions": {
        "customPlotOptions": {},
        "displayType": "table",
        "pivotAggregation": null,
        "pivotColumns": null,
        "xColumns": null,
        "yColumns": null
       },
       "removedWidgets": [],
       "schema": [
        {
         "metadata": "{}",
         "name": "album_name",
         "type": "\"string\""
        },
        {
         "metadata": "{}",
         "name": "artist_name",
         "type": "\"string\""
        },
        {
         "metadata": "{}",
         "name": "track_name",
         "type": "\"string\""
        },
        {
         "metadata": "{}",
         "name": "ms_played",
         "type": "\"long\""
        },
        {
         "metadata": "{}",
         "name": "platform",
         "type": "\"string\""
        },
        {
         "metadata": "{}",
         "name": "reason_end",
         "type": "\"string\""
        },
        {
         "metadata": "{}",
         "name": "reason_start",
         "type": "\"string\""
        },
        {
         "metadata": "{}",
         "name": "shuffle",
         "type": "\"boolean\""
        },
        {
         "metadata": "{}",
         "name": "skipped",
         "type": "\"boolean\""
        },
        {
         "metadata": "{}",
         "name": "ts",
         "type": "\"string\""
        }
       ],
       "type": "table"
      }
     },
     "output_type": "display_data"
    }
   ],
   "source": [
    "sp_df.limit(10).display()"
   ]
  },
  {
   "cell_type": "code",
   "execution_count": 0,
   "metadata": {
    "application/vnd.databricks.v1+cell": {
     "cellMetadata": {
      "byteLimit": 2048000,
      "rowLimit": 10000
     },
     "inputWidgets": {},
     "nuid": "8ba1d60e-4358-4103-b3f1-7d4d2eeff519",
     "showTitle": false,
     "title": ""
    }
   },
   "outputs": [
    {
     "output_type": "display_data",
     "data": {
      "text/html": [
       "<style scoped>\n",
       "  .table-result-container {\n",
       "    max-height: 300px;\n",
       "    overflow: auto;\n",
       "  }\n",
       "  table, th, td {\n",
       "    border: 1px solid black;\n",
       "    border-collapse: collapse;\n",
       "  }\n",
       "  th, td {\n",
       "    padding: 5px;\n",
       "  }\n",
       "  th {\n",
       "    text-align: left;\n",
       "  }\n",
       "</style><div class='table-result-container'><table class='table-result'><thead style='background-color: white'><tr><th>album_name</th><th>artist_name</th><th>track_name</th><th>ms_played</th><th>platform</th><th>reason_end</th><th>reason_start</th><th>shuffle</th><th>skipped</th><th>ts</th></tr></thead><tbody><tr><td>12</td><td>12</td><td>12</td><td>0</td><td>0</td><td>0</td><td>0</td><td>0</td><td>1073</td><td>0</td></tr></tbody></table></div>"
      ]
     },
     "metadata": {
      "application/vnd.databricks.v1+output": {
       "addedWidgets": {},
       "aggData": [],
       "aggError": "",
       "aggOverflow": false,
       "aggSchema": [],
       "aggSeriesLimitReached": false,
       "aggType": "",
       "arguments": {},
       "columnCustomDisplayInfos": {},
       "data": [
        [
         12,
         12,
         12,
         0,
         0,
         0,
         0,
         0,
         1073,
         0
        ]
       ],
       "datasetInfos": [],
       "dbfsResultPath": null,
       "isJsonSchema": true,
       "metadata": {},
       "overflow": false,
       "plotOptions": {
        "customPlotOptions": {},
        "displayType": "table",
        "pivotAggregation": null,
        "pivotColumns": null,
        "xColumns": null,
        "yColumns": null
       },
       "removedWidgets": [],
       "schema": [
        {
         "metadata": "{}",
         "name": "album_name",
         "type": "\"long\""
        },
        {
         "metadata": "{}",
         "name": "artist_name",
         "type": "\"long\""
        },
        {
         "metadata": "{}",
         "name": "track_name",
         "type": "\"long\""
        },
        {
         "metadata": "{}",
         "name": "ms_played",
         "type": "\"long\""
        },
        {
         "metadata": "{}",
         "name": "platform",
         "type": "\"long\""
        },
        {
         "metadata": "{}",
         "name": "reason_end",
         "type": "\"long\""
        },
        {
         "metadata": "{}",
         "name": "reason_start",
         "type": "\"long\""
        },
        {
         "metadata": "{}",
         "name": "shuffle",
         "type": "\"long\""
        },
        {
         "metadata": "{}",
         "name": "skipped",
         "type": "\"long\""
        },
        {
         "metadata": "{}",
         "name": "ts",
         "type": "\"long\""
        }
       ],
       "type": "table"
      }
     },
     "output_type": "display_data"
    },
    {
     "output_type": "execute_result",
     "data": {
      "text/plain": [
       "{'album_name': 12,\n",
       " 'artist_name': 12,\n",
       " 'track_name': 12,\n",
       " 'ms_played': 0,\n",
       " 'platform': 0,\n",
       " 'reason_end': 0,\n",
       " 'reason_start': 0,\n",
       " 'shuffle': 0,\n",
       " 'skipped': 1073,\n",
       " 'ts': 0}"
      ]
     },
     "execution_count": 38,
     "metadata": {},
     "output_type": "execute_result"
    }
   ],
   "source": [
    "#Displaying the count of NULL values in each Column.\n",
    "from pyspark.sql.functions import col, when, count, coalesce\n",
    "df_null_count = sp_df.select([count(when(col(c).isNull(),c)).alias(c) for c in sp_df.columns])\n",
    "df_null_count.display(10)\n",
    "# A Dictonary with columns and count of null values.\n",
    "df_null_count_dict = {c : sp_df.filter(col(c).isNull()).count() for c in sp_df.columns}\n",
    "df_null_count_dict"
   ]
  },
  {
   "cell_type": "code",
   "execution_count": 0,
   "metadata": {
    "application/vnd.databricks.v1+cell": {
     "cellMetadata": {
      "byteLimit": 2048000,
      "rowLimit": 10000
     },
     "inputWidgets": {},
     "nuid": "788dbbe2-a0db-4a91-a2df-2fa6a9324b49",
     "showTitle": false,
     "title": ""
    }
   },
   "outputs": [],
   "source": [
    "sp_df = sp_df.dropna(subset=['album_name', 'artist_name', 'track_name'])"
   ]
  },
  {
   "cell_type": "code",
   "execution_count": 0,
   "metadata": {
    "application/vnd.databricks.v1+cell": {
     "cellMetadata": {
      "byteLimit": 2048000,
      "rowLimit": 10000
     },
     "inputWidgets": {},
     "nuid": "de96f7cd-a3de-4ba0-b9b2-a99dd7d3b070",
     "showTitle": false,
     "title": ""
    }
   },
   "outputs": [],
   "source": [
    "# Replacing the NULL values to False\n",
    "#Method 1 - Using WHEN function.\n",
    "sp_df = sp_df.withColumn('skipped', when(col('skipped').isNull(), False).otherwise(col('skipped')))\n",
    "\n",
    "#Method 2 - Using COALESCE function.\n",
    "# sp_df = sp_df.withColumn('skipped', coalesce(col('skipped'), lit(False)))"
   ]
  },
  {
   "cell_type": "code",
   "execution_count": 0,
   "metadata": {
    "application/vnd.databricks.v1+cell": {
     "cellMetadata": {
      "byteLimit": 2048000,
      "rowLimit": 10000
     },
     "inputWidgets": {},
     "nuid": "6ace88db-e4c1-433e-8c10-67b92cb5ca2e",
     "showTitle": false,
     "title": ""
    }
   },
   "outputs": [
    {
     "output_type": "display_data",
     "data": {
      "text/html": [
       "<style scoped>\n",
       "  .table-result-container {\n",
       "    max-height: 300px;\n",
       "    overflow: auto;\n",
       "  }\n",
       "  table, th, td {\n",
       "    border: 1px solid black;\n",
       "    border-collapse: collapse;\n",
       "  }\n",
       "  th, td {\n",
       "    padding: 5px;\n",
       "  }\n",
       "  th {\n",
       "    text-align: left;\n",
       "  }\n",
       "</style><div class='table-result-container'><table class='table-result'><thead style='background-color: white'><tr><th>album_name</th><th>artist_name</th><th>track_name</th><th>ms_played</th><th>platform</th><th>reason_end</th><th>reason_start</th><th>shuffle</th><th>skipped</th><th>ts</th></tr></thead><tbody><tr><td>0</td><td>0</td><td>0</td><td>0</td><td>0</td><td>0</td><td>0</td><td>0</td><td>0</td><td>0</td></tr></tbody></table></div>"
      ]
     },
     "metadata": {
      "application/vnd.databricks.v1+output": {
       "addedWidgets": {},
       "aggData": [],
       "aggError": "",
       "aggOverflow": false,
       "aggSchema": [],
       "aggSeriesLimitReached": false,
       "aggType": "",
       "arguments": {},
       "columnCustomDisplayInfos": {},
       "data": [
        [
         0,
         0,
         0,
         0,
         0,
         0,
         0,
         0,
         0,
         0
        ]
       ],
       "datasetInfos": [],
       "dbfsResultPath": null,
       "isJsonSchema": true,
       "metadata": {},
       "overflow": false,
       "plotOptions": {
        "customPlotOptions": {},
        "displayType": "table",
        "pivotAggregation": null,
        "pivotColumns": null,
        "xColumns": null,
        "yColumns": null
       },
       "removedWidgets": [],
       "schema": [
        {
         "metadata": "{}",
         "name": "album_name",
         "type": "\"long\""
        },
        {
         "metadata": "{}",
         "name": "artist_name",
         "type": "\"long\""
        },
        {
         "metadata": "{}",
         "name": "track_name",
         "type": "\"long\""
        },
        {
         "metadata": "{}",
         "name": "ms_played",
         "type": "\"long\""
        },
        {
         "metadata": "{}",
         "name": "platform",
         "type": "\"long\""
        },
        {
         "metadata": "{}",
         "name": "reason_end",
         "type": "\"long\""
        },
        {
         "metadata": "{}",
         "name": "reason_start",
         "type": "\"long\""
        },
        {
         "metadata": "{}",
         "name": "shuffle",
         "type": "\"long\""
        },
        {
         "metadata": "{}",
         "name": "skipped",
         "type": "\"long\""
        },
        {
         "metadata": "{}",
         "name": "ts",
         "type": "\"long\""
        }
       ],
       "type": "table"
      }
     },
     "output_type": "display_data"
    }
   ],
   "source": [
    "from pyspark.sql.functions import col, when, count, coalesce\n",
    "df_null_count = sp_df.select([count(when(col(c).isNull(),c)).alias(c) for c in sp_df.columns])\n",
    "df_null_count.display(10)"
   ]
  },
  {
   "cell_type": "code",
   "execution_count": 0,
   "metadata": {
    "application/vnd.databricks.v1+cell": {
     "cellMetadata": {
      "byteLimit": 2048000,
      "rowLimit": 10000
     },
     "inputWidgets": {},
     "nuid": "a351120c-c71b-4d18-8b4c-5779a55cd7de",
     "showTitle": false,
     "title": ""
    }
   },
   "outputs": [
    {
     "output_type": "display_data",
     "data": {
      "text/html": [
       "<style scoped>\n",
       "  .table-result-container {\n",
       "    max-height: 300px;\n",
       "    overflow: auto;\n",
       "  }\n",
       "  table, th, td {\n",
       "    border: 1px solid black;\n",
       "    border-collapse: collapse;\n",
       "  }\n",
       "  th, td {\n",
       "    padding: 5px;\n",
       "  }\n",
       "  th {\n",
       "    text-align: left;\n",
       "  }\n",
       "</style><div class='table-result-container'><table class='table-result'><thead style='background-color: white'><tr><th>album_name</th><th>artist_name</th><th>track_name</th><th>ms_played</th><th>platform</th><th>reason_end</th><th>reason_start</th><th>shuffle</th><th>skipped</th><th>ts</th><th>date</th></tr></thead><tbody><tr><td>So Far Away (feat. Jamie Scott & Romy Dya)</td><td>Martin Garrix</td><td>So Far Away (feat. Jamie Scott & Romy Dya)</td><td>31118</td><td>Android</td><td>endplay</td><td>clickrow</td><td>false</td><td>false</td><td>2019-05-01T03:45:22Z</td><td>2019-05-01</td></tr><tr><td>Boomerang</td><td>Brooks</td><td>Boomerang</td><td>0</td><td>Android</td><td>endplay</td><td>clickrow</td><td>false</td><td>false</td><td>2019-05-01T03:45:22Z</td><td>2019-05-01</td></tr><tr><td>Boomerang</td><td>Brooks</td><td>Boomerang</td><td>24928</td><td>Android</td><td>backbtn</td><td>clickrow</td><td>false</td><td>false</td><td>2019-05-01T03:45:48Z</td><td>2019-05-01</td></tr><tr><td>Seven</td><td>Martin Garrix</td><td>Sun Is Never Going Down (feat. Dawn Golden)</td><td>1960</td><td>Android</td><td>endplay</td><td>backbtn</td><td>false</td><td>false</td><td>2019-05-01T03:46:03Z</td><td>2019-05-01</td></tr><tr><td>On My Way</td><td>Alan Walker</td><td>On My Way</td><td>193797</td><td>Android</td><td>trackdone</td><td>clickrow</td><td>false</td><td>false</td><td>2019-05-01T03:49:16Z</td><td>2019-05-01</td></tr><tr><td>Different World</td><td>Alan Walker</td><td>Lily</td><td>165223</td><td>Android</td><td>endplay</td><td>trackdone</td><td>false</td><td>false</td><td>2019-05-01T03:52:03Z</td><td>2019-05-01</td></tr><tr><td>More Than You Know</td><td>Axwell /\\ Ingrosso</td><td>More Than You Know</td><td>20291</td><td>Android</td><td>endplay</td><td>clickrow</td><td>false</td><td>false</td><td>2019-05-01T03:52:24Z</td><td>2019-05-01</td></tr><tr><td>More Than You Know</td><td>Axwell /\\ Ingrosso</td><td>Dreamer</td><td>17752</td><td>Android</td><td>endplay</td><td>clickrow</td><td>false</td><td>false</td><td>2019-05-01T03:52:43Z</td><td>2019-05-01</td></tr><tr><td>Phone Down</td><td>Armin van Buuren</td><td>Phone Down - Club Mix</td><td>14180</td><td>Android</td><td>endplay</td><td>clickrow</td><td>true</td><td>false</td><td>2019-05-01T03:52:58Z</td><td>2019-05-01</td></tr><tr><td>Blah Blah Blah</td><td>Armin van Buuren</td><td>Blah Blah Blah</td><td>113455</td><td>Android</td><td>endplay</td><td>clickrow</td><td>false</td><td>false</td><td>2019-05-01T03:54:52Z</td><td>2019-05-01</td></tr></tbody></table></div>"
      ]
     },
     "metadata": {
      "application/vnd.databricks.v1+output": {
       "addedWidgets": {},
       "aggData": [],
       "aggError": "",
       "aggOverflow": false,
       "aggSchema": [],
       "aggSeriesLimitReached": false,
       "aggType": "",
       "arguments": {},
       "columnCustomDisplayInfos": {},
       "data": [
        [
         "So Far Away (feat. Jamie Scott & Romy Dya)",
         "Martin Garrix",
         "So Far Away (feat. Jamie Scott & Romy Dya)",
         31118,
         "Android",
         "endplay",
         "clickrow",
         false,
         false,
         "2019-05-01T03:45:22Z",
         "2019-05-01"
        ],
        [
         "Boomerang",
         "Brooks",
         "Boomerang",
         0,
         "Android",
         "endplay",
         "clickrow",
         false,
         false,
         "2019-05-01T03:45:22Z",
         "2019-05-01"
        ],
        [
         "Boomerang",
         "Brooks",
         "Boomerang",
         24928,
         "Android",
         "backbtn",
         "clickrow",
         false,
         false,
         "2019-05-01T03:45:48Z",
         "2019-05-01"
        ],
        [
         "Seven",
         "Martin Garrix",
         "Sun Is Never Going Down (feat. Dawn Golden)",
         1960,
         "Android",
         "endplay",
         "backbtn",
         false,
         false,
         "2019-05-01T03:46:03Z",
         "2019-05-01"
        ],
        [
         "On My Way",
         "Alan Walker",
         "On My Way",
         193797,
         "Android",
         "trackdone",
         "clickrow",
         false,
         false,
         "2019-05-01T03:49:16Z",
         "2019-05-01"
        ],
        [
         "Different World",
         "Alan Walker",
         "Lily",
         165223,
         "Android",
         "endplay",
         "trackdone",
         false,
         false,
         "2019-05-01T03:52:03Z",
         "2019-05-01"
        ],
        [
         "More Than You Know",
         "Axwell /\\ Ingrosso",
         "More Than You Know",
         20291,
         "Android",
         "endplay",
         "clickrow",
         false,
         false,
         "2019-05-01T03:52:24Z",
         "2019-05-01"
        ],
        [
         "More Than You Know",
         "Axwell /\\ Ingrosso",
         "Dreamer",
         17752,
         "Android",
         "endplay",
         "clickrow",
         false,
         false,
         "2019-05-01T03:52:43Z",
         "2019-05-01"
        ],
        [
         "Phone Down",
         "Armin van Buuren",
         "Phone Down - Club Mix",
         14180,
         "Android",
         "endplay",
         "clickrow",
         true,
         false,
         "2019-05-01T03:52:58Z",
         "2019-05-01"
        ],
        [
         "Blah Blah Blah",
         "Armin van Buuren",
         "Blah Blah Blah",
         113455,
         "Android",
         "endplay",
         "clickrow",
         false,
         false,
         "2019-05-01T03:54:52Z",
         "2019-05-01"
        ]
       ],
       "datasetInfos": [],
       "dbfsResultPath": null,
       "isJsonSchema": true,
       "metadata": {},
       "overflow": false,
       "plotOptions": {
        "customPlotOptions": {},
        "displayType": "table",
        "pivotAggregation": null,
        "pivotColumns": null,
        "xColumns": null,
        "yColumns": null
       },
       "removedWidgets": [],
       "schema": [
        {
         "metadata": "{}",
         "name": "album_name",
         "type": "\"string\""
        },
        {
         "metadata": "{}",
         "name": "artist_name",
         "type": "\"string\""
        },
        {
         "metadata": "{}",
         "name": "track_name",
         "type": "\"string\""
        },
        {
         "metadata": "{}",
         "name": "ms_played",
         "type": "\"long\""
        },
        {
         "metadata": "{}",
         "name": "platform",
         "type": "\"string\""
        },
        {
         "metadata": "{}",
         "name": "reason_end",
         "type": "\"string\""
        },
        {
         "metadata": "{}",
         "name": "reason_start",
         "type": "\"string\""
        },
        {
         "metadata": "{}",
         "name": "shuffle",
         "type": "\"boolean\""
        },
        {
         "metadata": "{}",
         "name": "skipped",
         "type": "\"boolean\""
        },
        {
         "metadata": "{}",
         "name": "ts",
         "type": "\"string\""
        },
        {
         "metadata": "{}",
         "name": "date",
         "type": "\"date\""
        }
       ],
       "type": "table"
      }
     },
     "output_type": "display_data"
    }
   ],
   "source": [
    "sp_df = sp_df.withColumn('date', col('ts').cast('date'))\n",
    "sp_df.limit(10).display()"
   ]
  },
  {
   "cell_type": "code",
   "execution_count": 0,
   "metadata": {
    "application/vnd.databricks.v1+cell": {
     "cellMetadata": {
      "byteLimit": 2048000,
      "rowLimit": 10000
     },
     "inputWidgets": {},
     "nuid": "3cb884f7-6c73-4d23-81cc-ea7dea272606",
     "showTitle": false,
     "title": ""
    }
   },
   "outputs": [
    {
     "output_type": "display_data",
     "data": {
      "text/html": [
       "<style scoped>\n",
       "  .table-result-container {\n",
       "    max-height: 300px;\n",
       "    overflow: auto;\n",
       "  }\n",
       "  table, th, td {\n",
       "    border: 1px solid black;\n",
       "    border-collapse: collapse;\n",
       "  }\n",
       "  th, td {\n",
       "    padding: 5px;\n",
       "  }\n",
       "  th {\n",
       "    text-align: left;\n",
       "  }\n",
       "</style><div class='table-result-container'><table class='table-result'><thead style='background-color: white'><tr><th>album_name</th><th>artist_name</th><th>track_name</th><th>ms_played</th><th>platform</th><th>reason_end</th><th>reason_start</th><th>shuffle</th><th>skipped</th><th>ts</th><th>date</th><th>year</th><th>month</th><th>day</th></tr></thead><tbody><tr><td>So Far Away (feat. Jamie Scott & Romy Dya)</td><td>Martin Garrix</td><td>So Far Away (feat. Jamie Scott & Romy Dya)</td><td>31118</td><td>Android</td><td>endplay</td><td>clickrow</td><td>false</td><td>false</td><td>2019-05-01T03:45:22Z</td><td>2019-05-01</td><td>2019</td><td>May</td><td>Wednesday</td></tr><tr><td>Boomerang</td><td>Brooks</td><td>Boomerang</td><td>0</td><td>Android</td><td>endplay</td><td>clickrow</td><td>false</td><td>false</td><td>2019-05-01T03:45:22Z</td><td>2019-05-01</td><td>2019</td><td>May</td><td>Wednesday</td></tr><tr><td>Boomerang</td><td>Brooks</td><td>Boomerang</td><td>24928</td><td>Android</td><td>backbtn</td><td>clickrow</td><td>false</td><td>false</td><td>2019-05-01T03:45:48Z</td><td>2019-05-01</td><td>2019</td><td>May</td><td>Wednesday</td></tr><tr><td>Seven</td><td>Martin Garrix</td><td>Sun Is Never Going Down (feat. Dawn Golden)</td><td>1960</td><td>Android</td><td>endplay</td><td>backbtn</td><td>false</td><td>false</td><td>2019-05-01T03:46:03Z</td><td>2019-05-01</td><td>2019</td><td>May</td><td>Wednesday</td></tr><tr><td>On My Way</td><td>Alan Walker</td><td>On My Way</td><td>193797</td><td>Android</td><td>trackdone</td><td>clickrow</td><td>false</td><td>false</td><td>2019-05-01T03:49:16Z</td><td>2019-05-01</td><td>2019</td><td>May</td><td>Wednesday</td></tr><tr><td>Different World</td><td>Alan Walker</td><td>Lily</td><td>165223</td><td>Android</td><td>endplay</td><td>trackdone</td><td>false</td><td>false</td><td>2019-05-01T03:52:03Z</td><td>2019-05-01</td><td>2019</td><td>May</td><td>Wednesday</td></tr><tr><td>More Than You Know</td><td>Axwell /\\ Ingrosso</td><td>More Than You Know</td><td>20291</td><td>Android</td><td>endplay</td><td>clickrow</td><td>false</td><td>false</td><td>2019-05-01T03:52:24Z</td><td>2019-05-01</td><td>2019</td><td>May</td><td>Wednesday</td></tr><tr><td>More Than You Know</td><td>Axwell /\\ Ingrosso</td><td>Dreamer</td><td>17752</td><td>Android</td><td>endplay</td><td>clickrow</td><td>false</td><td>false</td><td>2019-05-01T03:52:43Z</td><td>2019-05-01</td><td>2019</td><td>May</td><td>Wednesday</td></tr><tr><td>Phone Down</td><td>Armin van Buuren</td><td>Phone Down - Club Mix</td><td>14180</td><td>Android</td><td>endplay</td><td>clickrow</td><td>true</td><td>false</td><td>2019-05-01T03:52:58Z</td><td>2019-05-01</td><td>2019</td><td>May</td><td>Wednesday</td></tr><tr><td>Blah Blah Blah</td><td>Armin van Buuren</td><td>Blah Blah Blah</td><td>113455</td><td>Android</td><td>endplay</td><td>clickrow</td><td>false</td><td>false</td><td>2019-05-01T03:54:52Z</td><td>2019-05-01</td><td>2019</td><td>May</td><td>Wednesday</td></tr></tbody></table></div>"
      ]
     },
     "metadata": {
      "application/vnd.databricks.v1+output": {
       "addedWidgets": {},
       "aggData": [],
       "aggError": "",
       "aggOverflow": false,
       "aggSchema": [],
       "aggSeriesLimitReached": false,
       "aggType": "",
       "arguments": {},
       "columnCustomDisplayInfos": {},
       "data": [
        [
         "So Far Away (feat. Jamie Scott & Romy Dya)",
         "Martin Garrix",
         "So Far Away (feat. Jamie Scott & Romy Dya)",
         31118,
         "Android",
         "endplay",
         "clickrow",
         false,
         false,
         "2019-05-01T03:45:22Z",
         "2019-05-01",
         "2019",
         "May",
         "Wednesday"
        ],
        [
         "Boomerang",
         "Brooks",
         "Boomerang",
         0,
         "Android",
         "endplay",
         "clickrow",
         false,
         false,
         "2019-05-01T03:45:22Z",
         "2019-05-01",
         "2019",
         "May",
         "Wednesday"
        ],
        [
         "Boomerang",
         "Brooks",
         "Boomerang",
         24928,
         "Android",
         "backbtn",
         "clickrow",
         false,
         false,
         "2019-05-01T03:45:48Z",
         "2019-05-01",
         "2019",
         "May",
         "Wednesday"
        ],
        [
         "Seven",
         "Martin Garrix",
         "Sun Is Never Going Down (feat. Dawn Golden)",
         1960,
         "Android",
         "endplay",
         "backbtn",
         false,
         false,
         "2019-05-01T03:46:03Z",
         "2019-05-01",
         "2019",
         "May",
         "Wednesday"
        ],
        [
         "On My Way",
         "Alan Walker",
         "On My Way",
         193797,
         "Android",
         "trackdone",
         "clickrow",
         false,
         false,
         "2019-05-01T03:49:16Z",
         "2019-05-01",
         "2019",
         "May",
         "Wednesday"
        ],
        [
         "Different World",
         "Alan Walker",
         "Lily",
         165223,
         "Android",
         "endplay",
         "trackdone",
         false,
         false,
         "2019-05-01T03:52:03Z",
         "2019-05-01",
         "2019",
         "May",
         "Wednesday"
        ],
        [
         "More Than You Know",
         "Axwell /\\ Ingrosso",
         "More Than You Know",
         20291,
         "Android",
         "endplay",
         "clickrow",
         false,
         false,
         "2019-05-01T03:52:24Z",
         "2019-05-01",
         "2019",
         "May",
         "Wednesday"
        ],
        [
         "More Than You Know",
         "Axwell /\\ Ingrosso",
         "Dreamer",
         17752,
         "Android",
         "endplay",
         "clickrow",
         false,
         false,
         "2019-05-01T03:52:43Z",
         "2019-05-01",
         "2019",
         "May",
         "Wednesday"
        ],
        [
         "Phone Down",
         "Armin van Buuren",
         "Phone Down - Club Mix",
         14180,
         "Android",
         "endplay",
         "clickrow",
         true,
         false,
         "2019-05-01T03:52:58Z",
         "2019-05-01",
         "2019",
         "May",
         "Wednesday"
        ],
        [
         "Blah Blah Blah",
         "Armin van Buuren",
         "Blah Blah Blah",
         113455,
         "Android",
         "endplay",
         "clickrow",
         false,
         false,
         "2019-05-01T03:54:52Z",
         "2019-05-01",
         "2019",
         "May",
         "Wednesday"
        ]
       ],
       "datasetInfos": [],
       "dbfsResultPath": null,
       "isJsonSchema": true,
       "metadata": {},
       "overflow": false,
       "plotOptions": {
        "customPlotOptions": {},
        "displayType": "table",
        "pivotAggregation": null,
        "pivotColumns": null,
        "xColumns": null,
        "yColumns": null
       },
       "removedWidgets": [],
       "schema": [
        {
         "metadata": "{}",
         "name": "album_name",
         "type": "\"string\""
        },
        {
         "metadata": "{}",
         "name": "artist_name",
         "type": "\"string\""
        },
        {
         "metadata": "{}",
         "name": "track_name",
         "type": "\"string\""
        },
        {
         "metadata": "{}",
         "name": "ms_played",
         "type": "\"long\""
        },
        {
         "metadata": "{}",
         "name": "platform",
         "type": "\"string\""
        },
        {
         "metadata": "{}",
         "name": "reason_end",
         "type": "\"string\""
        },
        {
         "metadata": "{}",
         "name": "reason_start",
         "type": "\"string\""
        },
        {
         "metadata": "{}",
         "name": "shuffle",
         "type": "\"boolean\""
        },
        {
         "metadata": "{}",
         "name": "skipped",
         "type": "\"boolean\""
        },
        {
         "metadata": "{}",
         "name": "ts",
         "type": "\"string\""
        },
        {
         "metadata": "{}",
         "name": "date",
         "type": "\"date\""
        },
        {
         "metadata": "{}",
         "name": "year",
         "type": "\"string\""
        },
        {
         "metadata": "{}",
         "name": "month",
         "type": "\"string\""
        },
        {
         "metadata": "{}",
         "name": "day",
         "type": "\"string\""
        }
       ],
       "type": "table"
      }
     },
     "output_type": "display_data"
    }
   ],
   "source": [
    "from pyspark.sql.functions import date_format\n",
    "sp_df = sp_df.withColumn('year', date_format('date', 'y'))\\\n",
    "        .withColumn('month', date_format('date', 'MMMM'))\\\n",
    "            .withColumn('day', date_format('date', 'EEEE'))\n",
    "sp_df.limit(10).display()"
   ]
  },
  {
   "cell_type": "code",
   "execution_count": 0,
   "metadata": {
    "application/vnd.databricks.v1+cell": {
     "cellMetadata": {
      "byteLimit": 2048000,
      "rowLimit": 10000
     },
     "inputWidgets": {},
     "nuid": "df88cab9-5b6b-46fd-be03-8cc32bcb1b0f",
     "showTitle": false,
     "title": ""
    }
   },
   "outputs": [
    {
     "output_type": "display_data",
     "data": {
      "text/html": [
       "<style scoped>\n",
       "  .table-result-container {\n",
       "    max-height: 300px;\n",
       "    overflow: auto;\n",
       "  }\n",
       "  table, th, td {\n",
       "    border: 1px solid black;\n",
       "    border-collapse: collapse;\n",
       "  }\n",
       "  th, td {\n",
       "    padding: 5px;\n",
       "  }\n",
       "  th {\n",
       "    text-align: left;\n",
       "  }\n",
       "</style><div class='table-result-container'><table class='table-result'><thead style='background-color: white'><tr><th>album_name</th><th>artist_name</th><th>track_name</th><th>ms_played</th><th>platform</th><th>reason_end</th><th>reason_start</th><th>shuffle</th><th>skipped</th><th>ts</th><th>date</th><th>year</th><th>month</th><th>day</th><th>month_num</th><th>day_num</th><th>hour</th></tr></thead><tbody><tr><td>So Far Away (feat. Jamie Scott & Romy Dya)</td><td>Martin Garrix</td><td>So Far Away (feat. Jamie Scott & Romy Dya)</td><td>31118</td><td>Android</td><td>endplay</td><td>clickrow</td><td>false</td><td>false</td><td>2019-05-01T03:45:22Z</td><td>2019-05-01</td><td>2019</td><td>May</td><td>Wednesday</td><td>5</td><td>4</td><td>3</td></tr><tr><td>Boomerang</td><td>Brooks</td><td>Boomerang</td><td>0</td><td>Android</td><td>endplay</td><td>clickrow</td><td>false</td><td>false</td><td>2019-05-01T03:45:22Z</td><td>2019-05-01</td><td>2019</td><td>May</td><td>Wednesday</td><td>5</td><td>4</td><td>3</td></tr><tr><td>Boomerang</td><td>Brooks</td><td>Boomerang</td><td>24928</td><td>Android</td><td>backbtn</td><td>clickrow</td><td>false</td><td>false</td><td>2019-05-01T03:45:48Z</td><td>2019-05-01</td><td>2019</td><td>May</td><td>Wednesday</td><td>5</td><td>4</td><td>3</td></tr><tr><td>Seven</td><td>Martin Garrix</td><td>Sun Is Never Going Down (feat. Dawn Golden)</td><td>1960</td><td>Android</td><td>endplay</td><td>backbtn</td><td>false</td><td>false</td><td>2019-05-01T03:46:03Z</td><td>2019-05-01</td><td>2019</td><td>May</td><td>Wednesday</td><td>5</td><td>4</td><td>3</td></tr><tr><td>On My Way</td><td>Alan Walker</td><td>On My Way</td><td>193797</td><td>Android</td><td>trackdone</td><td>clickrow</td><td>false</td><td>false</td><td>2019-05-01T03:49:16Z</td><td>2019-05-01</td><td>2019</td><td>May</td><td>Wednesday</td><td>5</td><td>4</td><td>3</td></tr><tr><td>Different World</td><td>Alan Walker</td><td>Lily</td><td>165223</td><td>Android</td><td>endplay</td><td>trackdone</td><td>false</td><td>false</td><td>2019-05-01T03:52:03Z</td><td>2019-05-01</td><td>2019</td><td>May</td><td>Wednesday</td><td>5</td><td>4</td><td>3</td></tr><tr><td>More Than You Know</td><td>Axwell /\\ Ingrosso</td><td>More Than You Know</td><td>20291</td><td>Android</td><td>endplay</td><td>clickrow</td><td>false</td><td>false</td><td>2019-05-01T03:52:24Z</td><td>2019-05-01</td><td>2019</td><td>May</td><td>Wednesday</td><td>5</td><td>4</td><td>3</td></tr><tr><td>More Than You Know</td><td>Axwell /\\ Ingrosso</td><td>Dreamer</td><td>17752</td><td>Android</td><td>endplay</td><td>clickrow</td><td>false</td><td>false</td><td>2019-05-01T03:52:43Z</td><td>2019-05-01</td><td>2019</td><td>May</td><td>Wednesday</td><td>5</td><td>4</td><td>3</td></tr><tr><td>Phone Down</td><td>Armin van Buuren</td><td>Phone Down - Club Mix</td><td>14180</td><td>Android</td><td>endplay</td><td>clickrow</td><td>true</td><td>false</td><td>2019-05-01T03:52:58Z</td><td>2019-05-01</td><td>2019</td><td>May</td><td>Wednesday</td><td>5</td><td>4</td><td>3</td></tr><tr><td>Blah Blah Blah</td><td>Armin van Buuren</td><td>Blah Blah Blah</td><td>113455</td><td>Android</td><td>endplay</td><td>clickrow</td><td>false</td><td>false</td><td>2019-05-01T03:54:52Z</td><td>2019-05-01</td><td>2019</td><td>May</td><td>Wednesday</td><td>5</td><td>4</td><td>3</td></tr></tbody></table></div>"
      ]
     },
     "metadata": {
      "application/vnd.databricks.v1+output": {
       "addedWidgets": {},
       "aggData": [],
       "aggError": "",
       "aggOverflow": false,
       "aggSchema": [],
       "aggSeriesLimitReached": false,
       "aggType": "",
       "arguments": {},
       "columnCustomDisplayInfos": {},
       "data": [
        [
         "So Far Away (feat. Jamie Scott & Romy Dya)",
         "Martin Garrix",
         "So Far Away (feat. Jamie Scott & Romy Dya)",
         31118,
         "Android",
         "endplay",
         "clickrow",
         false,
         false,
         "2019-05-01T03:45:22Z",
         "2019-05-01",
         2019,
         "May",
         "Wednesday",
         5,
         4,
         3
        ],
        [
         "Boomerang",
         "Brooks",
         "Boomerang",
         0,
         "Android",
         "endplay",
         "clickrow",
         false,
         false,
         "2019-05-01T03:45:22Z",
         "2019-05-01",
         2019,
         "May",
         "Wednesday",
         5,
         4,
         3
        ],
        [
         "Boomerang",
         "Brooks",
         "Boomerang",
         24928,
         "Android",
         "backbtn",
         "clickrow",
         false,
         false,
         "2019-05-01T03:45:48Z",
         "2019-05-01",
         2019,
         "May",
         "Wednesday",
         5,
         4,
         3
        ],
        [
         "Seven",
         "Martin Garrix",
         "Sun Is Never Going Down (feat. Dawn Golden)",
         1960,
         "Android",
         "endplay",
         "backbtn",
         false,
         false,
         "2019-05-01T03:46:03Z",
         "2019-05-01",
         2019,
         "May",
         "Wednesday",
         5,
         4,
         3
        ],
        [
         "On My Way",
         "Alan Walker",
         "On My Way",
         193797,
         "Android",
         "trackdone",
         "clickrow",
         false,
         false,
         "2019-05-01T03:49:16Z",
         "2019-05-01",
         2019,
         "May",
         "Wednesday",
         5,
         4,
         3
        ],
        [
         "Different World",
         "Alan Walker",
         "Lily",
         165223,
         "Android",
         "endplay",
         "trackdone",
         false,
         false,
         "2019-05-01T03:52:03Z",
         "2019-05-01",
         2019,
         "May",
         "Wednesday",
         5,
         4,
         3
        ],
        [
         "More Than You Know",
         "Axwell /\\ Ingrosso",
         "More Than You Know",
         20291,
         "Android",
         "endplay",
         "clickrow",
         false,
         false,
         "2019-05-01T03:52:24Z",
         "2019-05-01",
         2019,
         "May",
         "Wednesday",
         5,
         4,
         3
        ],
        [
         "More Than You Know",
         "Axwell /\\ Ingrosso",
         "Dreamer",
         17752,
         "Android",
         "endplay",
         "clickrow",
         false,
         false,
         "2019-05-01T03:52:43Z",
         "2019-05-01",
         2019,
         "May",
         "Wednesday",
         5,
         4,
         3
        ],
        [
         "Phone Down",
         "Armin van Buuren",
         "Phone Down - Club Mix",
         14180,
         "Android",
         "endplay",
         "clickrow",
         true,
         false,
         "2019-05-01T03:52:58Z",
         "2019-05-01",
         2019,
         "May",
         "Wednesday",
         5,
         4,
         3
        ],
        [
         "Blah Blah Blah",
         "Armin van Buuren",
         "Blah Blah Blah",
         113455,
         "Android",
         "endplay",
         "clickrow",
         false,
         false,
         "2019-05-01T03:54:52Z",
         "2019-05-01",
         2019,
         "May",
         "Wednesday",
         5,
         4,
         3
        ]
       ],
       "datasetInfos": [],
       "dbfsResultPath": null,
       "isJsonSchema": true,
       "metadata": {},
       "overflow": false,
       "plotOptions": {
        "customPlotOptions": {},
        "displayType": "table",
        "pivotAggregation": null,
        "pivotColumns": null,
        "xColumns": null,
        "yColumns": null
       },
       "removedWidgets": [],
       "schema": [
        {
         "metadata": "{}",
         "name": "album_name",
         "type": "\"string\""
        },
        {
         "metadata": "{}",
         "name": "artist_name",
         "type": "\"string\""
        },
        {
         "metadata": "{}",
         "name": "track_name",
         "type": "\"string\""
        },
        {
         "metadata": "{}",
         "name": "ms_played",
         "type": "\"long\""
        },
        {
         "metadata": "{}",
         "name": "platform",
         "type": "\"string\""
        },
        {
         "metadata": "{}",
         "name": "reason_end",
         "type": "\"string\""
        },
        {
         "metadata": "{}",
         "name": "reason_start",
         "type": "\"string\""
        },
        {
         "metadata": "{}",
         "name": "shuffle",
         "type": "\"boolean\""
        },
        {
         "metadata": "{}",
         "name": "skipped",
         "type": "\"boolean\""
        },
        {
         "metadata": "{}",
         "name": "ts",
         "type": "\"string\""
        },
        {
         "metadata": "{}",
         "name": "date",
         "type": "\"date\""
        },
        {
         "metadata": "{}",
         "name": "year",
         "type": "\"integer\""
        },
        {
         "metadata": "{}",
         "name": "month",
         "type": "\"string\""
        },
        {
         "metadata": "{}",
         "name": "day",
         "type": "\"string\""
        },
        {
         "metadata": "{}",
         "name": "month_num",
         "type": "\"integer\""
        },
        {
         "metadata": "{}",
         "name": "day_num",
         "type": "\"integer\""
        },
        {
         "metadata": "{}",
         "name": "hour",
         "type": "\"integer\""
        }
       ],
       "type": "table"
      }
     },
     "output_type": "display_data"
    }
   ],
   "source": [
    "from pyspark.sql.types import IntegerType\n",
    "sp_df = sp_df.withColumn('month_num', date_format(col('ts'), 'M'))\n",
    "sp_df = sp_df.withColumn('day_num',\n",
    "                 when(col('day')=='Sunday', 1)\\\n",
    "                     .when(col('day')=='Monday', 2)\\\n",
    "                         .when(col('day')=='Tuesday', 3)\\\n",
    "                             .when(col('day')=='Wednesday', 4)\\\n",
    "                                 .when(col('day')=='Thursday', 5)\\\n",
    "                                     .when(col('day')=='Friday', 6)\\\n",
    "                                         .when(col('day')=='Saturday', 7)\\\n",
    "                                             .otherwise(None))\n",
    "sp_df = sp_df.withColumn('hour', date_format(col('ts'), 'H'))\n",
    "sp_df = sp_df.withColumn('year', col('year').cast(IntegerType()))\\\n",
    "    .withColumn('month_num', col('month_num').cast(IntegerType()))\\\n",
    "        .withColumn('hour', col('hour').cast(IntegerType()))\n",
    "sp_df.limit(10).display()"
   ]
  },
  {
   "cell_type": "code",
   "execution_count": 0,
   "metadata": {
    "application/vnd.databricks.v1+cell": {
     "cellMetadata": {
      "byteLimit": 2048000,
      "rowLimit": 10000
     },
     "inputWidgets": {},
     "nuid": "7ea3839b-5db0-4580-97c6-f5f7d34753ff",
     "showTitle": false,
     "title": ""
    }
   },
   "outputs": [
    {
     "output_type": "stream",
     "name": "stdout",
     "output_type": "stream",
     "text": [
      "root\n |-- album_name: string (nullable = true)\n |-- artist_name: string (nullable = true)\n |-- track_name: string (nullable = true)\n |-- ms_played: long (nullable = true)\n |-- platform: string (nullable = true)\n |-- reason_end: string (nullable = true)\n |-- reason_start: string (nullable = true)\n |-- shuffle: boolean (nullable = true)\n |-- skipped: boolean (nullable = true)\n |-- ts: string (nullable = true)\n |-- date: date (nullable = true)\n |-- year: integer (nullable = true)\n |-- month: string (nullable = true)\n |-- day: string (nullable = true)\n |-- month_num: integer (nullable = true)\n |-- day_num: integer (nullable = true)\n |-- hour: integer (nullable = true)\n\n"
     ]
    }
   ],
   "source": [
    "sp_df.printSchema()"
   ]
  },
  {
   "cell_type": "code",
   "execution_count": 0,
   "metadata": {
    "application/vnd.databricks.v1+cell": {
     "cellMetadata": {
      "byteLimit": 2048000,
      "rowLimit": 10000
     },
     "inputWidgets": {},
     "nuid": "dbca5e16-1bc1-46b1-91bb-4a6d80d702b8",
     "showTitle": false,
     "title": ""
    }
   },
   "outputs": [
    {
     "output_type": "display_data",
     "data": {
      "text/html": [
       "<style scoped>\n",
       "  .table-result-container {\n",
       "    max-height: 300px;\n",
       "    overflow: auto;\n",
       "  }\n",
       "  table, th, td {\n",
       "    border: 1px solid black;\n",
       "    border-collapse: collapse;\n",
       "  }\n",
       "  th, td {\n",
       "    padding: 5px;\n",
       "  }\n",
       "  th {\n",
       "    text-align: left;\n",
       "  }\n",
       "</style><div class='table-result-container'><table class='table-result'><thead style='background-color: white'><tr><th>reason_end</th><th>count</th></tr></thead><tbody><tr><td>fwdbtn</td><td>4593</td></tr><tr><td>endplay</td><td>4420</td></tr><tr><td>trackdone</td><td>3429</td></tr><tr><td>logout</td><td>510</td></tr><tr><td>unexpected-exit-while-paused</td><td>379</td></tr><tr><td>backbtn</td><td>162</td></tr><tr><td>unexpected-exit</td><td>45</td></tr><tr><td>remote</td><td>16</td></tr><tr><td>unknown</td><td>2</td></tr><tr><td>trackerror</td><td>1</td></tr></tbody></table></div>"
      ]
     },
     "metadata": {
      "application/vnd.databricks.v1+output": {
       "addedWidgets": {},
       "aggData": [],
       "aggError": "",
       "aggOverflow": false,
       "aggSchema": [],
       "aggSeriesLimitReached": false,
       "aggType": "",
       "arguments": {},
       "columnCustomDisplayInfos": {},
       "data": [
        [
         "fwdbtn",
         4593
        ],
        [
         "endplay",
         4420
        ],
        [
         "trackdone",
         3429
        ],
        [
         "logout",
         510
        ],
        [
         "unexpected-exit-while-paused",
         379
        ],
        [
         "backbtn",
         162
        ],
        [
         "unexpected-exit",
         45
        ],
        [
         "remote",
         16
        ],
        [
         "unknown",
         2
        ],
        [
         "trackerror",
         1
        ]
       ],
       "datasetInfos": [],
       "dbfsResultPath": null,
       "isJsonSchema": true,
       "metadata": {},
       "overflow": false,
       "plotOptions": {
        "customPlotOptions": {},
        "displayType": "table",
        "pivotAggregation": null,
        "pivotColumns": null,
        "xColumns": null,
        "yColumns": null
       },
       "removedWidgets": [],
       "schema": [
        {
         "metadata": "{}",
         "name": "reason_end",
         "type": "\"string\""
        },
        {
         "metadata": "{}",
         "name": "count",
         "type": "\"long\""
        }
       ],
       "type": "table"
      }
     },
     "output_type": "display_data"
    },
    {
     "output_type": "display_data",
     "data": {
      "text/html": [
       "<style scoped>\n",
       "  .table-result-container {\n",
       "    max-height: 300px;\n",
       "    overflow: auto;\n",
       "  }\n",
       "  table, th, td {\n",
       "    border: 1px solid black;\n",
       "    border-collapse: collapse;\n",
       "  }\n",
       "  th, td {\n",
       "    padding: 5px;\n",
       "  }\n",
       "  th {\n",
       "    text-align: left;\n",
       "  }\n",
       "</style><div class='table-result-container'><table class='table-result'><thead style='background-color: white'><tr><th>shuffle</th><th>count</th></tr></thead><tbody><tr><td>false</td><td>7842</td></tr><tr><td>true</td><td>5715</td></tr></tbody></table></div>"
      ]
     },
     "metadata": {
      "application/vnd.databricks.v1+output": {
       "addedWidgets": {},
       "aggData": [],
       "aggError": "",
       "aggOverflow": false,
       "aggSchema": [],
       "aggSeriesLimitReached": false,
       "aggType": "",
       "arguments": {},
       "columnCustomDisplayInfos": {},
       "data": [
        [
         false,
         7842
        ],
        [
         true,
         5715
        ]
       ],
       "datasetInfos": [],
       "dbfsResultPath": null,
       "isJsonSchema": true,
       "metadata": {},
       "overflow": false,
       "plotOptions": {
        "customPlotOptions": {},
        "displayType": "table",
        "pivotAggregation": null,
        "pivotColumns": null,
        "xColumns": null,
        "yColumns": null
       },
       "removedWidgets": [],
       "schema": [
        {
         "metadata": "{}",
         "name": "shuffle",
         "type": "\"boolean\""
        },
        {
         "metadata": "{}",
         "name": "count",
         "type": "\"long\""
        }
       ],
       "type": "table"
      }
     },
     "output_type": "display_data"
    }
   ],
   "source": [
    "sp_df.groupBy('reason_end').count().orderBy('count', ascending = False).display()\n",
    "sp_df.groupBy('shuffle').count().orderBy('count', ascending = False).display()"
   ]
  },
  {
   "cell_type": "code",
   "execution_count": 0,
   "metadata": {
    "application/vnd.databricks.v1+cell": {
     "cellMetadata": {
      "byteLimit": 2048000,
      "rowLimit": 10000
     },
     "inputWidgets": {},
     "nuid": "63658d8b-e52e-44db-96f4-5e7b7ab29bd5",
     "showTitle": false,
     "title": ""
    }
   },
   "outputs": [],
   "source": [
    "sp_df.write.saveAsTable('spotify', format='delta', mode='overwrite')"
   ]
  }
 ],
 "metadata": {
  "application/vnd.databricks.v1+notebook": {
   "dashboards": [],
   "language": "python",
   "notebookMetadata": {
    "mostRecentlyExecutedCommandWithImplicitDF": {
     "commandId": 210016576716913,
     "dataframes": [
      "_sqldf"
     ]
    },
    "pythonIndentUnit": 4
   },
   "notebookName": "Data Loading And Transformation",
   "widgets": {}
  }
 },
 "nbformat": 4,
 "nbformat_minor": 0
}
