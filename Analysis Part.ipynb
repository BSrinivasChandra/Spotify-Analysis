{
 "cells": [
  {
   "cell_type": "markdown",
   "metadata": {
    "application/vnd.databricks.v1+cell": {
     "cellMetadata": {
      "byteLimit": 2048000,
      "rowLimit": 10000
     },
     "inputWidgets": {},
     "nuid": "a3975710-fea4-49ae-bcd3-56ee234d83e4",
     "showTitle": false,
     "title": ""
    }
   },
   "source": [
    "#Analysis Part\n",
    "As the extracted data transformed into the required format in the other notebook, This Notebook mainly emphasis on the *Exploration* and *Visualization*.\n",
    "\n",
    "- For Analysis/Expoloration, I have written SQL queries which are executed on databricks own ***SQL Editor***, but not on this notebook.  \n",
    "This notebook is to put all queries in one place.  \n",
    "- For visualization, databricks provides its own visualization tool. That has been used instead of any external libraries for creation of charts and graphs."
   ]
  },
  {
   "cell_type": "markdown",
   "metadata": {
    "application/vnd.databricks.v1+cell": {
     "cellMetadata": {},
     "inputWidgets": {},
     "nuid": "31889be9-809b-46e0-8206-67f4b8ff3b31",
     "showTitle": false,
     "title": ""
    }
   },
   "source": [
    "##SQL Queries\n",
    "The main agenda of this Analysis is to address the following statements.\n",
    "1. Total Tracks Played\n",
    "2. Total Songs Listened\n",
    "3. How many Artists I've listened to?\n",
    "4. Most Often Listened Artists?\n",
    "5. Which artist has the most songs that I have listened to?\n",
    "6. Most Often Listened Songs\n",
    "7. Which artist I've spent most of my time listening to on Spotify?\n",
    "8.  Which song I've spent most of my time listening to on Spotify?\n",
    "9. What is the Unique Songs Ratio?\n",
    "10. How much time spent listening to music on spotify overall?\n",
    "11. How much time(Hours) is spent on spotify each year?\n",
    "12. How many songs are played each year?\n",
    "13. Which day most tracks were played on?\n",
    "14. Which day have I listened to spotify for the longest?\n",
    "15. What is the 2023–2024 Listening Pattern like?\n",
    "16. Which weekday has most played tracks?\n",
    "17. Which month has most played tracks?\n",
    "18. Which weekday has most listening hours?\n",
    "19. Which month has most listening hours?\n",
    "20. How many tracks are played on Android and Windows?\n",
    "21. How much time listened to spotify on Android and Windows?\n",
    "22. How much time did I spend listening to spotify on daily basis?\n",
    "23. What time of day have I listened to Spotify the most?"
   ]
  },
  {
   "cell_type": "code",
   "execution_count": 0,
   "metadata": {
    "application/vnd.databricks.v1+cell": {
     "cellMetadata": {
      "byteLimit": 2048000,
      "rowLimit": 10000
     },
     "inputWidgets": {},
     "nuid": "36545053-bdb9-469b-9171-2a8628589afa",
     "showTitle": false,
     "title": ""
    }
   },
   "outputs": [
    {
     "output_type": "display_data",
     "data": {
      "text/html": [
       "<style scoped>\n",
       "  .table-result-container {\n",
       "    max-height: 300px;\n",
       "    overflow: auto;\n",
       "  }\n",
       "  table, th, td {\n",
       "    border: 1px solid black;\n",
       "    border-collapse: collapse;\n",
       "  }\n",
       "  th, td {\n",
       "    padding: 5px;\n",
       "  }\n",
       "  th {\n",
       "    text-align: left;\n",
       "  }\n",
       "</style><div class='table-result-container'><table class='table-result'><thead style='background-color: white'><tr><th>tracks_played</th></tr></thead><tbody><tr><td>13557</td></tr></tbody></table></div>"
      ]
     },
     "metadata": {
      "application/vnd.databricks.v1+output": {
       "addedWidgets": {},
       "aggData": [],
       "aggError": "",
       "aggOverflow": false,
       "aggSchema": [],
       "aggSeriesLimitReached": false,
       "aggType": "",
       "arguments": {},
       "columnCustomDisplayInfos": {},
       "data": [
        [
         13557
        ]
       ],
       "datasetInfos": [],
       "dbfsResultPath": null,
       "isJsonSchema": true,
       "metadata": {
        "isDbfsCommandResult": false
       },
       "overflow": false,
       "plotOptions": {
        "customPlotOptions": {},
        "displayType": "table",
        "pivotAggregation": null,
        "pivotColumns": null,
        "xColumns": null,
        "yColumns": null
       },
       "removedWidgets": [],
       "schema": [
        {
         "metadata": "{}",
         "name": "tracks_played",
         "type": "\"long\""
        }
       ],
       "type": "table"
      }
     },
     "output_type": "display_data"
    }
   ],
   "source": [
    "-- 1. Total Tracks Played\n",
    "SELECT count(*) as tracks_played FROM spotify;"
   ]
  },
  {
   "cell_type": "code",
   "execution_count": 0,
   "metadata": {
    "application/vnd.databricks.v1+cell": {
     "cellMetadata": {
      "byteLimit": 2048000,
      "rowLimit": 10000
     },
     "inputWidgets": {},
     "nuid": "1e053691-7c4f-44c7-b8af-8d9df3d47e86",
     "showTitle": false,
     "title": ""
    }
   },
   "outputs": [
    {
     "output_type": "display_data",
     "data": {
      "text/html": [
       "<style scoped>\n",
       "  .table-result-container {\n",
       "    max-height: 300px;\n",
       "    overflow: auto;\n",
       "  }\n",
       "  table, th, td {\n",
       "    border: 1px solid black;\n",
       "    border-collapse: collapse;\n",
       "  }\n",
       "  th, td {\n",
       "    padding: 5px;\n",
       "  }\n",
       "  th {\n",
       "    text-align: left;\n",
       "  }\n",
       "</style><div class='table-result-container'><table class='table-result'><thead style='background-color: white'><tr><th>songs_played</th></tr></thead><tbody><tr><td>4312</td></tr></tbody></table></div>"
      ]
     },
     "metadata": {
      "application/vnd.databricks.v1+output": {
       "addedWidgets": {},
       "aggData": [],
       "aggError": "",
       "aggOverflow": false,
       "aggSchema": [],
       "aggSeriesLimitReached": false,
       "aggType": "",
       "arguments": {},
       "columnCustomDisplayInfos": {},
       "data": [
        [
         4312
        ]
       ],
       "datasetInfos": [],
       "dbfsResultPath": null,
       "isJsonSchema": true,
       "metadata": {
        "isDbfsCommandResult": false
       },
       "overflow": false,
       "plotOptions": {
        "customPlotOptions": {},
        "displayType": "table",
        "pivotAggregation": null,
        "pivotColumns": null,
        "xColumns": null,
        "yColumns": null
       },
       "removedWidgets": [],
       "schema": [
        {
         "metadata": "{}",
         "name": "songs_played",
         "type": "\"long\""
        }
       ],
       "type": "table"
      }
     },
     "output_type": "display_data"
    }
   ],
   "source": [
    "-- 2. Total Songs Listened\n",
    "SELECT count(*) as songs_played FROM\n",
    "(SELECT artist_name, track_name, COUNT(*) as cnt FROM spotify\n",
    "GROUP BY artist_name, track_name);"
   ]
  },
  {
   "cell_type": "code",
   "execution_count": 0,
   "metadata": {
    "application/vnd.databricks.v1+cell": {
     "cellMetadata": {
      "byteLimit": 2048000,
      "rowLimit": 10000
     },
     "inputWidgets": {},
     "nuid": "cc54dc64-fb71-4531-a579-cd93c612ef9a",
     "showTitle": false,
     "title": ""
    }
   },
   "outputs": [
    {
     "output_type": "display_data",
     "data": {
      "text/html": [
       "<style scoped>\n",
       "  .table-result-container {\n",
       "    max-height: 300px;\n",
       "    overflow: auto;\n",
       "  }\n",
       "  table, th, td {\n",
       "    border: 1px solid black;\n",
       "    border-collapse: collapse;\n",
       "  }\n",
       "  th, td {\n",
       "    padding: 5px;\n",
       "  }\n",
       "  th {\n",
       "    text-align: left;\n",
       "  }\n",
       "</style><div class='table-result-container'><table class='table-result'><thead style='background-color: white'><tr><th>Total_Artists</th></tr></thead><tbody><tr><td>1557</td></tr></tbody></table></div>"
      ]
     },
     "metadata": {
      "application/vnd.databricks.v1+output": {
       "addedWidgets": {},
       "aggData": [],
       "aggError": "",
       "aggOverflow": false,
       "aggSchema": [],
       "aggSeriesLimitReached": false,
       "aggType": "",
       "arguments": {},
       "columnCustomDisplayInfos": {},
       "data": [
        [
         1557
        ]
       ],
       "datasetInfos": [],
       "dbfsResultPath": null,
       "isJsonSchema": true,
       "metadata": {
        "isDbfsCommandResult": false
       },
       "overflow": false,
       "plotOptions": {
        "customPlotOptions": {},
        "displayType": "table",
        "pivotAggregation": null,
        "pivotColumns": null,
        "xColumns": null,
        "yColumns": null
       },
       "removedWidgets": [],
       "schema": [
        {
         "metadata": "{}",
         "name": "Total_Artists",
         "type": "\"long\""
        }
       ],
       "type": "table"
      }
     },
     "output_type": "display_data"
    }
   ],
   "source": [
    "-- 3. How many Artists I've listened to?\n",
    "SELECT count(DISTINCT artist_name) as Total_Artists FROM spotify;"
   ]
  },
  {
   "cell_type": "code",
   "execution_count": 0,
   "metadata": {
    "application/vnd.databricks.v1+cell": {
     "cellMetadata": {
      "byteLimit": 2048000,
      "rowLimit": 10000
     },
     "inputWidgets": {},
     "nuid": "20d0bcc8-d48a-4394-ba92-42d02041a9fc",
     "showTitle": false,
     "title": ""
    }
   },
   "outputs": [
    {
     "output_type": "display_data",
     "data": {
      "text/html": [
       "<style scoped>\n",
       "  .table-result-container {\n",
       "    max-height: 300px;\n",
       "    overflow: auto;\n",
       "  }\n",
       "  table, th, td {\n",
       "    border: 1px solid black;\n",
       "    border-collapse: collapse;\n",
       "  }\n",
       "  th, td {\n",
       "    padding: 5px;\n",
       "  }\n",
       "  th {\n",
       "    text-align: left;\n",
       "  }\n",
       "</style><div class='table-result-container'><table class='table-result'><thead style='background-color: white'><tr><th>artist_name</th><th>cnt</th></tr></thead><tbody><tr><td>Martin Garrix</td><td>857</td></tr><tr><td>KSHMR</td><td>242</td></tr><tr><td>ILLENIUM</td><td>228</td></tr><tr><td>Mike Williams</td><td>171</td></tr><tr><td>Brooks</td><td>162</td></tr><tr><td>Sick Individuals</td><td>154</td></tr><tr><td>DubVision</td><td>152</td></tr><tr><td>Matisse & Sadko</td><td>138</td></tr><tr><td>Swedish House Mafia</td><td>118</td></tr><tr><td>Nicky Romero</td><td>118</td></tr></tbody></table></div>"
      ]
     },
     "metadata": {
      "application/vnd.databricks.v1+output": {
       "addedWidgets": {},
       "aggData": [],
       "aggError": "",
       "aggOverflow": false,
       "aggSchema": [],
       "aggSeriesLimitReached": false,
       "aggType": "",
       "arguments": {},
       "columnCustomDisplayInfos": {},
       "data": [
        [
         "Martin Garrix",
         857
        ],
        [
         "KSHMR",
         242
        ],
        [
         "ILLENIUM",
         228
        ],
        [
         "Mike Williams",
         171
        ],
        [
         "Brooks",
         162
        ],
        [
         "Sick Individuals",
         154
        ],
        [
         "DubVision",
         152
        ],
        [
         "Matisse & Sadko",
         138
        ],
        [
         "Swedish House Mafia",
         118
        ],
        [
         "Nicky Romero",
         118
        ]
       ],
       "datasetInfos": [],
       "dbfsResultPath": null,
       "isJsonSchema": true,
       "metadata": {
        "isDbfsCommandResult": false
       },
       "overflow": false,
       "plotOptions": {
        "customPlotOptions": {},
        "displayType": "table",
        "pivotAggregation": null,
        "pivotColumns": null,
        "xColumns": null,
        "yColumns": null
       },
       "removedWidgets": [],
       "schema": [
        {
         "metadata": "{}",
         "name": "artist_name",
         "type": "\"string\""
        },
        {
         "metadata": "{}",
         "name": "cnt",
         "type": "\"long\""
        }
       ],
       "type": "table"
      }
     },
     "output_type": "display_data"
    }
   ],
   "source": [
    "-- 4. Most Often Listened Artists?\n",
    "SELECT artist_name, count(*) as cnt FROM spotify\n",
    "GROUP BY artist_name\n",
    "ORDER BY cnt DESC\n",
    "LIMIT 10"
   ]
  },
  {
   "cell_type": "code",
   "execution_count": 0,
   "metadata": {
    "application/vnd.databricks.v1+cell": {
     "cellMetadata": {
      "byteLimit": 2048000,
      "rowLimit": 10000
     },
     "inputWidgets": {},
     "nuid": "94288632-d7bc-4155-9fca-d730f1ee4332",
     "showTitle": false,
     "title": ""
    }
   },
   "outputs": [
    {
     "output_type": "display_data",
     "data": {
      "text/html": [
       "<style scoped>\n",
       "  .table-result-container {\n",
       "    max-height: 300px;\n",
       "    overflow: auto;\n",
       "  }\n",
       "  table, th, td {\n",
       "    border: 1px solid black;\n",
       "    border-collapse: collapse;\n",
       "  }\n",
       "  th, td {\n",
       "    padding: 5px;\n",
       "  }\n",
       "  th {\n",
       "    text-align: left;\n",
       "  }\n",
       "</style><div class='table-result-container'><table class='table-result'><thead style='background-color: white'><tr><th>artist_name</th><th>songs</th></tr></thead><tbody><tr><td>Martin Garrix</td><td>103</td></tr><tr><td>KSHMR</td><td>63</td></tr><tr><td>ILLENIUM</td><td>52</td></tr><tr><td>Mike Williams</td><td>34</td></tr><tr><td>Sick Individuals</td><td>31</td></tr><tr><td>Nicky Romero</td><td>30</td></tr><tr><td>Seven Lions</td><td>29</td></tr><tr><td>Tiësto</td><td>27</td></tr><tr><td>Anirudh Ravichander</td><td>25</td></tr><tr><td>The Chainsmokers</td><td>23</td></tr></tbody></table></div>"
      ]
     },
     "metadata": {
      "application/vnd.databricks.v1+output": {
       "addedWidgets": {},
       "aggData": [],
       "aggError": "",
       "aggOverflow": false,
       "aggSchema": [],
       "aggSeriesLimitReached": false,
       "aggType": "",
       "arguments": {},
       "columnCustomDisplayInfos": {},
       "data": [
        [
         "Martin Garrix",
         103
        ],
        [
         "KSHMR",
         63
        ],
        [
         "ILLENIUM",
         52
        ],
        [
         "Mike Williams",
         34
        ],
        [
         "Sick Individuals",
         31
        ],
        [
         "Nicky Romero",
         30
        ],
        [
         "Seven Lions",
         29
        ],
        [
         "Tiësto",
         27
        ],
        [
         "Anirudh Ravichander",
         25
        ],
        [
         "The Chainsmokers",
         23
        ]
       ],
       "datasetInfos": [],
       "dbfsResultPath": null,
       "isJsonSchema": true,
       "metadata": {
        "isDbfsCommandResult": false
       },
       "overflow": false,
       "plotOptions": {
        "customPlotOptions": {},
        "displayType": "table",
        "pivotAggregation": null,
        "pivotColumns": null,
        "xColumns": null,
        "yColumns": null
       },
       "removedWidgets": [],
       "schema": [
        {
         "metadata": "{}",
         "name": "artist_name",
         "type": "\"string\""
        },
        {
         "metadata": "{}",
         "name": "songs",
         "type": "\"long\""
        }
       ],
       "type": "table"
      }
     },
     "output_type": "display_data"
    }
   ],
   "source": [
    "-- 5. Which artist has the most songs that I have listened to?\n",
    "SELECT artist_name, count(DISTINCT track_name) as songs FROM spotify\n",
    "GROUP BY artist_name\n",
    "ORDER BY songs DESC\n",
    "LIMIT 10"
   ]
  },
  {
   "cell_type": "code",
   "execution_count": 0,
   "metadata": {
    "application/vnd.databricks.v1+cell": {
     "cellMetadata": {
      "byteLimit": 2048000,
      "rowLimit": 10000
     },
     "inputWidgets": {},
     "nuid": "e6aaaeaa-ec9c-4759-b9e6-cbe0feea998b",
     "showTitle": false,
     "title": ""
    }
   },
   "outputs": [
    {
     "output_type": "display_data",
     "data": {
      "text/html": [
       "<style scoped>\n",
       "  .table-result-container {\n",
       "    max-height: 300px;\n",
       "    overflow: auto;\n",
       "  }\n",
       "  table, th, td {\n",
       "    border: 1px solid black;\n",
       "    border-collapse: collapse;\n",
       "  }\n",
       "  th, td {\n",
       "    padding: 5px;\n",
       "  }\n",
       "  th {\n",
       "    text-align: left;\n",
       "  }\n",
       "</style><div class='table-result-container'><table class='table-result'><thead style='background-color: white'><tr><th>Song</th><th>Times_played</th></tr></thead><tbody><tr><td>Martin Garrix - Aurora</td><td>34</td></tr><tr><td>Aden Foyer - The Ballet Girl</td><td>32</td></tr><tr><td>Brooks - Someday</td><td>32</td></tr><tr><td>Martin Garrix - Limitless</td><td>32</td></tr><tr><td>The Weeknd - Sacrifice (Remix) (feat. Swedish House Mafia)</td><td>31</td></tr><tr><td>DubVision - Electricity</td><td>29</td></tr><tr><td>Swedish House Mafia - Moth To A Flame (with The Weeknd)</td><td>29</td></tr><tr><td>DubVision - Like This</td><td>29</td></tr><tr><td>Dermot Kennedy - Power Over Me</td><td>29</td></tr><tr><td>Martin Garrix - Follow</td><td>28</td></tr></tbody></table></div>"
      ]
     },
     "metadata": {
      "application/vnd.databricks.v1+output": {
       "addedWidgets": {},
       "aggData": [],
       "aggError": "",
       "aggOverflow": false,
       "aggSchema": [],
       "aggSeriesLimitReached": false,
       "aggType": "",
       "arguments": {},
       "columnCustomDisplayInfos": {},
       "data": [
        [
         "Martin Garrix - Aurora",
         34
        ],
        [
         "Aden Foyer - The Ballet Girl",
         32
        ],
        [
         "Brooks - Someday",
         32
        ],
        [
         "Martin Garrix - Limitless",
         32
        ],
        [
         "The Weeknd - Sacrifice (Remix) (feat. Swedish House Mafia)",
         31
        ],
        [
         "DubVision - Electricity",
         29
        ],
        [
         "Swedish House Mafia - Moth To A Flame (with The Weeknd)",
         29
        ],
        [
         "DubVision - Like This",
         29
        ],
        [
         "Dermot Kennedy - Power Over Me",
         29
        ],
        [
         "Martin Garrix - Follow",
         28
        ]
       ],
       "datasetInfos": [],
       "dbfsResultPath": null,
       "isJsonSchema": true,
       "metadata": {
        "isDbfsCommandResult": false
       },
       "overflow": false,
       "plotOptions": {
        "customPlotOptions": {},
        "displayType": "table",
        "pivotAggregation": null,
        "pivotColumns": null,
        "xColumns": null,
        "yColumns": null
       },
       "removedWidgets": [],
       "schema": [
        {
         "metadata": "{}",
         "name": "Song",
         "type": "\"string\""
        },
        {
         "metadata": "{}",
         "name": "Times_played",
         "type": "\"long\""
        }
       ],
       "type": "table"
      }
     },
     "output_type": "display_data"
    }
   ],
   "source": [
    "-- 6. Most Often Listened Songs\n",
    "SELECT concat(artist_name, \" - \",track_name ) as Song, COUNT(*) as Times_played FROM spotify\n",
    "GROUP BY artist_name, track_name\n",
    "ORDER BY Times_played DESC\n",
    "LIMIT 10"
   ]
  },
  {
   "cell_type": "code",
   "execution_count": 0,
   "metadata": {
    "application/vnd.databricks.v1+cell": {
     "cellMetadata": {
      "byteLimit": 2048000,
      "rowLimit": 10000
     },
     "inputWidgets": {},
     "nuid": "9a2f5ca3-46e1-4a5a-8572-b59d895755b8",
     "showTitle": false,
     "title": ""
    }
   },
   "outputs": [
    {
     "output_type": "display_data",
     "data": {
      "text/html": [
       "<style scoped>\n",
       "  .table-result-container {\n",
       "    max-height: 300px;\n",
       "    overflow: auto;\n",
       "  }\n",
       "  table, th, td {\n",
       "    border: 1px solid black;\n",
       "    border-collapse: collapse;\n",
       "  }\n",
       "  th, td {\n",
       "    padding: 5px;\n",
       "  }\n",
       "  th {\n",
       "    text-align: left;\n",
       "  }\n",
       "</style><div class='table-result-container'><table class='table-result'><thead style='background-color: white'><tr><th>artist_name</th><th>time_played_hr</th></tr></thead><tbody><tr><td>Martin Garrix</td><td>25.4</td></tr><tr><td>KSHMR</td><td>7.1</td></tr><tr><td>ILLENIUM</td><td>5.7</td></tr><tr><td>Mike Williams</td><td>4.7</td></tr><tr><td>Matisse & Sadko</td><td>3.9</td></tr><tr><td>Brooks</td><td>3.7</td></tr><tr><td>DubVision</td><td>3.6</td></tr><tr><td>Sick Individuals</td><td>3.6</td></tr><tr><td>Nicky Romero</td><td>3.5</td></tr><tr><td>Swedish House Mafia</td><td>3.4</td></tr></tbody></table></div>"
      ]
     },
     "metadata": {
      "application/vnd.databricks.v1+output": {
       "addedWidgets": {},
       "aggData": [],
       "aggError": "",
       "aggOverflow": false,
       "aggSchema": [],
       "aggSeriesLimitReached": false,
       "aggType": "",
       "arguments": {},
       "columnCustomDisplayInfos": {},
       "data": [
        [
         "Martin Garrix",
         25.4
        ],
        [
         "KSHMR",
         7.1
        ],
        [
         "ILLENIUM",
         5.7
        ],
        [
         "Mike Williams",
         4.7
        ],
        [
         "Matisse & Sadko",
         3.9
        ],
        [
         "Brooks",
         3.7
        ],
        [
         "DubVision",
         3.6
        ],
        [
         "Sick Individuals",
         3.6
        ],
        [
         "Nicky Romero",
         3.5
        ],
        [
         "Swedish House Mafia",
         3.4
        ]
       ],
       "datasetInfos": [],
       "dbfsResultPath": null,
       "isJsonSchema": true,
       "metadata": {
        "isDbfsCommandResult": false
       },
       "overflow": false,
       "plotOptions": {
        "customPlotOptions": {},
        "displayType": "table",
        "pivotAggregation": null,
        "pivotColumns": null,
        "xColumns": null,
        "yColumns": null
       },
       "removedWidgets": [],
       "schema": [
        {
         "metadata": "{}",
         "name": "artist_name",
         "type": "\"string\""
        },
        {
         "metadata": "{}",
         "name": "time_played_hr",
         "type": "\"double\""
        }
       ],
       "type": "table"
      }
     },
     "output_type": "display_data"
    }
   ],
   "source": [
    "-- 7. Which artist I've spent most of my time listening to on Spotify?\n",
    "SELECT artist_name, round(((sum(ms_played)/1000)/60)/60, 1) as time_played_hr FROM spotify\n",
    "GROUP BY artist_name\n",
    "ORDER BY time_played_hr DESC\n",
    "LIMIT 10"
   ]
  },
  {
   "cell_type": "code",
   "execution_count": 0,
   "metadata": {
    "application/vnd.databricks.v1+cell": {
     "cellMetadata": {
      "byteLimit": 2048000,
      "rowLimit": 10000
     },
     "inputWidgets": {},
     "nuid": "e2ddfafa-2027-48f1-8338-bd2b5ff70c8a",
     "showTitle": false,
     "title": ""
    }
   },
   "outputs": [
    {
     "output_type": "display_data",
     "data": {
      "text/html": [
       "<style scoped>\n",
       "  .table-result-container {\n",
       "    max-height: 300px;\n",
       "    overflow: auto;\n",
       "  }\n",
       "  table, th, td {\n",
       "    border: 1px solid black;\n",
       "    border-collapse: collapse;\n",
       "  }\n",
       "  th, td {\n",
       "    padding: 5px;\n",
       "  }\n",
       "  th {\n",
       "    text-align: left;\n",
       "  }\n",
       "</style><div class='table-result-container'><table class='table-result'><thead style='background-color: white'><tr><th>Song</th><th>time_played_min</th><th>time_played_hr</th></tr></thead><tbody><tr><td>The Weeknd - Sacrifice (Remix) (feat. Swedish House Mafia)</td><td>88.565</td><td>1.48</td></tr><tr><td>Eminem - Without Me</td><td>84.018</td><td>1.4</td></tr><tr><td>Swedish House Mafia - Moth To A Flame (with The Weeknd)</td><td>75.567</td><td>1.26</td></tr><tr><td>Skylar Grey - Last One Standing (feat. Polo G, Mozzy & Eminem) - From Venom: Let There Be Carnage</td><td>74.207</td><td>1.24</td></tr><tr><td>Martin Garrix - Aurora</td><td>74.09</td><td>1.23</td></tr><tr><td>Dermot Kennedy - Power Over Me</td><td>70.687</td><td>1.18</td></tr><tr><td>Martin Garrix - If We’ll Ever Be Remembered</td><td>62.824</td><td>1.05</td></tr><tr><td>Martin Garrix - Oxygen</td><td>61.748</td><td>1.03</td></tr><tr><td>Welshly Arms - Dangerous</td><td>59.289</td><td>0.99</td></tr><tr><td>Martin Garrix - Summer Days (feat. Macklemore & Patrick Stump of Fall Out Boy)</td><td>57.042</td><td>0.95</td></tr></tbody></table></div>"
      ]
     },
     "metadata": {
      "application/vnd.databricks.v1+output": {
       "addedWidgets": {},
       "aggData": [],
       "aggError": "",
       "aggOverflow": false,
       "aggSchema": [],
       "aggSeriesLimitReached": false,
       "aggType": "",
       "arguments": {},
       "columnCustomDisplayInfos": {},
       "data": [
        [
         "The Weeknd - Sacrifice (Remix) (feat. Swedish House Mafia)",
         88.565,
         1.48
        ],
        [
         "Eminem - Without Me",
         84.018,
         1.4
        ],
        [
         "Swedish House Mafia - Moth To A Flame (with The Weeknd)",
         75.567,
         1.26
        ],
        [
         "Skylar Grey - Last One Standing (feat. Polo G, Mozzy & Eminem) - From Venom: Let There Be Carnage",
         74.207,
         1.24
        ],
        [
         "Martin Garrix - Aurora",
         74.09,
         1.23
        ],
        [
         "Dermot Kennedy - Power Over Me",
         70.687,
         1.18
        ],
        [
         "Martin Garrix - If We’ll Ever Be Remembered",
         62.824,
         1.05
        ],
        [
         "Martin Garrix - Oxygen",
         61.748,
         1.03
        ],
        [
         "Welshly Arms - Dangerous",
         59.289,
         0.99
        ],
        [
         "Martin Garrix - Summer Days (feat. Macklemore & Patrick Stump of Fall Out Boy)",
         57.042,
         0.95
        ]
       ],
       "datasetInfos": [],
       "dbfsResultPath": null,
       "isJsonSchema": true,
       "metadata": {
        "isDbfsCommandResult": false
       },
       "overflow": false,
       "plotOptions": {
        "customPlotOptions": {},
        "displayType": "table",
        "pivotAggregation": null,
        "pivotColumns": null,
        "xColumns": null,
        "yColumns": null
       },
       "removedWidgets": [],
       "schema": [
        {
         "metadata": "{}",
         "name": "Song",
         "type": "\"string\""
        },
        {
         "metadata": "{}",
         "name": "time_played_min",
         "type": "\"double\""
        },
        {
         "metadata": "{}",
         "name": "time_played_hr",
         "type": "\"double\""
        }
       ],
       "type": "table"
      }
     },
     "output_type": "display_data"
    }
   ],
   "source": [
    "-- 8.  Which song I've spent most of my time listening to on Spotify?\n",
    "SELECT concat(artist_name, \" - \",track_name ) as Song, round((SUM(ms_played)/1000)/60, 3) as time_played_min, \n",
    "round(((SUM(ms_played)/1000)/60)/60, 2) as time_played_hr FROM spotify\n",
    "GROUP BY artist_name, track_name\n",
    "ORDER BY time_played_min DESC\n",
    "LIMIT 10"
   ]
  },
  {
   "cell_type": "code",
   "execution_count": 0,
   "metadata": {
    "application/vnd.databricks.v1+cell": {
     "cellMetadata": {
      "byteLimit": 2048000,
      "rowLimit": 10000
     },
     "inputWidgets": {},
     "nuid": "774e92df-3873-4147-bfe1-7c8904c2ac0a",
     "showTitle": false,
     "title": ""
    }
   },
   "outputs": [
    {
     "output_type": "display_data",
     "data": {
      "text/html": [
       "<style scoped>\n",
       "  .table-result-container {\n",
       "    max-height: 300px;\n",
       "    overflow: auto;\n",
       "  }\n",
       "  table, th, td {\n",
       "    border: 1px solid black;\n",
       "    border-collapse: collapse;\n",
       "  }\n",
       "  th, td {\n",
       "    padding: 5px;\n",
       "  }\n",
       "  th {\n",
       "    text-align: left;\n",
       "  }\n",
       "</style><div class='table-result-container'><table class='table-result'><thead style='background-color: white'><tr><th>description</th><th>value</th></tr></thead><tbody><tr><td>Total Records</td><td>13557</td></tr><tr><td>Unique Songs</td><td>4312</td></tr></tbody></table></div>"
      ]
     },
     "metadata": {
      "application/vnd.databricks.v1+output": {
       "addedWidgets": {},
       "aggData": [],
       "aggError": "",
       "aggOverflow": false,
       "aggSchema": [],
       "aggSeriesLimitReached": false,
       "aggType": "",
       "arguments": {},
       "columnCustomDisplayInfos": {},
       "data": [
        [
         "Total Records",
         13557
        ],
        [
         "Unique Songs",
         4312
        ]
       ],
       "datasetInfos": [],
       "dbfsResultPath": null,
       "isJsonSchema": true,
       "metadata": {
        "isDbfsCommandResult": false
       },
       "overflow": false,
       "plotOptions": {
        "customPlotOptions": {},
        "displayType": "table",
        "pivotAggregation": null,
        "pivotColumns": null,
        "xColumns": null,
        "yColumns": null
       },
       "removedWidgets": [],
       "schema": [
        {
         "metadata": "{}",
         "name": "description",
         "type": "\"string\""
        },
        {
         "metadata": "{}",
         "name": "value",
         "type": "\"long\""
        }
       ],
       "type": "table"
      }
     },
     "output_type": "display_data"
    }
   ],
   "source": [
    "-- 9. What is the Unique Songs Ratio?\n",
    "SELECT 'Total Records' as description ,count(*) as value FROM spotify\n",
    "UNION\n",
    "SELECT 'Unique Songs', count(*) as value FROM\n",
    "    (SELECT artist_name, track_name, COUNT(*) as cnt FROM spotify\n",
    "        GROUP BY artist_name, track_name)"
   ]
  },
  {
   "cell_type": "code",
   "execution_count": 0,
   "metadata": {
    "application/vnd.databricks.v1+cell": {
     "cellMetadata": {
      "byteLimit": 2048000,
      "rowLimit": 10000
     },
     "inputWidgets": {},
     "nuid": "5f8ff6eb-ccdd-412c-a5d4-75e06c79acc1",
     "showTitle": false,
     "title": ""
    }
   },
   "outputs": [
    {
     "output_type": "display_data",
     "data": {
      "text/html": [
       "<style scoped>\n",
       "  .table-result-container {\n",
       "    max-height: 300px;\n",
       "    overflow: auto;\n",
       "  }\n",
       "  table, th, td {\n",
       "    border: 1px solid black;\n",
       "    border-collapse: collapse;\n",
       "  }\n",
       "  th, td {\n",
       "    padding: 5px;\n",
       "  }\n",
       "  th {\n",
       "    text-align: left;\n",
       "  }\n",
       "</style><div class='table-result-container'><table class='table-result'><thead style='background-color: white'><tr><th>time_played_hr</th></tr></thead><tbody><tr><td>310.0</td></tr></tbody></table></div>"
      ]
     },
     "metadata": {
      "application/vnd.databricks.v1+output": {
       "addedWidgets": {},
       "aggData": [],
       "aggError": "",
       "aggOverflow": false,
       "aggSchema": [],
       "aggSeriesLimitReached": false,
       "aggType": "",
       "arguments": {},
       "columnCustomDisplayInfos": {},
       "data": [
        [
         310.0
        ]
       ],
       "datasetInfos": [],
       "dbfsResultPath": null,
       "isJsonSchema": true,
       "metadata": {
        "isDbfsCommandResult": false
       },
       "overflow": false,
       "plotOptions": {
        "customPlotOptions": {},
        "displayType": "table",
        "pivotAggregation": null,
        "pivotColumns": null,
        "xColumns": null,
        "yColumns": null
       },
       "removedWidgets": [],
       "schema": [
        {
         "metadata": "{}",
         "name": "time_played_hr",
         "type": "\"double\""
        }
       ],
       "type": "table"
      }
     },
     "output_type": "display_data"
    }
   ],
   "source": [
    "--10. How much time spent listening to music on spotify overall?\n",
    "SELECT round(((SUM(ms_played)/1000)/60)/60) as time_played_hr FROM spotify"
   ]
  },
  {
   "cell_type": "code",
   "execution_count": 0,
   "metadata": {
    "application/vnd.databricks.v1+cell": {
     "cellMetadata": {
      "byteLimit": 2048000,
      "rowLimit": 10000
     },
     "inputWidgets": {},
     "nuid": "0ba80f65-4c15-4f72-81d7-658e7de5c9aa",
     "showTitle": false,
     "title": ""
    }
   },
   "outputs": [
    {
     "output_type": "display_data",
     "data": {
      "text/html": [
       "<style scoped>\n",
       "  .table-result-container {\n",
       "    max-height: 300px;\n",
       "    overflow: auto;\n",
       "  }\n",
       "  table, th, td {\n",
       "    border: 1px solid black;\n",
       "    border-collapse: collapse;\n",
       "  }\n",
       "  th, td {\n",
       "    padding: 5px;\n",
       "  }\n",
       "  th {\n",
       "    text-align: left;\n",
       "  }\n",
       "</style><div class='table-result-container'><table class='table-result'><thead style='background-color: white'><tr><th>year</th><th>songs_count</th></tr></thead><tbody><tr><td>2019</td><td>56</td></tr><tr><td>2020</td><td>12</td></tr><tr><td>2021</td><td>110</td></tr><tr><td>2022</td><td>2181</td></tr><tr><td>2023</td><td>9768</td></tr><tr><td>2024</td><td>1430</td></tr></tbody></table></div>"
      ]
     },
     "metadata": {
      "application/vnd.databricks.v1+output": {
       "addedWidgets": {},
       "aggData": [],
       "aggError": "",
       "aggOverflow": false,
       "aggSchema": [],
       "aggSeriesLimitReached": false,
       "aggType": "",
       "arguments": {},
       "columnCustomDisplayInfos": {},
       "data": [
        [
         2019,
         56
        ],
        [
         2020,
         12
        ],
        [
         2021,
         110
        ],
        [
         2022,
         2181
        ],
        [
         2023,
         9768
        ],
        [
         2024,
         1430
        ]
       ],
       "datasetInfos": [],
       "dbfsResultPath": null,
       "isJsonSchema": true,
       "metadata": {
        "isDbfsCommandResult": false
       },
       "overflow": false,
       "plotOptions": {
        "customPlotOptions": {},
        "displayType": "table",
        "pivotAggregation": null,
        "pivotColumns": null,
        "xColumns": null,
        "yColumns": null
       },
       "removedWidgets": [],
       "schema": [
        {
         "metadata": "{}",
         "name": "year",
         "type": "\"integer\""
        },
        {
         "metadata": "{}",
         "name": "songs_count",
         "type": "\"long\""
        }
       ],
       "type": "table"
      }
     },
     "output_type": "display_data"
    }
   ],
   "source": [
    "-- 11. How much time(Hours) is spent on spotify each year?\n",
    "SELECT year, count(*) as songs_count FROM spotify\n",
    "GROUP BY year \n",
    "ORDER BY year"
   ]
  },
  {
   "cell_type": "code",
   "execution_count": 0,
   "metadata": {
    "application/vnd.databricks.v1+cell": {
     "cellMetadata": {
      "byteLimit": 2048000,
      "rowLimit": 10000
     },
     "inputWidgets": {},
     "nuid": "74cb1834-720e-49ca-af60-90d03909b40d",
     "showTitle": false,
     "title": ""
    }
   },
   "outputs": [
    {
     "output_type": "display_data",
     "data": {
      "text/html": [
       "<style scoped>\n",
       "  .table-result-container {\n",
       "    max-height: 300px;\n",
       "    overflow: auto;\n",
       "  }\n",
       "  table, th, td {\n",
       "    border: 1px solid black;\n",
       "    border-collapse: collapse;\n",
       "  }\n",
       "  th, td {\n",
       "    padding: 5px;\n",
       "  }\n",
       "  th {\n",
       "    text-align: left;\n",
       "  }\n",
       "</style><div class='table-result-container'><table class='table-result'><thead style='background-color: white'><tr><th>year</th><th>ms_played_hr</th></tr></thead><tbody><tr><td>2019</td><td>1.0</td></tr><tr><td>2020</td><td>0.0</td></tr><tr><td>2021</td><td>2.0</td></tr><tr><td>2022</td><td>63.0</td></tr><tr><td>2023</td><td>211.0</td></tr><tr><td>2024</td><td>34.0</td></tr></tbody></table></div>"
      ]
     },
     "metadata": {
      "application/vnd.databricks.v1+output": {
       "addedWidgets": {},
       "aggData": [],
       "aggError": "",
       "aggOverflow": false,
       "aggSchema": [],
       "aggSeriesLimitReached": false,
       "aggType": "",
       "arguments": {},
       "columnCustomDisplayInfos": {},
       "data": [
        [
         2019,
         1.0
        ],
        [
         2020,
         0.0
        ],
        [
         2021,
         2.0
        ],
        [
         2022,
         63.0
        ],
        [
         2023,
         211.0
        ],
        [
         2024,
         34.0
        ]
       ],
       "datasetInfos": [],
       "dbfsResultPath": null,
       "isJsonSchema": true,
       "metadata": {
        "isDbfsCommandResult": false
       },
       "overflow": false,
       "plotOptions": {
        "customPlotOptions": {},
        "displayType": "table",
        "pivotAggregation": null,
        "pivotColumns": null,
        "xColumns": null,
        "yColumns": null
       },
       "removedWidgets": [],
       "schema": [
        {
         "metadata": "{}",
         "name": "year",
         "type": "\"integer\""
        },
        {
         "metadata": "{}",
         "name": "ms_played_hr",
         "type": "\"double\""
        }
       ],
       "type": "table"
      }
     },
     "output_type": "display_data"
    }
   ],
   "source": [
    "-- 12. How many songs are played each year?\n",
    "SELECT year, round(((SUM(ms_played)/1000)/60)/60) as ms_played_hr FROM spotify\n",
    "GROUP BY year\n",
    "ORDER BY year"
   ]
  },
  {
   "cell_type": "code",
   "execution_count": 0,
   "metadata": {
    "application/vnd.databricks.v1+cell": {
     "cellMetadata": {
      "byteLimit": 2048000,
      "rowLimit": 10000
     },
     "inputWidgets": {},
     "nuid": "71755e80-eebb-4ed9-9386-2ab66e65441e",
     "showTitle": false,
     "title": ""
    }
   },
   "outputs": [
    {
     "output_type": "display_data",
     "data": {
      "text/html": [
       "<style scoped>\n",
       "  .table-result-container {\n",
       "    max-height: 300px;\n",
       "    overflow: auto;\n",
       "  }\n",
       "  table, th, td {\n",
       "    border: 1px solid black;\n",
       "    border-collapse: collapse;\n",
       "  }\n",
       "  th, td {\n",
       "    padding: 5px;\n",
       "  }\n",
       "  th {\n",
       "    text-align: left;\n",
       "  }\n",
       "</style><div class='table-result-container'><table class='table-result'><thead style='background-color: white'><tr><th>date</th><th>tracks_played</th></tr></thead><tbody><tr><td>10-November-2023</td><td>229</td></tr></tbody></table></div>"
      ]
     },
     "metadata": {
      "application/vnd.databricks.v1+output": {
       "addedWidgets": {},
       "aggData": [],
       "aggError": "",
       "aggOverflow": false,
       "aggSchema": [],
       "aggSeriesLimitReached": false,
       "aggType": "",
       "arguments": {},
       "columnCustomDisplayInfos": {},
       "data": [
        [
         "10-November-2023",
         229
        ]
       ],
       "datasetInfos": [],
       "dbfsResultPath": null,
       "isJsonSchema": true,
       "metadata": {
        "isDbfsCommandResult": false
       },
       "overflow": false,
       "plotOptions": {
        "customPlotOptions": {},
        "displayType": "table",
        "pivotAggregation": null,
        "pivotColumns": null,
        "xColumns": null,
        "yColumns": null
       },
       "removedWidgets": [],
       "schema": [
        {
         "metadata": "{}",
         "name": "date",
         "type": "\"string\""
        },
        {
         "metadata": "{}",
         "name": "tracks_played",
         "type": "\"long\""
        }
       ],
       "type": "table"
      }
     },
     "output_type": "display_data"
    }
   ],
   "source": [
    "-- 13. Which day most tracks were played on?\n",
    "SELECT concat(date_format(date, \"d\"), date_format(date, \"-MMMM\"), date_format(date, \"-y\") ) as date, count(track_name) as tracks_played FROM spotify\n",
    "GROUP BY date\n",
    "ORDER BY tracks_played DESC\n",
    "LIMIT 1"
   ]
  },
  {
   "cell_type": "code",
   "execution_count": 0,
   "metadata": {
    "application/vnd.databricks.v1+cell": {
     "cellMetadata": {
      "byteLimit": 2048000,
      "rowLimit": 10000
     },
     "inputWidgets": {},
     "nuid": "e36cfe6a-1fd7-4cec-8551-616ebca0055e",
     "showTitle": false,
     "title": ""
    }
   },
   "outputs": [
    {
     "output_type": "display_data",
     "data": {
      "text/html": [
       "<style scoped>\n",
       "  .table-result-container {\n",
       "    max-height: 300px;\n",
       "    overflow: auto;\n",
       "  }\n",
       "  table, th, td {\n",
       "    border: 1px solid black;\n",
       "    border-collapse: collapse;\n",
       "  }\n",
       "  th, td {\n",
       "    padding: 5px;\n",
       "  }\n",
       "  th {\n",
       "    text-align: left;\n",
       "  }\n",
       "</style><div class='table-result-container'><table class='table-result'><thead style='background-color: white'><tr><th>date</th><th>date_format(date, EEEE)</th><th>ms_played_hr</th></tr></thead><tbody><tr><td>19-December-2023</td><td>Tuesday</td><td>3.93</td></tr></tbody></table></div>"
      ]
     },
     "metadata": {
      "application/vnd.databricks.v1+output": {
       "addedWidgets": {},
       "aggData": [],
       "aggError": "",
       "aggOverflow": false,
       "aggSchema": [],
       "aggSeriesLimitReached": false,
       "aggType": "",
       "arguments": {},
       "columnCustomDisplayInfos": {},
       "data": [
        [
         "19-December-2023",
         "Tuesday",
         3.93
        ]
       ],
       "datasetInfos": [],
       "dbfsResultPath": null,
       "isJsonSchema": true,
       "metadata": {
        "isDbfsCommandResult": false
       },
       "overflow": false,
       "plotOptions": {
        "customPlotOptions": {},
        "displayType": "table",
        "pivotAggregation": null,
        "pivotColumns": null,
        "xColumns": null,
        "yColumns": null
       },
       "removedWidgets": [],
       "schema": [
        {
         "metadata": "{}",
         "name": "date",
         "type": "\"string\""
        },
        {
         "metadata": "{\"__autoGeneratedAlias\":\"true\"}",
         "name": "date_format(date, EEEE)",
         "type": "\"string\""
        },
        {
         "metadata": "{}",
         "name": "ms_played_hr",
         "type": "\"double\""
        }
       ],
       "type": "table"
      }
     },
     "output_type": "display_data"
    }
   ],
   "source": [
    "-- 14. Which day have I listened to spotify for the longest?\n",
    "SELECT concat(date_format(date, \"d\"), date_format(date, \"-MMMM\"), date_format(date, \"-y\") ) as date, date_format(date, \"EEEE\" ), \n",
    "round(((SUM(ms_played)/1000)/60)/60, 2) as ms_played_hr FROM spotify\n",
    "GROUP BY date\n",
    "ORDER BY ms_played_hr DESC\n",
    "LIMIT 1"
   ]
  },
  {
   "cell_type": "code",
   "execution_count": 0,
   "metadata": {
    "application/vnd.databricks.v1+cell": {
     "cellMetadata": {
      "byteLimit": 2048000,
      "rowLimit": 10000
     },
     "inputWidgets": {},
     "nuid": "6570e573-cc1a-4419-8a8f-b153f41ee364",
     "showTitle": false,
     "title": ""
    }
   },
   "outputs": [
    {
     "output_type": "display_data",
     "data": {
      "text/html": [
       "<style scoped>\n",
       "  .table-result-container {\n",
       "    max-height: 300px;\n",
       "    overflow: auto;\n",
       "  }\n",
       "  table, th, td {\n",
       "    border: 1px solid black;\n",
       "    border-collapse: collapse;\n",
       "  }\n",
       "  th, td {\n",
       "    padding: 5px;\n",
       "  }\n",
       "  th {\n",
       "    text-align: left;\n",
       "  }\n",
       "</style><div class='table-result-container'><table class='table-result'><thead style='background-color: white'><tr><th>date</th><th>ms_played_hr</th></tr></thead><tbody><tr><td>2023-01-01</td><td>0.04</td></tr><tr><td>2023-01-05</td><td>0.37</td></tr><tr><td>2023-01-06</td><td>0.25</td></tr><tr><td>2023-01-08</td><td>0.97</td></tr><tr><td>2023-01-09</td><td>0.8</td></tr><tr><td>2023-01-10</td><td>0.98</td></tr><tr><td>2023-01-11</td><td>0.43</td></tr><tr><td>2023-01-12</td><td>1.18</td></tr><tr><td>2023-01-13</td><td>0.08</td></tr><tr><td>2023-01-14</td><td>1.46</td></tr><tr><td>2023-01-15</td><td>0.69</td></tr><tr><td>2023-01-16</td><td>0.2</td></tr><tr><td>2023-01-17</td><td>0.11</td></tr><tr><td>2023-01-18</td><td>1.36</td></tr><tr><td>2023-01-19</td><td>0.8</td></tr><tr><td>2023-01-20</td><td>0.65</td></tr><tr><td>2023-01-21</td><td>1.46</td></tr><tr><td>2023-01-22</td><td>0.63</td></tr><tr><td>2023-01-23</td><td>1.12</td></tr><tr><td>2023-01-24</td><td>0.49</td></tr><tr><td>2023-01-25</td><td>1.23</td></tr><tr><td>2023-01-26</td><td>0.3</td></tr><tr><td>2023-01-27</td><td>1.03</td></tr><tr><td>2023-01-28</td><td>0.66</td></tr><tr><td>2023-01-29</td><td>1.04</td></tr><tr><td>2023-01-30</td><td>0.67</td></tr><tr><td>2023-01-31</td><td>0.15</td></tr><tr><td>2023-02-01</td><td>2.1</td></tr><tr><td>2023-02-02</td><td>0.45</td></tr><tr><td>2023-02-03</td><td>1.02</td></tr><tr><td>2023-02-04</td><td>0.48</td></tr><tr><td>2023-02-05</td><td>1.22</td></tr><tr><td>2023-02-06</td><td>0.48</td></tr><tr><td>2023-02-07</td><td>0.7</td></tr><tr><td>2023-02-08</td><td>1.44</td></tr><tr><td>2023-02-10</td><td>0.99</td></tr><tr><td>2023-02-11</td><td>0.92</td></tr><tr><td>2023-02-12</td><td>0.83</td></tr><tr><td>2023-02-13</td><td>0.11</td></tr><tr><td>2023-02-14</td><td>1.19</td></tr><tr><td>2023-02-15</td><td>1.12</td></tr><tr><td>2023-02-16</td><td>0.33</td></tr><tr><td>2023-02-17</td><td>0.72</td></tr><tr><td>2023-02-18</td><td>0.99</td></tr><tr><td>2023-02-19</td><td>0.96</td></tr><tr><td>2023-02-20</td><td>2.04</td></tr><tr><td>2023-02-21</td><td>0.66</td></tr><tr><td>2023-02-22</td><td>1.73</td></tr><tr><td>2023-02-23</td><td>1.1</td></tr><tr><td>2023-02-24</td><td>0.45</td></tr><tr><td>2023-02-25</td><td>1.53</td></tr><tr><td>2023-02-27</td><td>1.24</td></tr><tr><td>2023-02-28</td><td>0.33</td></tr><tr><td>2023-03-01</td><td>1.74</td></tr><tr><td>2023-03-02</td><td>0.84</td></tr><tr><td>2023-03-03</td><td>1.39</td></tr><tr><td>2023-03-04</td><td>0.9</td></tr><tr><td>2023-03-05</td><td>0.34</td></tr><tr><td>2023-03-06</td><td>0.35</td></tr><tr><td>2023-03-07</td><td>0.62</td></tr><tr><td>2023-03-08</td><td>0.05</td></tr><tr><td>2023-03-09</td><td>0.18</td></tr><tr><td>2023-03-10</td><td>1.33</td></tr><tr><td>2023-03-11</td><td>1.47</td></tr><tr><td>2023-03-12</td><td>1.26</td></tr><tr><td>2023-03-13</td><td>0.48</td></tr><tr><td>2023-03-14</td><td>0.31</td></tr><tr><td>2023-03-15</td><td>1.2</td></tr><tr><td>2023-03-16</td><td>2.04</td></tr><tr><td>2023-03-17</td><td>1.34</td></tr><tr><td>2023-03-18</td><td>0.18</td></tr><tr><td>2023-03-19</td><td>1.51</td></tr><tr><td>2023-03-20</td><td>0.87</td></tr><tr><td>2023-03-21</td><td>0.81</td></tr><tr><td>2023-03-22</td><td>0.09</td></tr><tr><td>2023-03-23</td><td>0.47</td></tr><tr><td>2023-03-24</td><td>0.04</td></tr><tr><td>2023-03-25</td><td>0.64</td></tr><tr><td>2023-03-26</td><td>0.92</td></tr><tr><td>2023-03-28</td><td>0.55</td></tr><tr><td>2023-03-29</td><td>0.33</td></tr><tr><td>2023-03-30</td><td>0.2</td></tr><tr><td>2023-04-01</td><td>0.87</td></tr><tr><td>2023-04-02</td><td>1.49</td></tr><tr><td>2023-04-03</td><td>0.76</td></tr><tr><td>2023-04-04</td><td>0.49</td></tr><tr><td>2023-04-06</td><td>0.11</td></tr><tr><td>2023-04-08</td><td>0.5</td></tr><tr><td>2023-04-09</td><td>1.03</td></tr><tr><td>2023-04-11</td><td>0.16</td></tr><tr><td>2023-04-13</td><td>1.36</td></tr><tr><td>2023-04-14</td><td>0.08</td></tr><tr><td>2023-04-15</td><td>0.71</td></tr><tr><td>2023-04-16</td><td>0.29</td></tr><tr><td>2023-04-17</td><td>1.52</td></tr><tr><td>2023-04-18</td><td>0.83</td></tr><tr><td>2023-04-21</td><td>0.04</td></tr><tr><td>2023-04-22</td><td>0.7</td></tr><tr><td>2023-04-24</td><td>0.19</td></tr><tr><td>2023-04-25</td><td>1.45</td></tr><tr><td>2023-04-27</td><td>1.38</td></tr><tr><td>2023-04-28</td><td>1.02</td></tr><tr><td>2023-04-29</td><td>0.2</td></tr><tr><td>2023-04-30</td><td>0.33</td></tr><tr><td>2023-05-03</td><td>0.45</td></tr><tr><td>2023-05-05</td><td>0.19</td></tr><tr><td>2023-05-08</td><td>0.45</td></tr><tr><td>2023-05-09</td><td>0.18</td></tr><tr><td>2023-05-10</td><td>0.01</td></tr><tr><td>2023-05-11</td><td>2.0</td></tr><tr><td>2023-05-14</td><td>1.36</td></tr><tr><td>2023-05-16</td><td>0.22</td></tr><tr><td>2023-05-18</td><td>0.16</td></tr><tr><td>2023-05-19</td><td>0.49</td></tr><tr><td>2023-05-20</td><td>0.2</td></tr><tr><td>2023-05-22</td><td>0.33</td></tr><tr><td>2023-05-24</td><td>0.43</td></tr><tr><td>2023-05-25</td><td>0.53</td></tr><tr><td>2023-05-26</td><td>1.36</td></tr><tr><td>2023-05-27</td><td>0.33</td></tr><tr><td>2023-05-29</td><td>0.09</td></tr><tr><td>2023-05-30</td><td>0.27</td></tr><tr><td>2023-06-02</td><td>0.91</td></tr><tr><td>2023-06-03</td><td>0.78</td></tr><tr><td>2023-06-05</td><td>0.82</td></tr><tr><td>2023-06-06</td><td>0.33</td></tr><tr><td>2023-06-07</td><td>0.01</td></tr><tr><td>2023-06-08</td><td>0.01</td></tr><tr><td>2023-06-10</td><td>0.36</td></tr><tr><td>2023-06-11</td><td>0.6</td></tr><tr><td>2023-06-12</td><td>0.62</td></tr><tr><td>2023-06-13</td><td>0.47</td></tr><tr><td>2023-06-14</td><td>1.01</td></tr><tr><td>2023-06-16</td><td>0.62</td></tr><tr><td>2023-06-17</td><td>0.82</td></tr><tr><td>2023-06-18</td><td>0.94</td></tr><tr><td>2023-06-19</td><td>0.04</td></tr><tr><td>2023-06-20</td><td>0.13</td></tr><tr><td>2023-06-22</td><td>1.13</td></tr><tr><td>2023-06-23</td><td>0.57</td></tr><tr><td>2023-06-24</td><td>0.28</td></tr><tr><td>2023-06-25</td><td>1.0</td></tr><tr><td>2023-06-26</td><td>1.23</td></tr><tr><td>2023-06-27</td><td>0.55</td></tr><tr><td>2023-06-28</td><td>0.67</td></tr><tr><td>2023-06-29</td><td>0.14</td></tr><tr><td>2023-07-02</td><td>0.52</td></tr><tr><td>2023-07-03</td><td>0.25</td></tr><tr><td>2023-07-05</td><td>0.39</td></tr><tr><td>2023-07-06</td><td>1.47</td></tr><tr><td>2023-07-07</td><td>1.33</td></tr><tr><td>2023-07-08</td><td>1.07</td></tr><tr><td>2023-07-09</td><td>0.44</td></tr><tr><td>2023-07-10</td><td>0.65</td></tr><tr><td>2023-07-12</td><td>1.18</td></tr><tr><td>2023-07-13</td><td>1.14</td></tr><tr><td>2023-07-14</td><td>0.17</td></tr><tr><td>2023-07-15</td><td>0.01</td></tr><tr><td>2023-07-16</td><td>0.01</td></tr><tr><td>2023-07-17</td><td>1.81</td></tr><tr><td>2023-07-19</td><td>0.31</td></tr><tr><td>2023-07-20</td><td>0.76</td></tr><tr><td>2023-07-21</td><td>0.82</td></tr><tr><td>2023-07-22</td><td>0.64</td></tr><tr><td>2023-07-23</td><td>0.32</td></tr><tr><td>2023-07-24</td><td>0.11</td></tr><tr><td>2023-07-27</td><td>1.01</td></tr><tr><td>2023-07-28</td><td>0.45</td></tr><tr><td>2023-07-29</td><td>1.61</td></tr><tr><td>2023-07-30</td><td>0.65</td></tr><tr><td>2023-07-31</td><td>0.29</td></tr><tr><td>2023-08-01</td><td>0.19</td></tr><tr><td>2023-08-02</td><td>0.48</td></tr><tr><td>2023-08-03</td><td>0.12</td></tr><tr><td>2023-08-04</td><td>0.52</td></tr><tr><td>2023-08-05</td><td>0.42</td></tr><tr><td>2023-08-06</td><td>0.12</td></tr><tr><td>2023-08-11</td><td>1.58</td></tr><tr><td>2023-08-12</td><td>1.96</td></tr><tr><td>2023-08-14</td><td>0.75</td></tr><tr><td>2023-08-15</td><td>0.41</td></tr><tr><td>2023-08-17</td><td>0.17</td></tr><tr><td>2023-08-19</td><td>0.13</td></tr><tr><td>2023-08-21</td><td>0.03</td></tr><tr><td>2023-08-25</td><td>0.16</td></tr><tr><td>2023-08-27</td><td>0.38</td></tr><tr><td>2023-08-29</td><td>0.49</td></tr><tr><td>2023-08-31</td><td>0.7</td></tr><tr><td>2023-09-01</td><td>0.09</td></tr><tr><td>2023-09-02</td><td>1.06</td></tr><tr><td>2023-09-03</td><td>0.24</td></tr><tr><td>2023-09-06</td><td>0.72</td></tr><tr><td>2023-09-08</td><td>0.88</td></tr><tr><td>2023-09-09</td><td>0.26</td></tr><tr><td>2023-09-10</td><td>0.49</td></tr><tr><td>2023-09-11</td><td>0.1</td></tr><tr><td>2023-09-12</td><td>0.82</td></tr><tr><td>2023-09-13</td><td>0.52</td></tr><tr><td>2023-09-14</td><td>0.1</td></tr><tr><td>2023-09-15</td><td>0.79</td></tr><tr><td>2023-09-16</td><td>0.88</td></tr><tr><td>2023-09-17</td><td>0.58</td></tr><tr><td>2023-09-18</td><td>1.2</td></tr><tr><td>2023-09-19</td><td>0.89</td></tr><tr><td>2023-09-20</td><td>0.19</td></tr><tr><td>2023-09-21</td><td>0.22</td></tr><tr><td>2023-09-22</td><td>0.82</td></tr><tr><td>2023-09-23</td><td>0.51</td></tr><tr><td>2023-09-24</td><td>0.62</td></tr><tr><td>2023-09-25</td><td>0.99</td></tr><tr><td>2023-09-26</td><td>1.15</td></tr><tr><td>2023-09-28</td><td>0.35</td></tr><tr><td>2023-09-29</td><td>0.94</td></tr><tr><td>2023-09-30</td><td>1.07</td></tr><tr><td>2023-10-01</td><td>0.32</td></tr><tr><td>2023-10-02</td><td>0.51</td></tr><tr><td>2023-10-03</td><td>0.84</td></tr><tr><td>2023-10-04</td><td>1.52</td></tr><tr><td>2023-10-05</td><td>1.15</td></tr><tr><td>2023-10-07</td><td>0.34</td></tr><tr><td>2023-10-08</td><td>1.0</td></tr><tr><td>2023-10-09</td><td>0.28</td></tr><tr><td>2023-10-11</td><td>0.79</td></tr><tr><td>2023-10-12</td><td>0.59</td></tr><tr><td>2023-10-13</td><td>1.58</td></tr><tr><td>2023-10-14</td><td>1.01</td></tr><tr><td>2023-10-15</td><td>1.23</td></tr><tr><td>2023-10-16</td><td>0.48</td></tr><tr><td>2023-10-17</td><td>1.36</td></tr><tr><td>2023-10-18</td><td>1.68</td></tr><tr><td>2023-10-19</td><td>0.3</td></tr><tr><td>2023-10-22</td><td>0.24</td></tr><tr><td>2023-10-23</td><td>0.35</td></tr><tr><td>2023-10-25</td><td>0.32</td></tr><tr><td>2023-10-27</td><td>1.11</td></tr><tr><td>2023-10-28</td><td>0.35</td></tr><tr><td>2023-10-29</td><td>1.17</td></tr><tr><td>2023-10-31</td><td>0.45</td></tr><tr><td>2023-11-02</td><td>0.13</td></tr><tr><td>2023-11-04</td><td>0.52</td></tr><tr><td>2023-11-05</td><td>1.66</td></tr><tr><td>2023-11-06</td><td>0.9</td></tr><tr><td>2023-11-07</td><td>1.17</td></tr><tr><td>2023-11-08</td><td>0.76</td></tr><tr><td>2023-11-09</td><td>1.52</td></tr><tr><td>2023-11-10</td><td>2.55</td></tr><tr><td>2023-11-11</td><td>1.0</td></tr><tr><td>2023-11-12</td><td>0.37</td></tr><tr><td>2023-11-13</td><td>0.39</td></tr><tr><td>2023-11-14</td><td>0.17</td></tr><tr><td>2023-11-16</td><td>0.16</td></tr><tr><td>2023-11-17</td><td>1.01</td></tr><tr><td>2023-11-18</td><td>0.11</td></tr><tr><td>2023-11-19</td><td>0.09</td></tr><tr><td>2023-11-20</td><td>0.4</td></tr><tr><td>2023-11-22</td><td>0.23</td></tr><tr><td>2023-11-23</td><td>0.04</td></tr><tr><td>2023-11-25</td><td>1.07</td></tr><tr><td>2023-11-26</td><td>0.16</td></tr><tr><td>2023-11-27</td><td>0.2</td></tr><tr><td>2023-11-28</td><td>0.18</td></tr><tr><td>2023-11-29</td><td>0.77</td></tr><tr><td>2023-11-30</td><td>1.77</td></tr><tr><td>2023-12-01</td><td>0.58</td></tr><tr><td>2023-12-02</td><td>1.25</td></tr><tr><td>2023-12-03</td><td>0.52</td></tr><tr><td>2023-12-04</td><td>0.14</td></tr><tr><td>2023-12-05</td><td>0.52</td></tr><tr><td>2023-12-06</td><td>1.68</td></tr><tr><td>2023-12-07</td><td>0.22</td></tr><tr><td>2023-12-08</td><td>1.32</td></tr><tr><td>2023-12-09</td><td>2.07</td></tr><tr><td>2023-12-10</td><td>0.23</td></tr><tr><td>2023-12-11</td><td>0.68</td></tr><tr><td>2023-12-12</td><td>1.29</td></tr><tr><td>2023-12-13</td><td>1.13</td></tr><tr><td>2023-12-14</td><td>0.96</td></tr><tr><td>2023-12-16</td><td>0.74</td></tr><tr><td>2023-12-17</td><td>1.57</td></tr><tr><td>2023-12-18</td><td>1.64</td></tr><tr><td>2023-12-19</td><td>3.93</td></tr><tr><td>2023-12-20</td><td>1.03</td></tr><tr><td>2023-12-22</td><td>0.84</td></tr><tr><td>2023-12-24</td><td>0.47</td></tr><tr><td>2023-12-25</td><td>2.56</td></tr><tr><td>2023-12-28</td><td>0.51</td></tr><tr><td>2023-12-29</td><td>0.5</td></tr><tr><td>2024-01-01</td><td>0.54</td></tr><tr><td>2024-01-02</td><td>0.16</td></tr><tr><td>2024-01-03</td><td>0.6</td></tr><tr><td>2024-01-05</td><td>0.36</td></tr><tr><td>2024-01-06</td><td>1.5</td></tr><tr><td>2024-01-07</td><td>0.71</td></tr><tr><td>2024-01-10</td><td>0.0</td></tr><tr><td>2024-01-12</td><td>1.01</td></tr><tr><td>2024-01-13</td><td>1.2</td></tr><tr><td>2024-01-18</td><td>0.06</td></tr><tr><td>2024-01-20</td><td>0.26</td></tr><tr><td>2024-01-21</td><td>0.02</td></tr><tr><td>2024-01-22</td><td>0.11</td></tr><tr><td>2024-01-23</td><td>0.32</td></tr><tr><td>2024-01-24</td><td>2.09</td></tr><tr><td>2024-01-25</td><td>0.97</td></tr><tr><td>2024-01-26</td><td>0.13</td></tr><tr><td>2024-01-27</td><td>1.1</td></tr><tr><td>2024-01-31</td><td>0.55</td></tr><tr><td>2024-02-02</td><td>0.78</td></tr><tr><td>2024-02-05</td><td>0.02</td></tr><tr><td>2024-02-06</td><td>0.91</td></tr><tr><td>2024-02-07</td><td>1.05</td></tr><tr><td>2024-02-08</td><td>0.15</td></tr><tr><td>2024-02-09</td><td>0.35</td></tr><tr><td>2024-02-10</td><td>0.98</td></tr><tr><td>2024-02-11</td><td>0.07</td></tr><tr><td>2024-02-12</td><td>0.54</td></tr><tr><td>2024-02-14</td><td>0.07</td></tr><tr><td>2024-02-15</td><td>0.6</td></tr><tr><td>2024-02-16</td><td>0.13</td></tr><tr><td>2024-02-17</td><td>0.38</td></tr><tr><td>2024-02-18</td><td>0.6</td></tr><tr><td>2024-02-22</td><td>0.69</td></tr><tr><td>2024-02-23</td><td>1.49</td></tr><tr><td>2024-02-24</td><td>0.64</td></tr><tr><td>2024-02-25</td><td>1.72</td></tr><tr><td>2024-02-28</td><td>0.11</td></tr><tr><td>2024-02-29</td><td>0.13</td></tr><tr><td>2024-03-01</td><td>1.66</td></tr><tr><td>2024-03-03</td><td>0.98</td></tr><tr><td>2024-03-04</td><td>0.41</td></tr><tr><td>2024-03-06</td><td>0.0</td></tr><tr><td>2024-03-08</td><td>0.57</td></tr><tr><td>2024-03-10</td><td>0.13</td></tr><tr><td>2024-03-11</td><td>0.06</td></tr><tr><td>2024-03-13</td><td>0.67</td></tr><tr><td>2024-03-14</td><td>0.22</td></tr><tr><td>2024-03-15</td><td>1.53</td></tr><tr><td>2024-03-17</td><td>1.52</td></tr><tr><td>2024-03-19</td><td>0.17</td></tr><tr><td>2024-03-20</td><td>1.22</td></tr><tr><td>2024-03-21</td><td>1.24</td></tr></tbody></table></div>"
      ]
     },
     "metadata": {
      "application/vnd.databricks.v1+output": {
       "addedWidgets": {},
       "aggData": [],
       "aggError": "",
       "aggOverflow": false,
       "aggSchema": [],
       "aggSeriesLimitReached": false,
       "aggType": "",
       "arguments": {},
       "columnCustomDisplayInfos": {},
       "data": [
        [
         "2023-01-01",
         0.04
        ],
        [
         "2023-01-05",
         0.37
        ],
        [
         "2023-01-06",
         0.25
        ],
        [
         "2023-01-08",
         0.97
        ],
        [
         "2023-01-09",
         0.8
        ],
        [
         "2023-01-10",
         0.98
        ],
        [
         "2023-01-11",
         0.43
        ],
        [
         "2023-01-12",
         1.18
        ],
        [
         "2023-01-13",
         0.08
        ],
        [
         "2023-01-14",
         1.46
        ],
        [
         "2023-01-15",
         0.69
        ],
        [
         "2023-01-16",
         0.2
        ],
        [
         "2023-01-17",
         0.11
        ],
        [
         "2023-01-18",
         1.36
        ],
        [
         "2023-01-19",
         0.8
        ],
        [
         "2023-01-20",
         0.65
        ],
        [
         "2023-01-21",
         1.46
        ],
        [
         "2023-01-22",
         0.63
        ],
        [
         "2023-01-23",
         1.12
        ],
        [
         "2023-01-24",
         0.49
        ],
        [
         "2023-01-25",
         1.23
        ],
        [
         "2023-01-26",
         0.3
        ],
        [
         "2023-01-27",
         1.03
        ],
        [
         "2023-01-28",
         0.66
        ],
        [
         "2023-01-29",
         1.04
        ],
        [
         "2023-01-30",
         0.67
        ],
        [
         "2023-01-31",
         0.15
        ],
        [
         "2023-02-01",
         2.1
        ],
        [
         "2023-02-02",
         0.45
        ],
        [
         "2023-02-03",
         1.02
        ],
        [
         "2023-02-04",
         0.48
        ],
        [
         "2023-02-05",
         1.22
        ],
        [
         "2023-02-06",
         0.48
        ],
        [
         "2023-02-07",
         0.7
        ],
        [
         "2023-02-08",
         1.44
        ],
        [
         "2023-02-10",
         0.99
        ],
        [
         "2023-02-11",
         0.92
        ],
        [
         "2023-02-12",
         0.83
        ],
        [
         "2023-02-13",
         0.11
        ],
        [
         "2023-02-14",
         1.19
        ],
        [
         "2023-02-15",
         1.12
        ],
        [
         "2023-02-16",
         0.33
        ],
        [
         "2023-02-17",
         0.72
        ],
        [
         "2023-02-18",
         0.99
        ],
        [
         "2023-02-19",
         0.96
        ],
        [
         "2023-02-20",
         2.04
        ],
        [
         "2023-02-21",
         0.66
        ],
        [
         "2023-02-22",
         1.73
        ],
        [
         "2023-02-23",
         1.1
        ],
        [
         "2023-02-24",
         0.45
        ],
        [
         "2023-02-25",
         1.53
        ],
        [
         "2023-02-27",
         1.24
        ],
        [
         "2023-02-28",
         0.33
        ],
        [
         "2023-03-01",
         1.74
        ],
        [
         "2023-03-02",
         0.84
        ],
        [
         "2023-03-03",
         1.39
        ],
        [
         "2023-03-04",
         0.9
        ],
        [
         "2023-03-05",
         0.34
        ],
        [
         "2023-03-06",
         0.35
        ],
        [
         "2023-03-07",
         0.62
        ],
        [
         "2023-03-08",
         0.05
        ],
        [
         "2023-03-09",
         0.18
        ],
        [
         "2023-03-10",
         1.33
        ],
        [
         "2023-03-11",
         1.47
        ],
        [
         "2023-03-12",
         1.26
        ],
        [
         "2023-03-13",
         0.48
        ],
        [
         "2023-03-14",
         0.31
        ],
        [
         "2023-03-15",
         1.2
        ],
        [
         "2023-03-16",
         2.04
        ],
        [
         "2023-03-17",
         1.34
        ],
        [
         "2023-03-18",
         0.18
        ],
        [
         "2023-03-19",
         1.51
        ],
        [
         "2023-03-20",
         0.87
        ],
        [
         "2023-03-21",
         0.81
        ],
        [
         "2023-03-22",
         0.09
        ],
        [
         "2023-03-23",
         0.47
        ],
        [
         "2023-03-24",
         0.04
        ],
        [
         "2023-03-25",
         0.64
        ],
        [
         "2023-03-26",
         0.92
        ],
        [
         "2023-03-28",
         0.55
        ],
        [
         "2023-03-29",
         0.33
        ],
        [
         "2023-03-30",
         0.2
        ],
        [
         "2023-04-01",
         0.87
        ],
        [
         "2023-04-02",
         1.49
        ],
        [
         "2023-04-03",
         0.76
        ],
        [
         "2023-04-04",
         0.49
        ],
        [
         "2023-04-06",
         0.11
        ],
        [
         "2023-04-08",
         0.5
        ],
        [
         "2023-04-09",
         1.03
        ],
        [
         "2023-04-11",
         0.16
        ],
        [
         "2023-04-13",
         1.36
        ],
        [
         "2023-04-14",
         0.08
        ],
        [
         "2023-04-15",
         0.71
        ],
        [
         "2023-04-16",
         0.29
        ],
        [
         "2023-04-17",
         1.52
        ],
        [
         "2023-04-18",
         0.83
        ],
        [
         "2023-04-21",
         0.04
        ],
        [
         "2023-04-22",
         0.7
        ],
        [
         "2023-04-24",
         0.19
        ],
        [
         "2023-04-25",
         1.45
        ],
        [
         "2023-04-27",
         1.38
        ],
        [
         "2023-04-28",
         1.02
        ],
        [
         "2023-04-29",
         0.2
        ],
        [
         "2023-04-30",
         0.33
        ],
        [
         "2023-05-03",
         0.45
        ],
        [
         "2023-05-05",
         0.19
        ],
        [
         "2023-05-08",
         0.45
        ],
        [
         "2023-05-09",
         0.18
        ],
        [
         "2023-05-10",
         0.01
        ],
        [
         "2023-05-11",
         2.0
        ],
        [
         "2023-05-14",
         1.36
        ],
        [
         "2023-05-16",
         0.22
        ],
        [
         "2023-05-18",
         0.16
        ],
        [
         "2023-05-19",
         0.49
        ],
        [
         "2023-05-20",
         0.2
        ],
        [
         "2023-05-22",
         0.33
        ],
        [
         "2023-05-24",
         0.43
        ],
        [
         "2023-05-25",
         0.53
        ],
        [
         "2023-05-26",
         1.36
        ],
        [
         "2023-05-27",
         0.33
        ],
        [
         "2023-05-29",
         0.09
        ],
        [
         "2023-05-30",
         0.27
        ],
        [
         "2023-06-02",
         0.91
        ],
        [
         "2023-06-03",
         0.78
        ],
        [
         "2023-06-05",
         0.82
        ],
        [
         "2023-06-06",
         0.33
        ],
        [
         "2023-06-07",
         0.01
        ],
        [
         "2023-06-08",
         0.01
        ],
        [
         "2023-06-10",
         0.36
        ],
        [
         "2023-06-11",
         0.6
        ],
        [
         "2023-06-12",
         0.62
        ],
        [
         "2023-06-13",
         0.47
        ],
        [
         "2023-06-14",
         1.01
        ],
        [
         "2023-06-16",
         0.62
        ],
        [
         "2023-06-17",
         0.82
        ],
        [
         "2023-06-18",
         0.94
        ],
        [
         "2023-06-19",
         0.04
        ],
        [
         "2023-06-20",
         0.13
        ],
        [
         "2023-06-22",
         1.13
        ],
        [
         "2023-06-23",
         0.57
        ],
        [
         "2023-06-24",
         0.28
        ],
        [
         "2023-06-25",
         1.0
        ],
        [
         "2023-06-26",
         1.23
        ],
        [
         "2023-06-27",
         0.55
        ],
        [
         "2023-06-28",
         0.67
        ],
        [
         "2023-06-29",
         0.14
        ],
        [
         "2023-07-02",
         0.52
        ],
        [
         "2023-07-03",
         0.25
        ],
        [
         "2023-07-05",
         0.39
        ],
        [
         "2023-07-06",
         1.47
        ],
        [
         "2023-07-07",
         1.33
        ],
        [
         "2023-07-08",
         1.07
        ],
        [
         "2023-07-09",
         0.44
        ],
        [
         "2023-07-10",
         0.65
        ],
        [
         "2023-07-12",
         1.18
        ],
        [
         "2023-07-13",
         1.14
        ],
        [
         "2023-07-14",
         0.17
        ],
        [
         "2023-07-15",
         0.01
        ],
        [
         "2023-07-16",
         0.01
        ],
        [
         "2023-07-17",
         1.81
        ],
        [
         "2023-07-19",
         0.31
        ],
        [
         "2023-07-20",
         0.76
        ],
        [
         "2023-07-21",
         0.82
        ],
        [
         "2023-07-22",
         0.64
        ],
        [
         "2023-07-23",
         0.32
        ],
        [
         "2023-07-24",
         0.11
        ],
        [
         "2023-07-27",
         1.01
        ],
        [
         "2023-07-28",
         0.45
        ],
        [
         "2023-07-29",
         1.61
        ],
        [
         "2023-07-30",
         0.65
        ],
        [
         "2023-07-31",
         0.29
        ],
        [
         "2023-08-01",
         0.19
        ],
        [
         "2023-08-02",
         0.48
        ],
        [
         "2023-08-03",
         0.12
        ],
        [
         "2023-08-04",
         0.52
        ],
        [
         "2023-08-05",
         0.42
        ],
        [
         "2023-08-06",
         0.12
        ],
        [
         "2023-08-11",
         1.58
        ],
        [
         "2023-08-12",
         1.96
        ],
        [
         "2023-08-14",
         0.75
        ],
        [
         "2023-08-15",
         0.41
        ],
        [
         "2023-08-17",
         0.17
        ],
        [
         "2023-08-19",
         0.13
        ],
        [
         "2023-08-21",
         0.03
        ],
        [
         "2023-08-25",
         0.16
        ],
        [
         "2023-08-27",
         0.38
        ],
        [
         "2023-08-29",
         0.49
        ],
        [
         "2023-08-31",
         0.7
        ],
        [
         "2023-09-01",
         0.09
        ],
        [
         "2023-09-02",
         1.06
        ],
        [
         "2023-09-03",
         0.24
        ],
        [
         "2023-09-06",
         0.72
        ],
        [
         "2023-09-08",
         0.88
        ],
        [
         "2023-09-09",
         0.26
        ],
        [
         "2023-09-10",
         0.49
        ],
        [
         "2023-09-11",
         0.1
        ],
        [
         "2023-09-12",
         0.82
        ],
        [
         "2023-09-13",
         0.52
        ],
        [
         "2023-09-14",
         0.1
        ],
        [
         "2023-09-15",
         0.79
        ],
        [
         "2023-09-16",
         0.88
        ],
        [
         "2023-09-17",
         0.58
        ],
        [
         "2023-09-18",
         1.2
        ],
        [
         "2023-09-19",
         0.89
        ],
        [
         "2023-09-20",
         0.19
        ],
        [
         "2023-09-21",
         0.22
        ],
        [
         "2023-09-22",
         0.82
        ],
        [
         "2023-09-23",
         0.51
        ],
        [
         "2023-09-24",
         0.62
        ],
        [
         "2023-09-25",
         0.99
        ],
        [
         "2023-09-26",
         1.15
        ],
        [
         "2023-09-28",
         0.35
        ],
        [
         "2023-09-29",
         0.94
        ],
        [
         "2023-09-30",
         1.07
        ],
        [
         "2023-10-01",
         0.32
        ],
        [
         "2023-10-02",
         0.51
        ],
        [
         "2023-10-03",
         0.84
        ],
        [
         "2023-10-04",
         1.52
        ],
        [
         "2023-10-05",
         1.15
        ],
        [
         "2023-10-07",
         0.34
        ],
        [
         "2023-10-08",
         1.0
        ],
        [
         "2023-10-09",
         0.28
        ],
        [
         "2023-10-11",
         0.79
        ],
        [
         "2023-10-12",
         0.59
        ],
        [
         "2023-10-13",
         1.58
        ],
        [
         "2023-10-14",
         1.01
        ],
        [
         "2023-10-15",
         1.23
        ],
        [
         "2023-10-16",
         0.48
        ],
        [
         "2023-10-17",
         1.36
        ],
        [
         "2023-10-18",
         1.68
        ],
        [
         "2023-10-19",
         0.3
        ],
        [
         "2023-10-22",
         0.24
        ],
        [
         "2023-10-23",
         0.35
        ],
        [
         "2023-10-25",
         0.32
        ],
        [
         "2023-10-27",
         1.11
        ],
        [
         "2023-10-28",
         0.35
        ],
        [
         "2023-10-29",
         1.17
        ],
        [
         "2023-10-31",
         0.45
        ],
        [
         "2023-11-02",
         0.13
        ],
        [
         "2023-11-04",
         0.52
        ],
        [
         "2023-11-05",
         1.66
        ],
        [
         "2023-11-06",
         0.9
        ],
        [
         "2023-11-07",
         1.17
        ],
        [
         "2023-11-08",
         0.76
        ],
        [
         "2023-11-09",
         1.52
        ],
        [
         "2023-11-10",
         2.55
        ],
        [
         "2023-11-11",
         1.0
        ],
        [
         "2023-11-12",
         0.37
        ],
        [
         "2023-11-13",
         0.39
        ],
        [
         "2023-11-14",
         0.17
        ],
        [
         "2023-11-16",
         0.16
        ],
        [
         "2023-11-17",
         1.01
        ],
        [
         "2023-11-18",
         0.11
        ],
        [
         "2023-11-19",
         0.09
        ],
        [
         "2023-11-20",
         0.4
        ],
        [
         "2023-11-22",
         0.23
        ],
        [
         "2023-11-23",
         0.04
        ],
        [
         "2023-11-25",
         1.07
        ],
        [
         "2023-11-26",
         0.16
        ],
        [
         "2023-11-27",
         0.2
        ],
        [
         "2023-11-28",
         0.18
        ],
        [
         "2023-11-29",
         0.77
        ],
        [
         "2023-11-30",
         1.77
        ],
        [
         "2023-12-01",
         0.58
        ],
        [
         "2023-12-02",
         1.25
        ],
        [
         "2023-12-03",
         0.52
        ],
        [
         "2023-12-04",
         0.14
        ],
        [
         "2023-12-05",
         0.52
        ],
        [
         "2023-12-06",
         1.68
        ],
        [
         "2023-12-07",
         0.22
        ],
        [
         "2023-12-08",
         1.32
        ],
        [
         "2023-12-09",
         2.07
        ],
        [
         "2023-12-10",
         0.23
        ],
        [
         "2023-12-11",
         0.68
        ],
        [
         "2023-12-12",
         1.29
        ],
        [
         "2023-12-13",
         1.13
        ],
        [
         "2023-12-14",
         0.96
        ],
        [
         "2023-12-16",
         0.74
        ],
        [
         "2023-12-17",
         1.57
        ],
        [
         "2023-12-18",
         1.64
        ],
        [
         "2023-12-19",
         3.93
        ],
        [
         "2023-12-20",
         1.03
        ],
        [
         "2023-12-22",
         0.84
        ],
        [
         "2023-12-24",
         0.47
        ],
        [
         "2023-12-25",
         2.56
        ],
        [
         "2023-12-28",
         0.51
        ],
        [
         "2023-12-29",
         0.5
        ],
        [
         "2024-01-01",
         0.54
        ],
        [
         "2024-01-02",
         0.16
        ],
        [
         "2024-01-03",
         0.6
        ],
        [
         "2024-01-05",
         0.36
        ],
        [
         "2024-01-06",
         1.5
        ],
        [
         "2024-01-07",
         0.71
        ],
        [
         "2024-01-10",
         0.0
        ],
        [
         "2024-01-12",
         1.01
        ],
        [
         "2024-01-13",
         1.2
        ],
        [
         "2024-01-18",
         0.06
        ],
        [
         "2024-01-20",
         0.26
        ],
        [
         "2024-01-21",
         0.02
        ],
        [
         "2024-01-22",
         0.11
        ],
        [
         "2024-01-23",
         0.32
        ],
        [
         "2024-01-24",
         2.09
        ],
        [
         "2024-01-25",
         0.97
        ],
        [
         "2024-01-26",
         0.13
        ],
        [
         "2024-01-27",
         1.1
        ],
        [
         "2024-01-31",
         0.55
        ],
        [
         "2024-02-02",
         0.78
        ],
        [
         "2024-02-05",
         0.02
        ],
        [
         "2024-02-06",
         0.91
        ],
        [
         "2024-02-07",
         1.05
        ],
        [
         "2024-02-08",
         0.15
        ],
        [
         "2024-02-09",
         0.35
        ],
        [
         "2024-02-10",
         0.98
        ],
        [
         "2024-02-11",
         0.07
        ],
        [
         "2024-02-12",
         0.54
        ],
        [
         "2024-02-14",
         0.07
        ],
        [
         "2024-02-15",
         0.6
        ],
        [
         "2024-02-16",
         0.13
        ],
        [
         "2024-02-17",
         0.38
        ],
        [
         "2024-02-18",
         0.6
        ],
        [
         "2024-02-22",
         0.69
        ],
        [
         "2024-02-23",
         1.49
        ],
        [
         "2024-02-24",
         0.64
        ],
        [
         "2024-02-25",
         1.72
        ],
        [
         "2024-02-28",
         0.11
        ],
        [
         "2024-02-29",
         0.13
        ],
        [
         "2024-03-01",
         1.66
        ],
        [
         "2024-03-03",
         0.98
        ],
        [
         "2024-03-04",
         0.41
        ],
        [
         "2024-03-06",
         0.0
        ],
        [
         "2024-03-08",
         0.57
        ],
        [
         "2024-03-10",
         0.13
        ],
        [
         "2024-03-11",
         0.06
        ],
        [
         "2024-03-13",
         0.67
        ],
        [
         "2024-03-14",
         0.22
        ],
        [
         "2024-03-15",
         1.53
        ],
        [
         "2024-03-17",
         1.52
        ],
        [
         "2024-03-19",
         0.17
        ],
        [
         "2024-03-20",
         1.22
        ],
        [
         "2024-03-21",
         1.24
        ]
       ],
       "datasetInfos": [],
       "dbfsResultPath": null,
       "isJsonSchema": true,
       "metadata": {
        "isDbfsCommandResult": false
       },
       "overflow": false,
       "plotOptions": {
        "customPlotOptions": {},
        "displayType": "table",
        "pivotAggregation": null,
        "pivotColumns": null,
        "xColumns": null,
        "yColumns": null
       },
       "removedWidgets": [],
       "schema": [
        {
         "metadata": "{}",
         "name": "date",
         "type": "\"date\""
        },
        {
         "metadata": "{}",
         "name": "ms_played_hr",
         "type": "\"double\""
        }
       ],
       "type": "table"
      }
     },
     "output_type": "display_data"
    }
   ],
   "source": [
    "-- 15. What is the 2023–2024 Listening Pattern like?\n",
    "SELECT date, round(((SUM(ms_played)/1000)/60)/60, 2) as ms_played_hr FROM spotify\n",
    "GROUP BY date\n",
    "HAVING year(date) in (2023, 2024)\n",
    "ORDER BY date"
   ]
  },
  {
   "cell_type": "code",
   "execution_count": 0,
   "metadata": {
    "application/vnd.databricks.v1+cell": {
     "cellMetadata": {
      "byteLimit": 2048000,
      "rowLimit": 10000
     },
     "inputWidgets": {},
     "nuid": "7599738f-04f9-4ab8-8574-32f9f02ab2b1",
     "showTitle": false,
     "title": ""
    }
   },
   "outputs": [
    {
     "output_type": "display_data",
     "data": {
      "text/html": [
       "<style scoped>\n",
       "  .table-result-container {\n",
       "    max-height: 300px;\n",
       "    overflow: auto;\n",
       "  }\n",
       "  table, th, td {\n",
       "    border: 1px solid black;\n",
       "    border-collapse: collapse;\n",
       "  }\n",
       "  th, td {\n",
       "    padding: 5px;\n",
       "  }\n",
       "  th {\n",
       "    text-align: left;\n",
       "  }\n",
       "</style><div class='table-result-container'><table class='table-result'><thead style='background-color: white'><tr><th>day</th><th>tracksplayed</th></tr></thead><tbody><tr><td>Sunday</td><td>1915</td></tr><tr><td>Monday</td><td>1707</td></tr><tr><td>Tuesday</td><td>1455</td></tr><tr><td>Wednesday</td><td>1909</td></tr><tr><td>Thursday</td><td>1703</td></tr><tr><td>Friday</td><td>2534</td></tr><tr><td>Saturday</td><td>2334</td></tr></tbody></table></div>"
      ]
     },
     "metadata": {
      "application/vnd.databricks.v1+output": {
       "addedWidgets": {},
       "aggData": [],
       "aggError": "",
       "aggOverflow": false,
       "aggSchema": [],
       "aggSeriesLimitReached": false,
       "aggType": "",
       "arguments": {},
       "columnCustomDisplayInfos": {},
       "data": [
        [
         "Sunday",
         1915
        ],
        [
         "Monday",
         1707
        ],
        [
         "Tuesday",
         1455
        ],
        [
         "Wednesday",
         1909
        ],
        [
         "Thursday",
         1703
        ],
        [
         "Friday",
         2534
        ],
        [
         "Saturday",
         2334
        ]
       ],
       "datasetInfos": [],
       "dbfsResultPath": null,
       "isJsonSchema": true,
       "metadata": {
        "isDbfsCommandResult": false
       },
       "overflow": false,
       "plotOptions": {
        "customPlotOptions": {},
        "displayType": "table",
        "pivotAggregation": null,
        "pivotColumns": null,
        "xColumns": null,
        "yColumns": null
       },
       "removedWidgets": [],
       "schema": [
        {
         "metadata": "{}",
         "name": "day",
         "type": "\"string\""
        },
        {
         "metadata": "{}",
         "name": "tracksplayed",
         "type": "\"long\""
        }
       ],
       "type": "table"
      }
     },
     "output_type": "display_data"
    }
   ],
   "source": [
    "-- 16. Which weekday has most played tracks?\n",
    "SELECT day, count(*) as tracksplayed FROM spotify\n",
    "GROUP BY day,day_num\n",
    "ORDER BY day_num"
   ]
  },
  {
   "cell_type": "code",
   "execution_count": 0,
   "metadata": {
    "application/vnd.databricks.v1+cell": {
     "cellMetadata": {
      "byteLimit": 2048000,
      "rowLimit": 10000
     },
     "inputWidgets": {},
     "nuid": "3ef48bdf-5586-43ba-8bef-9199981adc9f",
     "showTitle": false,
     "title": ""
    }
   },
   "outputs": [
    {
     "output_type": "display_data",
     "data": {
      "text/html": [
       "<style scoped>\n",
       "  .table-result-container {\n",
       "    max-height: 300px;\n",
       "    overflow: auto;\n",
       "  }\n",
       "  table, th, td {\n",
       "    border: 1px solid black;\n",
       "    border-collapse: collapse;\n",
       "  }\n",
       "  th, td {\n",
       "    padding: 5px;\n",
       "  }\n",
       "  th {\n",
       "    text-align: left;\n",
       "  }\n",
       "</style><div class='table-result-container'><table class='table-result'><thead style='background-color: white'><tr><th>day</th><th>timeplayed</th></tr></thead><tbody><tr><td>Sunday</td><td>44.1</td></tr><tr><td>Monday</td><td>38.6</td></tr><tr><td>Tuesday</td><td>36.0</td></tr><tr><td>Wednesday</td><td>44.5</td></tr><tr><td>Thursday</td><td>40.5</td></tr><tr><td>Friday</td><td>51.1</td></tr><tr><td>Saturday</td><td>55.2</td></tr></tbody></table></div>"
      ]
     },
     "metadata": {
      "application/vnd.databricks.v1+output": {
       "addedWidgets": {},
       "aggData": [],
       "aggError": "",
       "aggOverflow": false,
       "aggSchema": [],
       "aggSeriesLimitReached": false,
       "aggType": "",
       "arguments": {},
       "columnCustomDisplayInfos": {},
       "data": [
        [
         "Sunday",
         44.1
        ],
        [
         "Monday",
         38.6
        ],
        [
         "Tuesday",
         36.0
        ],
        [
         "Wednesday",
         44.5
        ],
        [
         "Thursday",
         40.5
        ],
        [
         "Friday",
         51.1
        ],
        [
         "Saturday",
         55.2
        ]
       ],
       "datasetInfos": [],
       "dbfsResultPath": null,
       "isJsonSchema": true,
       "metadata": {
        "isDbfsCommandResult": false
       },
       "overflow": false,
       "plotOptions": {
        "customPlotOptions": {},
        "displayType": "table",
        "pivotAggregation": null,
        "pivotColumns": null,
        "xColumns": null,
        "yColumns": null
       },
       "removedWidgets": [],
       "schema": [
        {
         "metadata": "{}",
         "name": "day",
         "type": "\"string\""
        },
        {
         "metadata": "{}",
         "name": "timeplayed",
         "type": "\"double\""
        }
       ],
       "type": "table"
      }
     },
     "output_type": "display_data"
    }
   ],
   "source": [
    "-- 17. Which month has most played tracks?\n",
    "SELECT day, round(((SUM(ms_played)/1000)/60)/60, 1) as timeplayed FROM spotify\n",
    "GROUP BY day, day_num\n",
    "ORDER BY day_num"
   ]
  },
  {
   "cell_type": "code",
   "execution_count": 0,
   "metadata": {
    "application/vnd.databricks.v1+cell": {
     "cellMetadata": {
      "byteLimit": 2048000,
      "rowLimit": 10000
     },
     "inputWidgets": {},
     "nuid": "66b293ac-6701-4e33-b35b-6c2e247270b5",
     "showTitle": false,
     "title": ""
    }
   },
   "outputs": [
    {
     "output_type": "display_data",
     "data": {
      "text/html": [
       "<style scoped>\n",
       "  .table-result-container {\n",
       "    max-height: 300px;\n",
       "    overflow: auto;\n",
       "  }\n",
       "  table, th, td {\n",
       "    border: 1px solid black;\n",
       "    border-collapse: collapse;\n",
       "  }\n",
       "  th, td {\n",
       "    padding: 5px;\n",
       "  }\n",
       "  th {\n",
       "    text-align: left;\n",
       "  }\n",
       "</style><div class='table-result-container'><table class='table-result'><thead style='background-color: white'><tr><th>month</th><th>tracksplayed</th></tr></thead><tbody><tr><td>January</td><td>1271</td></tr><tr><td>February</td><td>1077</td></tr><tr><td>March</td><td>1595</td></tr><tr><td>April</td><td>865</td></tr><tr><td>May</td><td>543</td></tr><tr><td>June</td><td>991</td></tr><tr><td>July</td><td>1000</td></tr><tr><td>August</td><td>471</td></tr><tr><td>September</td><td>1394</td></tr><tr><td>October</td><td>1200</td></tr><tr><td>November</td><td>1285</td></tr><tr><td>December</td><td>1865</td></tr></tbody></table></div>"
      ]
     },
     "metadata": {
      "application/vnd.databricks.v1+output": {
       "addedWidgets": {},
       "aggData": [],
       "aggError": "",
       "aggOverflow": false,
       "aggSchema": [],
       "aggSeriesLimitReached": false,
       "aggType": "",
       "arguments": {},
       "columnCustomDisplayInfos": {},
       "data": [
        [
         "January",
         1271
        ],
        [
         "February",
         1077
        ],
        [
         "March",
         1595
        ],
        [
         "April",
         865
        ],
        [
         "May",
         543
        ],
        [
         "June",
         991
        ],
        [
         "July",
         1000
        ],
        [
         "August",
         471
        ],
        [
         "September",
         1394
        ],
        [
         "October",
         1200
        ],
        [
         "November",
         1285
        ],
        [
         "December",
         1865
        ]
       ],
       "datasetInfos": [],
       "dbfsResultPath": null,
       "isJsonSchema": true,
       "metadata": {
        "isDbfsCommandResult": false
       },
       "overflow": false,
       "plotOptions": {
        "customPlotOptions": {},
        "displayType": "table",
        "pivotAggregation": null,
        "pivotColumns": null,
        "xColumns": null,
        "yColumns": null
       },
       "removedWidgets": [],
       "schema": [
        {
         "metadata": "{}",
         "name": "month",
         "type": "\"string\""
        },
        {
         "metadata": "{}",
         "name": "tracksplayed",
         "type": "\"long\""
        }
       ],
       "type": "table"
      }
     },
     "output_type": "display_data"
    }
   ],
   "source": [
    "-- 18. Which weekday has most listening hours?\n",
    "SELECT month, count(*) as tracksplayed FROM spotify\n",
    "GROUP BY month, month_num\n",
    "ORDER BY month_num"
   ]
  },
  {
   "cell_type": "code",
   "execution_count": 0,
   "metadata": {
    "application/vnd.databricks.v1+cell": {
     "cellMetadata": {
      "byteLimit": 2048000,
      "rowLimit": 10000
     },
     "inputWidgets": {},
     "nuid": "7c0c0f41-3352-4f11-829a-06941fcfbd1c",
     "showTitle": false,
     "title": ""
    }
   },
   "outputs": [
    {
     "output_type": "display_data",
     "data": {
      "text/html": [
       "<style scoped>\n",
       "  .table-result-container {\n",
       "    max-height: 300px;\n",
       "    overflow: auto;\n",
       "  }\n",
       "  table, th, td {\n",
       "    border: 1px solid black;\n",
       "    border-collapse: collapse;\n",
       "  }\n",
       "  th, td {\n",
       "    padding: 5px;\n",
       "  }\n",
       "  th {\n",
       "    text-align: left;\n",
       "  }\n",
       "</style><div class='table-result-container'><table class='table-result'><thead style='background-color: white'><tr><th>month</th><th>timeplayed</th></tr></thead><tbody><tr><td>January</td><td>31.0</td></tr><tr><td>February</td><td>36.9</td></tr><tr><td>March</td><td>33.5</td></tr><tr><td>April</td><td>16.7</td></tr><tr><td>May</td><td>9.7</td></tr><tr><td>June</td><td>17.1</td></tr><tr><td>July</td><td>19.1</td></tr><tr><td>August</td><td>10.3</td></tr><tr><td>September</td><td>29.9</td></tr><tr><td>October</td><td>30.3</td></tr><tr><td>November</td><td>22.7</td></tr><tr><td>December</td><td>52.8</td></tr></tbody></table></div>"
      ]
     },
     "metadata": {
      "application/vnd.databricks.v1+output": {
       "addedWidgets": {},
       "aggData": [],
       "aggError": "",
       "aggOverflow": false,
       "aggSchema": [],
       "aggSeriesLimitReached": false,
       "aggType": "",
       "arguments": {},
       "columnCustomDisplayInfos": {},
       "data": [
        [
         "January",
         31.0
        ],
        [
         "February",
         36.9
        ],
        [
         "March",
         33.5
        ],
        [
         "April",
         16.7
        ],
        [
         "May",
         9.7
        ],
        [
         "June",
         17.1
        ],
        [
         "July",
         19.1
        ],
        [
         "August",
         10.3
        ],
        [
         "September",
         29.9
        ],
        [
         "October",
         30.3
        ],
        [
         "November",
         22.7
        ],
        [
         "December",
         52.8
        ]
       ],
       "datasetInfos": [],
       "dbfsResultPath": null,
       "isJsonSchema": true,
       "metadata": {
        "isDbfsCommandResult": false
       },
       "overflow": false,
       "plotOptions": {
        "customPlotOptions": {},
        "displayType": "table",
        "pivotAggregation": null,
        "pivotColumns": null,
        "xColumns": null,
        "yColumns": null
       },
       "removedWidgets": [],
       "schema": [
        {
         "metadata": "{}",
         "name": "month",
         "type": "\"string\""
        },
        {
         "metadata": "{}",
         "name": "timeplayed",
         "type": "\"double\""
        }
       ],
       "type": "table"
      }
     },
     "output_type": "display_data"
    }
   ],
   "source": [
    "--19. Which month has most listening hours?\n",
    "SELECT month, round(((SUM(ms_played)/1000)/60)/60, 1) as timeplayed FROM spotify\n",
    "GROUP BY month, month_num\n",
    "ORDER BY month_num"
   ]
  },
  {
   "cell_type": "code",
   "execution_count": 0,
   "metadata": {
    "application/vnd.databricks.v1+cell": {
     "cellMetadata": {
      "byteLimit": 2048000,
      "rowLimit": 10000
     },
     "inputWidgets": {},
     "nuid": "021f159c-ee43-4a8c-be92-426afc7f74b1",
     "showTitle": false,
     "title": ""
    }
   },
   "outputs": [
    {
     "output_type": "display_data",
     "data": {
      "text/html": [
       "<style scoped>\n",
       "  .table-result-container {\n",
       "    max-height: 300px;\n",
       "    overflow: auto;\n",
       "  }\n",
       "  table, th, td {\n",
       "    border: 1px solid black;\n",
       "    border-collapse: collapse;\n",
       "  }\n",
       "  th, td {\n",
       "    padding: 5px;\n",
       "  }\n",
       "  th {\n",
       "    text-align: left;\n",
       "  }\n",
       "</style><div class='table-result-container'><table class='table-result'><thead style='background-color: white'><tr><th>platform</th><th>tracks_played</th></tr></thead><tbody><tr><td>Android</td><td>8865</td></tr><tr><td>Windows</td><td>4692</td></tr></tbody></table></div>"
      ]
     },
     "metadata": {
      "application/vnd.databricks.v1+output": {
       "addedWidgets": {},
       "aggData": [],
       "aggError": "",
       "aggOverflow": false,
       "aggSchema": [],
       "aggSeriesLimitReached": false,
       "aggType": "",
       "arguments": {},
       "columnCustomDisplayInfos": {},
       "data": [
        [
         "Android",
         8865
        ],
        [
         "Windows",
         4692
        ]
       ],
       "datasetInfos": [],
       "dbfsResultPath": null,
       "isJsonSchema": true,
       "metadata": {
        "isDbfsCommandResult": false
       },
       "overflow": false,
       "plotOptions": {
        "customPlotOptions": {},
        "displayType": "table",
        "pivotAggregation": null,
        "pivotColumns": null,
        "xColumns": null,
        "yColumns": null
       },
       "removedWidgets": [],
       "schema": [
        {
         "metadata": "{}",
         "name": "platform",
         "type": "\"string\""
        },
        {
         "metadata": "{}",
         "name": "tracks_played",
         "type": "\"long\""
        }
       ],
       "type": "table"
      }
     },
     "output_type": "display_data"
    }
   ],
   "source": [
    "-- 20. How many tracks are played on Android and Windows?\n",
    "SELECT platform, count(*) as tracks_played FROM spotify\n",
    "GROUP BY platform\n",
    "ORDER BY tracks_played DESC"
   ]
  },
  {
   "cell_type": "code",
   "execution_count": 0,
   "metadata": {
    "application/vnd.databricks.v1+cell": {
     "cellMetadata": {
      "byteLimit": 2048000,
      "rowLimit": 10000
     },
     "inputWidgets": {},
     "nuid": "28dce31f-d989-4bf9-8466-e3c9f4906686",
     "showTitle": false,
     "title": ""
    }
   },
   "outputs": [
    {
     "output_type": "display_data",
     "data": {
      "text/html": [
       "<style scoped>\n",
       "  .table-result-container {\n",
       "    max-height: 300px;\n",
       "    overflow: auto;\n",
       "  }\n",
       "  table, th, td {\n",
       "    border: 1px solid black;\n",
       "    border-collapse: collapse;\n",
       "  }\n",
       "  th, td {\n",
       "    padding: 5px;\n",
       "  }\n",
       "  th {\n",
       "    text-align: left;\n",
       "  }\n",
       "</style><div class='table-result-container'><table class='table-result'><thead style='background-color: white'><tr><th>platform</th><th>time_hr</th></tr></thead><tbody><tr><td>Android</td><td>184.9</td></tr><tr><td>Windows</td><td>125.0</td></tr></tbody></table></div>"
      ]
     },
     "metadata": {
      "application/vnd.databricks.v1+output": {
       "addedWidgets": {},
       "aggData": [],
       "aggError": "",
       "aggOverflow": false,
       "aggSchema": [],
       "aggSeriesLimitReached": false,
       "aggType": "",
       "arguments": {},
       "columnCustomDisplayInfos": {},
       "data": [
        [
         "Android",
         184.9
        ],
        [
         "Windows",
         125.0
        ]
       ],
       "datasetInfos": [],
       "dbfsResultPath": null,
       "isJsonSchema": true,
       "metadata": {
        "isDbfsCommandResult": false
       },
       "overflow": false,
       "plotOptions": {
        "customPlotOptions": {},
        "displayType": "table",
        "pivotAggregation": null,
        "pivotColumns": null,
        "xColumns": null,
        "yColumns": null
       },
       "removedWidgets": [],
       "schema": [
        {
         "metadata": "{}",
         "name": "platform",
         "type": "\"string\""
        },
        {
         "metadata": "{}",
         "name": "time_hr",
         "type": "\"double\""
        }
       ],
       "type": "table"
      }
     },
     "output_type": "display_data"
    }
   ],
   "source": [
    "-- 21. How much time listened to spotify on Android and Windows?\n",
    "SELECT platform, round((sum(ms_played)/1000)/60/60, 1) as time_hr FROM spotify\n",
    "GROUP BY platform\n",
    "ORDER BY time_hr DESC"
   ]
  },
  {
   "cell_type": "code",
   "execution_count": 0,
   "metadata": {
    "application/vnd.databricks.v1+cell": {
     "cellMetadata": {
      "byteLimit": 2048000,
      "rowLimit": 10000
     },
     "inputWidgets": {},
     "nuid": "8ffde4af-d388-494a-96da-50aef917d035",
     "showTitle": false,
     "title": ""
    }
   },
   "outputs": [
    {
     "output_type": "display_data",
     "data": {
      "text/html": [
       "<style scoped>\n",
       "  .table-result-container {\n",
       "    max-height: 300px;\n",
       "    overflow: auto;\n",
       "  }\n",
       "  table, th, td {\n",
       "    border: 1px solid black;\n",
       "    border-collapse: collapse;\n",
       "  }\n",
       "  th, td {\n",
       "    padding: 5px;\n",
       "  }\n",
       "  th {\n",
       "    text-align: left;\n",
       "  }\n",
       "</style><div class='table-result-container'><table class='table-result'><thead style='background-color: white'><tr><th>day</th><th>hour</th><th>min_played</th></tr></thead><tbody><tr><td>Sunday</td><td>1</td><td>19.0</td></tr><tr><td>Sunday</td><td>2</td><td>214.0</td></tr><tr><td>Sunday</td><td>3</td><td>192.0</td></tr><tr><td>Sunday</td><td>4</td><td>133.0</td></tr><tr><td>Sunday</td><td>5</td><td>229.0</td></tr><tr><td>Sunday</td><td>6</td><td>169.0</td></tr><tr><td>Sunday</td><td>7</td><td>82.0</td></tr><tr><td>Sunday</td><td>8</td><td>150.0</td></tr><tr><td>Sunday</td><td>9</td><td>70.0</td></tr><tr><td>Sunday</td><td>10</td><td>86.0</td></tr><tr><td>Sunday</td><td>11</td><td>219.0</td></tr><tr><td>Sunday</td><td>12</td><td>372.0</td></tr><tr><td>Sunday</td><td>13</td><td>96.0</td></tr><tr><td>Sunday</td><td>14</td><td>69.0</td></tr><tr><td>Sunday</td><td>15</td><td>79.0</td></tr><tr><td>Sunday</td><td>16</td><td>102.0</td></tr><tr><td>Sunday</td><td>17</td><td>164.0</td></tr><tr><td>Sunday</td><td>18</td><td>154.0</td></tr><tr><td>Sunday</td><td>19</td><td>26.0</td></tr><tr><td>Sunday</td><td>20</td><td>20.0</td></tr><tr><td>Monday</td><td>1</td><td>35.0</td></tr><tr><td>Monday</td><td>2</td><td>112.0</td></tr><tr><td>Monday</td><td>3</td><td>27.0</td></tr><tr><td>Monday</td><td>4</td><td>90.0</td></tr><tr><td>Monday</td><td>5</td><td>211.0</td></tr><tr><td>Monday</td><td>6</td><td>151.0</td></tr><tr><td>Monday</td><td>7</td><td>129.0</td></tr><tr><td>Monday</td><td>8</td><td>138.0</td></tr><tr><td>Monday</td><td>9</td><td>106.0</td></tr><tr><td>Monday</td><td>10</td><td>43.0</td></tr><tr><td>Monday</td><td>11</td><td>222.0</td></tr><tr><td>Monday</td><td>12</td><td>100.0</td></tr><tr><td>Monday</td><td>13</td><td>204.0</td></tr><tr><td>Monday</td><td>14</td><td>146.0</td></tr><tr><td>Monday</td><td>15</td><td>134.0</td></tr><tr><td>Monday</td><td>16</td><td>169.0</td></tr><tr><td>Monday</td><td>17</td><td>94.0</td></tr><tr><td>Monday</td><td>18</td><td>81.0</td></tr><tr><td>Monday</td><td>19</td><td>46.0</td></tr><tr><td>Monday</td><td>21</td><td>16.0</td></tr><tr><td>Monday</td><td>22</td><td>61.0</td></tr><tr><td>Tuesday</td><td>2</td><td>153.0</td></tr><tr><td>Tuesday</td><td>3</td><td>63.0</td></tr><tr><td>Tuesday</td><td>4</td><td>110.0</td></tr><tr><td>Tuesday</td><td>5</td><td>211.0</td></tr><tr><td>Tuesday</td><td>6</td><td>216.0</td></tr><tr><td>Tuesday</td><td>7</td><td>87.0</td></tr><tr><td>Tuesday</td><td>8</td><td>75.0</td></tr><tr><td>Tuesday</td><td>9</td><td>82.0</td></tr><tr><td>Tuesday</td><td>10</td><td>78.0</td></tr><tr><td>Tuesday</td><td>11</td><td>23.0</td></tr><tr><td>Tuesday</td><td>12</td><td>111.0</td></tr><tr><td>Tuesday</td><td>13</td><td>229.0</td></tr><tr><td>Tuesday</td><td>14</td><td>98.0</td></tr><tr><td>Tuesday</td><td>15</td><td>86.0</td></tr><tr><td>Tuesday</td><td>16</td><td>114.0</td></tr><tr><td>Tuesday</td><td>17</td><td>159.0</td></tr><tr><td>Tuesday</td><td>18</td><td>159.0</td></tr><tr><td>Tuesday</td><td>19</td><td>78.0</td></tr><tr><td>Tuesday</td><td>20</td><td>30.0</td></tr><tr><td>Wednesday</td><td>1</td><td>29.0</td></tr><tr><td>Wednesday</td><td>2</td><td>98.0</td></tr><tr><td>Wednesday</td><td>3</td><td>187.0</td></tr><tr><td>Wednesday</td><td>4</td><td>136.0</td></tr><tr><td>Wednesday</td><td>5</td><td>152.0</td></tr><tr><td>Wednesday</td><td>6</td><td>31.0</td></tr><tr><td>Wednesday</td><td>7</td><td>103.0</td></tr><tr><td>Wednesday</td><td>8</td><td>91.0</td></tr><tr><td>Wednesday</td><td>9</td><td>68.0</td></tr><tr><td>Wednesday</td><td>10</td><td>45.0</td></tr><tr><td>Wednesday</td><td>11</td><td>192.0</td></tr><tr><td>Wednesday</td><td>12</td><td>223.0</td></tr><tr><td>Wednesday</td><td>13</td><td>226.0</td></tr><tr><td>Wednesday</td><td>14</td><td>141.0</td></tr><tr><td>Wednesday</td><td>15</td><td>131.0</td></tr><tr><td>Wednesday</td><td>16</td><td>225.0</td></tr><tr><td>Wednesday</td><td>17</td><td>227.0</td></tr><tr><td>Wednesday</td><td>18</td><td>127.0</td></tr><tr><td>Wednesday</td><td>19</td><td>202.0</td></tr><tr><td>Wednesday</td><td>20</td><td>32.0</td></tr><tr><td>Wednesday</td><td>21</td><td>6.0</td></tr><tr><td>Thursday</td><td>0</td><td>18.0</td></tr><tr><td>Thursday</td><td>1</td><td>27.0</td></tr><tr><td>Thursday</td><td>2</td><td>131.0</td></tr><tr><td>Thursday</td><td>3</td><td>109.0</td></tr><tr><td>Thursday</td><td>4</td><td>140.0</td></tr><tr><td>Thursday</td><td>5</td><td>151.0</td></tr><tr><td>Thursday</td><td>6</td><td>87.0</td></tr><tr><td>Thursday</td><td>7</td><td>26.0</td></tr><tr><td>Thursday</td><td>8</td><td>38.0</td></tr><tr><td>Thursday</td><td>9</td><td>152.0</td></tr><tr><td>Thursday</td><td>10</td><td>118.0</td></tr><tr><td>Thursday</td><td>11</td><td>96.0</td></tr><tr><td>Thursday</td><td>12</td><td>105.0</td></tr><tr><td>Thursday</td><td>13</td><td>228.0</td></tr><tr><td>Thursday</td><td>14</td><td>109.0</td></tr><tr><td>Thursday</td><td>15</td><td>168.0</td></tr><tr><td>Thursday</td><td>16</td><td>139.0</td></tr><tr><td>Thursday</td><td>17</td><td>221.0</td></tr><tr><td>Thursday</td><td>18</td><td>71.0</td></tr><tr><td>Thursday</td><td>19</td><td>173.0</td></tr><tr><td>Thursday</td><td>20</td><td>86.0</td></tr><tr><td>Thursday</td><td>21</td><td>13.0</td></tr><tr><td>Thursday</td><td>22</td><td>19.0</td></tr><tr><td>Thursday</td><td>23</td><td>0.0</td></tr><tr><td>Friday</td><td>1</td><td>20.0</td></tr><tr><td>Friday</td><td>2</td><td>167.0</td></tr><tr><td>Friday</td><td>3</td><td>168.0</td></tr><tr><td>Friday</td><td>4</td><td>108.0</td></tr><tr><td>Friday</td><td>5</td><td>80.0</td></tr><tr><td>Friday</td><td>6</td><td>167.0</td></tr><tr><td>Friday</td><td>7</td><td>117.0</td></tr><tr><td>Friday</td><td>8</td><td>136.0</td></tr><tr><td>Friday</td><td>9</td><td>69.0</td></tr><tr><td>Friday</td><td>10</td><td>134.0</td></tr><tr><td>Friday</td><td>11</td><td>143.0</td></tr><tr><td>Friday</td><td>12</td><td>145.0</td></tr><tr><td>Friday</td><td>13</td><td>261.0</td></tr><tr><td>Friday</td><td>14</td><td>199.0</td></tr><tr><td>Friday</td><td>15</td><td>157.0</td></tr><tr><td>Friday</td><td>16</td><td>330.0</td></tr><tr><td>Friday</td><td>17</td><td>262.0</td></tr><tr><td>Friday</td><td>18</td><td>181.0</td></tr><tr><td>Friday</td><td>19</td><td>83.0</td></tr><tr><td>Friday</td><td>20</td><td>51.0</td></tr><tr><td>Friday</td><td>21</td><td>40.0</td></tr><tr><td>Friday</td><td>22</td><td>45.0</td></tr><tr><td>Saturday</td><td>1</td><td>30.0</td></tr><tr><td>Saturday</td><td>2</td><td>104.0</td></tr><tr><td>Saturday</td><td>3</td><td>183.0</td></tr><tr><td>Saturday</td><td>4</td><td>176.0</td></tr><tr><td>Saturday</td><td>5</td><td>193.0</td></tr><tr><td>Saturday</td><td>6</td><td>187.0</td></tr><tr><td>Saturday</td><td>7</td><td>82.0</td></tr><tr><td>Saturday</td><td>8</td><td>151.0</td></tr><tr><td>Saturday</td><td>9</td><td>127.0</td></tr><tr><td>Saturday</td><td>10</td><td>123.0</td></tr><tr><td>Saturday</td><td>11</td><td>82.0</td></tr><tr><td>Saturday</td><td>12</td><td>128.0</td></tr><tr><td>Saturday</td><td>13</td><td>293.0</td></tr><tr><td>Saturday</td><td>14</td><td>107.0</td></tr><tr><td>Saturday</td><td>15</td><td>153.0</td></tr><tr><td>Saturday</td><td>16</td><td>330.0</td></tr><tr><td>Saturday</td><td>17</td><td>331.0</td></tr><tr><td>Saturday</td><td>18</td><td>228.0</td></tr><tr><td>Saturday</td><td>19</td><td>109.0</td></tr><tr><td>Saturday</td><td>20</td><td>126.0</td></tr><tr><td>Saturday</td><td>21</td><td>45.0</td></tr><tr><td>Saturday</td><td>22</td><td>23.0</td></tr></tbody></table></div>"
      ]
     },
     "metadata": {
      "application/vnd.databricks.v1+output": {
       "addedWidgets": {},
       "aggData": [],
       "aggError": "",
       "aggOverflow": false,
       "aggSchema": [],
       "aggSeriesLimitReached": false,
       "aggType": "",
       "arguments": {},
       "columnCustomDisplayInfos": {},
       "data": [
        [
         "Sunday",
         1,
         19.0
        ],
        [
         "Sunday",
         2,
         214.0
        ],
        [
         "Sunday",
         3,
         192.0
        ],
        [
         "Sunday",
         4,
         133.0
        ],
        [
         "Sunday",
         5,
         229.0
        ],
        [
         "Sunday",
         6,
         169.0
        ],
        [
         "Sunday",
         7,
         82.0
        ],
        [
         "Sunday",
         8,
         150.0
        ],
        [
         "Sunday",
         9,
         70.0
        ],
        [
         "Sunday",
         10,
         86.0
        ],
        [
         "Sunday",
         11,
         219.0
        ],
        [
         "Sunday",
         12,
         372.0
        ],
        [
         "Sunday",
         13,
         96.0
        ],
        [
         "Sunday",
         14,
         69.0
        ],
        [
         "Sunday",
         15,
         79.0
        ],
        [
         "Sunday",
         16,
         102.0
        ],
        [
         "Sunday",
         17,
         164.0
        ],
        [
         "Sunday",
         18,
         154.0
        ],
        [
         "Sunday",
         19,
         26.0
        ],
        [
         "Sunday",
         20,
         20.0
        ],
        [
         "Monday",
         1,
         35.0
        ],
        [
         "Monday",
         2,
         112.0
        ],
        [
         "Monday",
         3,
         27.0
        ],
        [
         "Monday",
         4,
         90.0
        ],
        [
         "Monday",
         5,
         211.0
        ],
        [
         "Monday",
         6,
         151.0
        ],
        [
         "Monday",
         7,
         129.0
        ],
        [
         "Monday",
         8,
         138.0
        ],
        [
         "Monday",
         9,
         106.0
        ],
        [
         "Monday",
         10,
         43.0
        ],
        [
         "Monday",
         11,
         222.0
        ],
        [
         "Monday",
         12,
         100.0
        ],
        [
         "Monday",
         13,
         204.0
        ],
        [
         "Monday",
         14,
         146.0
        ],
        [
         "Monday",
         15,
         134.0
        ],
        [
         "Monday",
         16,
         169.0
        ],
        [
         "Monday",
         17,
         94.0
        ],
        [
         "Monday",
         18,
         81.0
        ],
        [
         "Monday",
         19,
         46.0
        ],
        [
         "Monday",
         21,
         16.0
        ],
        [
         "Monday",
         22,
         61.0
        ],
        [
         "Tuesday",
         2,
         153.0
        ],
        [
         "Tuesday",
         3,
         63.0
        ],
        [
         "Tuesday",
         4,
         110.0
        ],
        [
         "Tuesday",
         5,
         211.0
        ],
        [
         "Tuesday",
         6,
         216.0
        ],
        [
         "Tuesday",
         7,
         87.0
        ],
        [
         "Tuesday",
         8,
         75.0
        ],
        [
         "Tuesday",
         9,
         82.0
        ],
        [
         "Tuesday",
         10,
         78.0
        ],
        [
         "Tuesday",
         11,
         23.0
        ],
        [
         "Tuesday",
         12,
         111.0
        ],
        [
         "Tuesday",
         13,
         229.0
        ],
        [
         "Tuesday",
         14,
         98.0
        ],
        [
         "Tuesday",
         15,
         86.0
        ],
        [
         "Tuesday",
         16,
         114.0
        ],
        [
         "Tuesday",
         17,
         159.0
        ],
        [
         "Tuesday",
         18,
         159.0
        ],
        [
         "Tuesday",
         19,
         78.0
        ],
        [
         "Tuesday",
         20,
         30.0
        ],
        [
         "Wednesday",
         1,
         29.0
        ],
        [
         "Wednesday",
         2,
         98.0
        ],
        [
         "Wednesday",
         3,
         187.0
        ],
        [
         "Wednesday",
         4,
         136.0
        ],
        [
         "Wednesday",
         5,
         152.0
        ],
        [
         "Wednesday",
         6,
         31.0
        ],
        [
         "Wednesday",
         7,
         103.0
        ],
        [
         "Wednesday",
         8,
         91.0
        ],
        [
         "Wednesday",
         9,
         68.0
        ],
        [
         "Wednesday",
         10,
         45.0
        ],
        [
         "Wednesday",
         11,
         192.0
        ],
        [
         "Wednesday",
         12,
         223.0
        ],
        [
         "Wednesday",
         13,
         226.0
        ],
        [
         "Wednesday",
         14,
         141.0
        ],
        [
         "Wednesday",
         15,
         131.0
        ],
        [
         "Wednesday",
         16,
         225.0
        ],
        [
         "Wednesday",
         17,
         227.0
        ],
        [
         "Wednesday",
         18,
         127.0
        ],
        [
         "Wednesday",
         19,
         202.0
        ],
        [
         "Wednesday",
         20,
         32.0
        ],
        [
         "Wednesday",
         21,
         6.0
        ],
        [
         "Thursday",
         0,
         18.0
        ],
        [
         "Thursday",
         1,
         27.0
        ],
        [
         "Thursday",
         2,
         131.0
        ],
        [
         "Thursday",
         3,
         109.0
        ],
        [
         "Thursday",
         4,
         140.0
        ],
        [
         "Thursday",
         5,
         151.0
        ],
        [
         "Thursday",
         6,
         87.0
        ],
        [
         "Thursday",
         7,
         26.0
        ],
        [
         "Thursday",
         8,
         38.0
        ],
        [
         "Thursday",
         9,
         152.0
        ],
        [
         "Thursday",
         10,
         118.0
        ],
        [
         "Thursday",
         11,
         96.0
        ],
        [
         "Thursday",
         12,
         105.0
        ],
        [
         "Thursday",
         13,
         228.0
        ],
        [
         "Thursday",
         14,
         109.0
        ],
        [
         "Thursday",
         15,
         168.0
        ],
        [
         "Thursday",
         16,
         139.0
        ],
        [
         "Thursday",
         17,
         221.0
        ],
        [
         "Thursday",
         18,
         71.0
        ],
        [
         "Thursday",
         19,
         173.0
        ],
        [
         "Thursday",
         20,
         86.0
        ],
        [
         "Thursday",
         21,
         13.0
        ],
        [
         "Thursday",
         22,
         19.0
        ],
        [
         "Thursday",
         23,
         0.0
        ],
        [
         "Friday",
         1,
         20.0
        ],
        [
         "Friday",
         2,
         167.0
        ],
        [
         "Friday",
         3,
         168.0
        ],
        [
         "Friday",
         4,
         108.0
        ],
        [
         "Friday",
         5,
         80.0
        ],
        [
         "Friday",
         6,
         167.0
        ],
        [
         "Friday",
         7,
         117.0
        ],
        [
         "Friday",
         8,
         136.0
        ],
        [
         "Friday",
         9,
         69.0
        ],
        [
         "Friday",
         10,
         134.0
        ],
        [
         "Friday",
         11,
         143.0
        ],
        [
         "Friday",
         12,
         145.0
        ],
        [
         "Friday",
         13,
         261.0
        ],
        [
         "Friday",
         14,
         199.0
        ],
        [
         "Friday",
         15,
         157.0
        ],
        [
         "Friday",
         16,
         330.0
        ],
        [
         "Friday",
         17,
         262.0
        ],
        [
         "Friday",
         18,
         181.0
        ],
        [
         "Friday",
         19,
         83.0
        ],
        [
         "Friday",
         20,
         51.0
        ],
        [
         "Friday",
         21,
         40.0
        ],
        [
         "Friday",
         22,
         45.0
        ],
        [
         "Saturday",
         1,
         30.0
        ],
        [
         "Saturday",
         2,
         104.0
        ],
        [
         "Saturday",
         3,
         183.0
        ],
        [
         "Saturday",
         4,
         176.0
        ],
        [
         "Saturday",
         5,
         193.0
        ],
        [
         "Saturday",
         6,
         187.0
        ],
        [
         "Saturday",
         7,
         82.0
        ],
        [
         "Saturday",
         8,
         151.0
        ],
        [
         "Saturday",
         9,
         127.0
        ],
        [
         "Saturday",
         10,
         123.0
        ],
        [
         "Saturday",
         11,
         82.0
        ],
        [
         "Saturday",
         12,
         128.0
        ],
        [
         "Saturday",
         13,
         293.0
        ],
        [
         "Saturday",
         14,
         107.0
        ],
        [
         "Saturday",
         15,
         153.0
        ],
        [
         "Saturday",
         16,
         330.0
        ],
        [
         "Saturday",
         17,
         331.0
        ],
        [
         "Saturday",
         18,
         228.0
        ],
        [
         "Saturday",
         19,
         109.0
        ],
        [
         "Saturday",
         20,
         126.0
        ],
        [
         "Saturday",
         21,
         45.0
        ],
        [
         "Saturday",
         22,
         23.0
        ]
       ],
       "datasetInfos": [],
       "dbfsResultPath": null,
       "isJsonSchema": true,
       "metadata": {
        "isDbfsCommandResult": false
       },
       "overflow": false,
       "plotOptions": {
        "customPlotOptions": {},
        "displayType": "table",
        "pivotAggregation": null,
        "pivotColumns": null,
        "xColumns": null,
        "yColumns": null
       },
       "removedWidgets": [],
       "schema": [
        {
         "metadata": "{}",
         "name": "day",
         "type": "\"string\""
        },
        {
         "metadata": "{}",
         "name": "hour",
         "type": "\"integer\""
        },
        {
         "metadata": "{}",
         "name": "min_played",
         "type": "\"double\""
        }
       ],
       "type": "table"
      }
     },
     "output_type": "display_data"
    }
   ],
   "source": [
    "-- 22. How much time did I spend listening to spotify on daily basis?\n",
    "SELECT day, hour, round((sum(ms_played)/1000)/60) as min_played FROM spotify\n",
    "GROUP BY day, day_num, hour\n",
    "ORDER BY day_num, hour"
   ]
  },
  {
   "cell_type": "code",
   "execution_count": 0,
   "metadata": {
    "application/vnd.databricks.v1+cell": {
     "cellMetadata": {
      "byteLimit": 2048000,
      "rowLimit": 10000
     },
     "inputWidgets": {},
     "nuid": "9e34fd7b-3767-4a49-b759-72b336b439ca",
     "showTitle": false,
     "title": ""
    }
   },
   "outputs": [
    {
     "output_type": "display_data",
     "data": {
      "text/html": [
       "<style scoped>\n",
       "  .table-result-container {\n",
       "    max-height: 300px;\n",
       "    overflow: auto;\n",
       "  }\n",
       "  table, th, td {\n",
       "    border: 1px solid black;\n",
       "    border-collapse: collapse;\n",
       "  }\n",
       "  th, td {\n",
       "    padding: 5px;\n",
       "  }\n",
       "  th {\n",
       "    text-align: left;\n",
       "  }\n",
       "</style><div class='table-result-container'><table class='table-result'><thead style='background-color: white'><tr><th>hour</th><th>min_played</th></tr></thead><tbody><tr><td>0</td><td>18.0</td></tr><tr><td>1</td><td>161.0</td></tr><tr><td>2</td><td>979.0</td></tr><tr><td>3</td><td>929.0</td></tr><tr><td>4</td><td>892.0</td></tr><tr><td>5</td><td>1227.0</td></tr><tr><td>6</td><td>1009.0</td></tr><tr><td>7</td><td>628.0</td></tr><tr><td>8</td><td>779.0</td></tr><tr><td>9</td><td>675.0</td></tr><tr><td>10</td><td>626.0</td></tr><tr><td>11</td><td>977.0</td></tr><tr><td>12</td><td>1184.0</td></tr><tr><td>13</td><td>1537.0</td></tr><tr><td>14</td><td>868.0</td></tr><tr><td>15</td><td>907.0</td></tr><tr><td>16</td><td>1409.0</td></tr><tr><td>17</td><td>1457.0</td></tr><tr><td>18</td><td>1001.0</td></tr><tr><td>19</td><td>717.0</td></tr><tr><td>20</td><td>345.0</td></tr><tr><td>21</td><td>119.0</td></tr><tr><td>22</td><td>148.0</td></tr><tr><td>23</td><td>0.0</td></tr></tbody></table></div>"
      ]
     },
     "metadata": {
      "application/vnd.databricks.v1+output": {
       "addedWidgets": {},
       "aggData": [],
       "aggError": "",
       "aggOverflow": false,
       "aggSchema": [],
       "aggSeriesLimitReached": false,
       "aggType": "",
       "arguments": {},
       "columnCustomDisplayInfos": {},
       "data": [
        [
         0,
         18.0
        ],
        [
         1,
         161.0
        ],
        [
         2,
         979.0
        ],
        [
         3,
         929.0
        ],
        [
         4,
         892.0
        ],
        [
         5,
         1227.0
        ],
        [
         6,
         1009.0
        ],
        [
         7,
         628.0
        ],
        [
         8,
         779.0
        ],
        [
         9,
         675.0
        ],
        [
         10,
         626.0
        ],
        [
         11,
         977.0
        ],
        [
         12,
         1184.0
        ],
        [
         13,
         1537.0
        ],
        [
         14,
         868.0
        ],
        [
         15,
         907.0
        ],
        [
         16,
         1409.0
        ],
        [
         17,
         1457.0
        ],
        [
         18,
         1001.0
        ],
        [
         19,
         717.0
        ],
        [
         20,
         345.0
        ],
        [
         21,
         119.0
        ],
        [
         22,
         148.0
        ],
        [
         23,
         0.0
        ]
       ],
       "datasetInfos": [],
       "dbfsResultPath": null,
       "isJsonSchema": true,
       "metadata": {
        "isDbfsCommandResult": false
       },
       "overflow": false,
       "plotOptions": {
        "customPlotOptions": {},
        "displayType": "table",
        "pivotAggregation": null,
        "pivotColumns": null,
        "xColumns": null,
        "yColumns": null
       },
       "removedWidgets": [],
       "schema": [
        {
         "metadata": "{}",
         "name": "hour",
         "type": "\"integer\""
        },
        {
         "metadata": "{}",
         "name": "min_played",
         "type": "\"double\""
        }
       ],
       "type": "table"
      }
     },
     "output_type": "display_data"
    }
   ],
   "source": [
    "-- 23. What time of day have I listened to Spotify the most?\n",
    "SELECT hour, round((sum(ms_played)/1000)/60) as min_played FROM spotify\n",
    "GROUP BY hour\n",
    "ORDER BY hour"
   ]
  },
  {
   "cell_type": "markdown",
   "metadata": {
    "application/vnd.databricks.v1+cell": {
     "cellMetadata": {},
     "inputWidgets": {},
     "nuid": "d5a8711a-e2f1-4ee9-8674-aee723ba0f2d",
     "showTitle": false,
     "title": ""
    }
   },
   "source": [
    "This is the End of this Notebook."
   ]
  }
 ],
 "metadata": {
  "application/vnd.databricks.v1+notebook": {
   "dashboards": [],
   "language": "sql",
   "notebookMetadata": {
    "pythonIndentUnit": 4
   },
   "notebookName": "Analysis Part",
   "widgets": {}
  }
 },
 "nbformat": 4,
 "nbformat_minor": 0
}
